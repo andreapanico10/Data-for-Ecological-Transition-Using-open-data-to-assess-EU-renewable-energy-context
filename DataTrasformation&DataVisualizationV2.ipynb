{
 "cells": [
  {
   "cell_type": "code",
   "execution_count": 233,
   "id": "f3c92381",
   "metadata": {},
   "outputs": [],
   "source": [
    "import pandas as pd\n",
    "import numpy as np\n",
    "import matplotlib.pyplot as plt\n",
    "import plotly.express as px\n",
    "import seaborn as sns\n",
    "from scipy import interpolate\n",
    "from datetime import datetime as dt"
   ]
  },
  {
   "cell_type": "code",
   "execution_count": 234,
   "id": "64de91cb",
   "metadata": {},
   "outputs": [],
   "source": [
    "df = pd.read_csv('OriginalRiconciled.csv', sep = ',', low_memory=False)"
   ]
  },
  {
   "cell_type": "code",
   "execution_count": 235,
   "id": "90732c9e",
   "metadata": {},
   "outputs": [
    {
     "name": "stdout",
     "output_type": "stream",
     "text": [
      "<class 'pandas.core.frame.DataFrame'>\n",
      "RangeIndex: 1965114 entries, 0 to 1965113\n",
      "Data columns (total 29 columns):\n",
      " #   Column                       Dtype  \n",
      "---  ------                       -----  \n",
      " 0   Company_Name                 object \n",
      " 1   Project_Name                 object \n",
      " 2   Start_Date                   object \n",
      " 3   End_Date                     object \n",
      " 4   Tariff                       float64\n",
      " 5   Energy_Source_Level_1        object \n",
      " 6   Energy_Source_Level_2        object \n",
      " 7   Energy_Source_Level_3        object \n",
      " 8   Technology                   object \n",
      " 9   Capacity                     float64\n",
      " 10  Wind_Turbine_Hub_Height      float64\n",
      " 11  Wind_Turbine_Rotor_Diameter  float64\n",
      " 12  Wind_Turbine_Model           object \n",
      " 13  Wind_Turbine_Capacity        float64\n",
      " 14  Wind_Turbine_Number          float64\n",
      " 15  Solar_Mounting_Tyoe          object \n",
      " 16  CHP                          object \n",
      " 17  Region                       object \n",
      " 18  Municipality                 object \n",
      " 19  Municipality_Code            float64\n",
      " 20  Postcode                     object \n",
      " 21  Address                      object \n",
      " 22  Lat                          float64\n",
      " 23  Lon                          float64\n",
      " 24  NUTS1                        object \n",
      " 25  NUTS2                        object \n",
      " 26  NUTS3                        object \n",
      " 27  Production                   float64\n",
      " 28  Country                      object \n",
      "dtypes: float64(10), object(19)\n",
      "memory usage: 434.8+ MB\n"
     ]
    }
   ],
   "source": [
    "df.info(verbose=True)"
   ]
  },
  {
   "cell_type": "code",
   "execution_count": 236,
   "id": "28ce3c59",
   "metadata": {},
   "outputs": [
    {
     "data": {
      "text/plain": [
       "Company_Name                    object\n",
       "Project_Name                    object\n",
       "Start_Date                      object\n",
       "End_Date                        object\n",
       "Tariff                         float64\n",
       "Energy_Source_Level_1           object\n",
       "Energy_Source_Level_2           object\n",
       "Energy_Source_Level_3           object\n",
       "Technology                      object\n",
       "Capacity                       float64\n",
       "Wind_Turbine_Hub_Height        float64\n",
       "Wind_Turbine_Rotor_Diameter    float64\n",
       "Wind_Turbine_Model              object\n",
       "Wind_Turbine_Capacity          float64\n",
       "Wind_Turbine_Number            float64\n",
       "Solar_Mounting_Tyoe             object\n",
       "CHP                             object\n",
       "Region                          object\n",
       "Municipality                    object\n",
       "Municipality_Code              float64\n",
       "Postcode                        object\n",
       "Address                         object\n",
       "Lat                            float64\n",
       "Lon                            float64\n",
       "NUTS1                           object\n",
       "NUTS2                           object\n",
       "NUTS3                           object\n",
       "Production                     float64\n",
       "Country                         object\n",
       "dtype: object"
      ]
     },
     "execution_count": 236,
     "metadata": {},
     "output_type": "execute_result"
    }
   ],
   "source": [
    "df.dtypes"
   ]
  },
  {
   "cell_type": "code",
   "execution_count": 237,
   "id": "38e1b80f",
   "metadata": {},
   "outputs": [
    {
     "name": "stdout",
     "output_type": "stream",
     "text": [
      "<class 'pandas.core.frame.DataFrame'>\n",
      "Int64Index: 0 entries\n",
      "Data columns (total 29 columns):\n",
      " #   Column                       Non-Null Count  Dtype  \n",
      "---  ------                       --------------  -----  \n",
      " 0   Company_Name                 0 non-null      object \n",
      " 1   Project_Name                 0 non-null      object \n",
      " 2   Start_Date                   0 non-null      object \n",
      " 3   End_Date                     0 non-null      object \n",
      " 4   Tariff                       0 non-null      float64\n",
      " 5   Energy_Source_Level_1        0 non-null      object \n",
      " 6   Energy_Source_Level_2        0 non-null      object \n",
      " 7   Energy_Source_Level_3        0 non-null      object \n",
      " 8   Technology                   0 non-null      object \n",
      " 9   Capacity                     0 non-null      float64\n",
      " 10  Wind_Turbine_Hub_Height      0 non-null      float64\n",
      " 11  Wind_Turbine_Rotor_Diameter  0 non-null      float64\n",
      " 12  Wind_Turbine_Model           0 non-null      object \n",
      " 13  Wind_Turbine_Capacity        0 non-null      float64\n",
      " 14  Wind_Turbine_Number          0 non-null      float64\n",
      " 15  Solar_Mounting_Tyoe          0 non-null      object \n",
      " 16  CHP                          0 non-null      object \n",
      " 17  Region                       0 non-null      object \n",
      " 18  Municipality                 0 non-null      object \n",
      " 19  Municipality_Code            0 non-null      float64\n",
      " 20  Postcode                     0 non-null      object \n",
      " 21  Address                      0 non-null      object \n",
      " 22  Lat                          0 non-null      float64\n",
      " 23  Lon                          0 non-null      float64\n",
      " 24  NUTS1                        0 non-null      object \n",
      " 25  NUTS2                        0 non-null      object \n",
      " 26  NUTS3                        0 non-null      object \n",
      " 27  Production                   0 non-null      float64\n",
      " 28  Country                      0 non-null      object \n",
      "dtypes: float64(10), object(19)\n",
      "memory usage: 0.0+ bytes\n"
     ]
    }
   ],
   "source": [
    "#Verifico se in una riga ci sono production, ESL2 e capacity posti a null contemporaneamnte\n",
    "df_null_comuni = df[(df['Production'].isnull()&df['Energy_Source_Level_2'].isnull()&df['Capacity'].isnull())]\n",
    "df_null_comuni.info(verbose=True)\n",
    "#Non ce ne sono :)"
   ]
  },
  {
   "cell_type": "code",
   "execution_count": 238,
   "id": "a01863c8",
   "metadata": {},
   "outputs": [
    {
     "name": "stdout",
     "output_type": "stream",
     "text": [
      "<class 'pandas.core.frame.DataFrame'>\n",
      "RangeIndex: 1965114 entries, 0 to 1965113\n",
      "Data columns (total 29 columns):\n",
      " #   Column                       Dtype  \n",
      "---  ------                       -----  \n",
      " 0   Company_Name                 object \n",
      " 1   Project_Name                 object \n",
      " 2   Start_Date                   object \n",
      " 3   End_Date                     object \n",
      " 4   Tariff                       float64\n",
      " 5   Energy_Source_Level_1        object \n",
      " 6   Energy_Source_Level_2        object \n",
      " 7   Energy_Source_Level_3        object \n",
      " 8   Technology                   object \n",
      " 9   Capacity                     float64\n",
      " 10  Wind_Turbine_Hub_Height      float64\n",
      " 11  Wind_Turbine_Rotor_Diameter  float64\n",
      " 12  Wind_Turbine_Model           object \n",
      " 13  Wind_Turbine_Capacity        float64\n",
      " 14  Wind_Turbine_Number          float64\n",
      " 15  Solar_Mounting_Tyoe          object \n",
      " 16  CHP                          object \n",
      " 17  Region                       object \n",
      " 18  Municipality                 object \n",
      " 19  Municipality_Code            float64\n",
      " 20  Postcode                     object \n",
      " 21  Address                      object \n",
      " 22  Lat                          float64\n",
      " 23  Lon                          float64\n",
      " 24  NUTS1                        object \n",
      " 25  NUTS2                        object \n",
      " 26  NUTS3                        object \n",
      " 27  Production                   float64\n",
      " 28  Country                      object \n",
      "dtypes: float64(10), object(19)\n",
      "memory usage: 434.8+ MB\n"
     ]
    }
   ],
   "source": [
    "df.info(verbose=True)"
   ]
  },
  {
   "cell_type": "code",
   "execution_count": 239,
   "id": "7b1cf5ee",
   "metadata": {},
   "outputs": [],
   "source": [
    "#REPLACE NAN CON 0 in tutto il csv\n",
    "df = df.replace(to_replace = np.nan, value = 0)\n",
    "\n",
    "#Conversione delle colonne <object> in colonne <string>\n",
    "for y in df.columns:\n",
    "    if df[y].dtype==object:\n",
    "        df[y] = df[y].astype('string')"
   ]
  },
  {
   "cell_type": "code",
   "execution_count": 240,
   "id": "ae4b4a40",
   "metadata": {},
   "outputs": [
    {
     "name": "stdout",
     "output_type": "stream",
     "text": [
      "<class 'pandas.core.frame.DataFrame'>\n",
      "RangeIndex: 1965114 entries, 0 to 1965113\n",
      "Data columns (total 29 columns):\n",
      " #   Column                       Dtype  \n",
      "---  ------                       -----  \n",
      " 0   Company_Name                 string \n",
      " 1   Project_Name                 string \n",
      " 2   Start_Date                   string \n",
      " 3   End_Date                     string \n",
      " 4   Tariff                       float64\n",
      " 5   Energy_Source_Level_1        string \n",
      " 6   Energy_Source_Level_2        string \n",
      " 7   Energy_Source_Level_3        string \n",
      " 8   Technology                   string \n",
      " 9   Capacity                     float64\n",
      " 10  Wind_Turbine_Hub_Height      float64\n",
      " 11  Wind_Turbine_Rotor_Diameter  float64\n",
      " 12  Wind_Turbine_Model           string \n",
      " 13  Wind_Turbine_Capacity        float64\n",
      " 14  Wind_Turbine_Number          float64\n",
      " 15  Solar_Mounting_Tyoe          string \n",
      " 16  CHP                          string \n",
      " 17  Region                       string \n",
      " 18  Municipality                 string \n",
      " 19  Municipality_Code            float64\n",
      " 20  Postcode                     string \n",
      " 21  Address                      string \n",
      " 22  Lat                          float64\n",
      " 23  Lon                          float64\n",
      " 24  NUTS1                        string \n",
      " 25  NUTS2                        string \n",
      " 26  NUTS3                        string \n",
      " 27  Production                   float64\n",
      " 28  Country                      string \n",
      "dtypes: float64(10), string(19)\n",
      "memory usage: 434.8 MB\n"
     ]
    }
   ],
   "source": [
    "df.info(verbose=True)"
   ]
  },
  {
   "cell_type": "code",
   "execution_count": 241,
   "id": "cad64b2c",
   "metadata": {},
   "outputs": [],
   "source": [
    "#nelle colonne di stringhe, sostituzione di 0 con ND (Non Definito)\n",
    "for y in df.columns:\n",
    "    if df[y].dtype=='string[python]':\n",
    "        df[y].replace({\"0\": \"ND\"}, inplace=True)"
   ]
  },
  {
   "cell_type": "code",
   "execution_count": 242,
   "id": "52a3657c",
   "metadata": {},
   "outputs": [
    {
     "data": {
      "text/html": [
       "<div>\n",
       "<style scoped>\n",
       "    .dataframe tbody tr th:only-of-type {\n",
       "        vertical-align: middle;\n",
       "    }\n",
       "\n",
       "    .dataframe tbody tr th {\n",
       "        vertical-align: top;\n",
       "    }\n",
       "\n",
       "    .dataframe thead th {\n",
       "        text-align: right;\n",
       "    }\n",
       "</style>\n",
       "<table border=\"1\" class=\"dataframe\">\n",
       "  <thead>\n",
       "    <tr style=\"text-align: right;\">\n",
       "      <th></th>\n",
       "      <th>Company_Name</th>\n",
       "      <th>Project_Name</th>\n",
       "      <th>Start_Date</th>\n",
       "      <th>End_Date</th>\n",
       "      <th>Tariff</th>\n",
       "      <th>Energy_Source_Level_1</th>\n",
       "      <th>Energy_Source_Level_2</th>\n",
       "      <th>Energy_Source_Level_3</th>\n",
       "      <th>Technology</th>\n",
       "      <th>Capacity</th>\n",
       "      <th>...</th>\n",
       "      <th>Municipality_Code</th>\n",
       "      <th>Postcode</th>\n",
       "      <th>Address</th>\n",
       "      <th>Lat</th>\n",
       "      <th>Lon</th>\n",
       "      <th>NUTS1</th>\n",
       "      <th>NUTS2</th>\n",
       "      <th>NUTS3</th>\n",
       "      <th>Production</th>\n",
       "      <th>Country</th>\n",
       "    </tr>\n",
       "  </thead>\n",
       "  <tbody>\n",
       "    <tr>\n",
       "      <th>0</th>\n",
       "      <td>Otto Wartmann</td>\n",
       "      <td>BHKW Wartmann Holzhof Bissegg</td>\n",
       "      <td>2004-07-01</td>\n",
       "      <td>2024-12-31</td>\n",
       "      <td>578452.0</td>\n",
       "      <td>Renewable energy</td>\n",
       "      <td>Bioenergy</td>\n",
       "      <td>Biomass and biogas</td>\n",
       "      <td>Other or unspecified technology</td>\n",
       "      <td>0.755</td>\n",
       "      <td>...</td>\n",
       "      <td>8514.0</td>\n",
       "      <td>8514.0</td>\n",
       "      <td>Holzhof / Hüttlingerstrasse 22</td>\n",
       "      <td>47.5619</td>\n",
       "      <td>9.0353</td>\n",
       "      <td>CH0</td>\n",
       "      <td>CH05</td>\n",
       "      <td>CH057</td>\n",
       "      <td>1127.500</td>\n",
       "      <td>Switzerland</td>\n",
       "    </tr>\n",
       "    <tr>\n",
       "      <th>1</th>\n",
       "      <td>Davos Biogas GmbH</td>\n",
       "      <td>Biogasanlage Davos</td>\n",
       "      <td>2004-11-24</td>\n",
       "      <td>2024-12-31</td>\n",
       "      <td>228421.0</td>\n",
       "      <td>Renewable energy</td>\n",
       "      <td>Bioenergy</td>\n",
       "      <td>Biomass and biogas</td>\n",
       "      <td>Other or unspecified technology</td>\n",
       "      <td>0.080</td>\n",
       "      <td>...</td>\n",
       "      <td>7260.0</td>\n",
       "      <td>7260.0</td>\n",
       "      <td>Duchliweg 13</td>\n",
       "      <td>46.8083</td>\n",
       "      <td>9.8393</td>\n",
       "      <td>CH0</td>\n",
       "      <td>CH05</td>\n",
       "      <td>CH056</td>\n",
       "      <td>499.121</td>\n",
       "      <td>Switzerland</td>\n",
       "    </tr>\n",
       "    <tr>\n",
       "      <th>2</th>\n",
       "      <td>Armin Müller-Flühler</td>\n",
       "      <td>B BHKW Armin Müller-Flühler Ermensee</td>\n",
       "      <td>2005-10-04</td>\n",
       "      <td>2025-12-31</td>\n",
       "      <td>622598.0</td>\n",
       "      <td>Renewable energy</td>\n",
       "      <td>Bioenergy</td>\n",
       "      <td>Biomass and biogas</td>\n",
       "      <td>Other or unspecified technology</td>\n",
       "      <td>0.260</td>\n",
       "      <td>...</td>\n",
       "      <td>6294.0</td>\n",
       "      <td>6294.0</td>\n",
       "      <td>Grundacher 2</td>\n",
       "      <td>47.2278</td>\n",
       "      <td>8.2363</td>\n",
       "      <td>CH0</td>\n",
       "      <td>CH06</td>\n",
       "      <td>CH061</td>\n",
       "      <td>1475.020</td>\n",
       "      <td>Switzerland</td>\n",
       "    </tr>\n",
       "    <tr>\n",
       "      <th>3</th>\n",
       "      <td>Hydroelectra AG</td>\n",
       "      <td>Wasserkraftanlage Frinvillier</td>\n",
       "      <td>2006-01-01</td>\n",
       "      <td>2031-12-31</td>\n",
       "      <td>349497.0</td>\n",
       "      <td>Renewable energy</td>\n",
       "      <td>Hydro</td>\n",
       "      <td>ND</td>\n",
       "      <td>Other or unspecified technology</td>\n",
       "      <td>0.450</td>\n",
       "      <td>...</td>\n",
       "      <td>2535.0</td>\n",
       "      <td>2535.0</td>\n",
       "      <td>Rue du canal 41</td>\n",
       "      <td>47.1691</td>\n",
       "      <td>7.2549</td>\n",
       "      <td>CH0</td>\n",
       "      <td>CH02</td>\n",
       "      <td>CH021</td>\n",
       "      <td>1327.940</td>\n",
       "      <td>Switzerland</td>\n",
       "    </tr>\n",
       "    <tr>\n",
       "      <th>4</th>\n",
       "      <td>Val Biogas GmbH</td>\n",
       "      <td>Biogas Val Visp</td>\n",
       "      <td>2006-01-01</td>\n",
       "      <td>2026-12-31</td>\n",
       "      <td>598310.0</td>\n",
       "      <td>Renewable energy</td>\n",
       "      <td>Bioenergy</td>\n",
       "      <td>Biomass and biogas</td>\n",
       "      <td>Other or unspecified technology</td>\n",
       "      <td>0.480</td>\n",
       "      <td>...</td>\n",
       "      <td>3930.0</td>\n",
       "      <td>3930.0</td>\n",
       "      <td>Grosseye 12</td>\n",
       "      <td>46.2942</td>\n",
       "      <td>7.9084</td>\n",
       "      <td>CH0</td>\n",
       "      <td>CH01</td>\n",
       "      <td>CH012</td>\n",
       "      <td>1425.600</td>\n",
       "      <td>Switzerland</td>\n",
       "    </tr>\n",
       "    <tr>\n",
       "      <th>...</th>\n",
       "      <td>...</td>\n",
       "      <td>...</td>\n",
       "      <td>...</td>\n",
       "      <td>...</td>\n",
       "      <td>...</td>\n",
       "      <td>...</td>\n",
       "      <td>...</td>\n",
       "      <td>...</td>\n",
       "      <td>...</td>\n",
       "      <td>...</td>\n",
       "      <td>...</td>\n",
       "      <td>...</td>\n",
       "      <td>...</td>\n",
       "      <td>...</td>\n",
       "      <td>...</td>\n",
       "      <td>...</td>\n",
       "      <td>...</td>\n",
       "      <td>...</td>\n",
       "      <td>...</td>\n",
       "      <td>...</td>\n",
       "      <td>...</td>\n",
       "    </tr>\n",
       "    <tr>\n",
       "      <th>1965109</th>\n",
       "      <td>Větrné elektrárny Bor s.r.o.</td>\n",
       "      <td>ND</td>\n",
       "      <td>ND</td>\n",
       "      <td>ND</td>\n",
       "      <td>0.0</td>\n",
       "      <td>Renewable energy</td>\n",
       "      <td>Wind</td>\n",
       "      <td>ND</td>\n",
       "      <td>Onshore</td>\n",
       "      <td>4.520</td>\n",
       "      <td>...</td>\n",
       "      <td>0.0</td>\n",
       "      <td>348 15</td>\n",
       "      <td>ND</td>\n",
       "      <td>49.9000</td>\n",
       "      <td>12.7667</td>\n",
       "      <td>CZ0</td>\n",
       "      <td>CZ03</td>\n",
       "      <td>CZ032</td>\n",
       "      <td>0.000</td>\n",
       "      <td>Czechia</td>\n",
       "    </tr>\n",
       "    <tr>\n",
       "      <th>1965110</th>\n",
       "      <td>innogy Energo, s.r.o.</td>\n",
       "      <td>ND</td>\n",
       "      <td>ND</td>\n",
       "      <td>ND</td>\n",
       "      <td>0.0</td>\n",
       "      <td>Renewable energy</td>\n",
       "      <td>Other or unspecified</td>\n",
       "      <td>ND</td>\n",
       "      <td>ND</td>\n",
       "      <td>0.130</td>\n",
       "      <td>...</td>\n",
       "      <td>0.0</td>\n",
       "      <td>266 01</td>\n",
       "      <td>ND</td>\n",
       "      <td>49.9500</td>\n",
       "      <td>14.1000</td>\n",
       "      <td>CZ0</td>\n",
       "      <td>CZ02</td>\n",
       "      <td>CZ020</td>\n",
       "      <td>0.000</td>\n",
       "      <td>Czechia</td>\n",
       "    </tr>\n",
       "    <tr>\n",
       "      <th>1965111</th>\n",
       "      <td>ZŠ Liberec Ještědská</td>\n",
       "      <td>ND</td>\n",
       "      <td>ND</td>\n",
       "      <td>ND</td>\n",
       "      <td>0.0</td>\n",
       "      <td>Renewable energy</td>\n",
       "      <td>Other or unspecified</td>\n",
       "      <td>ND</td>\n",
       "      <td>ND</td>\n",
       "      <td>0.060</td>\n",
       "      <td>...</td>\n",
       "      <td>0.0</td>\n",
       "      <td>460 08</td>\n",
       "      <td>ND</td>\n",
       "      <td>50.7722</td>\n",
       "      <td>14.9556</td>\n",
       "      <td>CZ0</td>\n",
       "      <td>CZ05</td>\n",
       "      <td>CZ051</td>\n",
       "      <td>0.000</td>\n",
       "      <td>Czechia</td>\n",
       "    </tr>\n",
       "    <tr>\n",
       "      <th>1965112</th>\n",
       "      <td>Teplo Hranice s.r.o.</td>\n",
       "      <td>ND</td>\n",
       "      <td>ND</td>\n",
       "      <td>ND</td>\n",
       "      <td>0.0</td>\n",
       "      <td>Renewable energy</td>\n",
       "      <td>Other or unspecified</td>\n",
       "      <td>ND</td>\n",
       "      <td>ND</td>\n",
       "      <td>0.400</td>\n",
       "      <td>...</td>\n",
       "      <td>0.0</td>\n",
       "      <td>753 01</td>\n",
       "      <td>ND</td>\n",
       "      <td>49.5796</td>\n",
       "      <td>17.7333</td>\n",
       "      <td>CZ0</td>\n",
       "      <td>CZ07</td>\n",
       "      <td>CZ071</td>\n",
       "      <td>0.000</td>\n",
       "      <td>Czechia</td>\n",
       "    </tr>\n",
       "    <tr>\n",
       "      <th>1965113</th>\n",
       "      <td>SMO, městská akciová společnost Orlová</td>\n",
       "      <td>ND</td>\n",
       "      <td>ND</td>\n",
       "      <td>ND</td>\n",
       "      <td>0.0</td>\n",
       "      <td>Renewable energy</td>\n",
       "      <td>Other or unspecified</td>\n",
       "      <td>ND</td>\n",
       "      <td>ND</td>\n",
       "      <td>0.030</td>\n",
       "      <td>...</td>\n",
       "      <td>0.0</td>\n",
       "      <td>735 14</td>\n",
       "      <td>ND</td>\n",
       "      <td>49.8667</td>\n",
       "      <td>18.4167</td>\n",
       "      <td>CZ0</td>\n",
       "      <td>CZ08</td>\n",
       "      <td>CZ080</td>\n",
       "      <td>0.000</td>\n",
       "      <td>Czechia</td>\n",
       "    </tr>\n",
       "  </tbody>\n",
       "</table>\n",
       "<p>1965114 rows × 29 columns</p>\n",
       "</div>"
      ],
      "text/plain": [
       "                                   Company_Name  \\\n",
       "0                                 Otto Wartmann   \n",
       "1                             Davos Biogas GmbH   \n",
       "2                          Armin Müller-Flühler   \n",
       "3                               Hydroelectra AG   \n",
       "4                               Val Biogas GmbH   \n",
       "...                                         ...   \n",
       "1965109            Větrné elektrárny Bor s.r.o.   \n",
       "1965110                   innogy Energo, s.r.o.   \n",
       "1965111                    ZŠ Liberec Ještědská   \n",
       "1965112                    Teplo Hranice s.r.o.   \n",
       "1965113  SMO, městská akciová společnost Orlová   \n",
       "\n",
       "                                 Project_Name  Start_Date    End_Date  \\\n",
       "0              BHKW Wartmann Holzhof Bissegg   2004-07-01  2024-12-31   \n",
       "1                          Biogasanlage Davos  2004-11-24  2024-12-31   \n",
       "2        B BHKW Armin Müller-Flühler Ermensee  2005-10-04  2025-12-31   \n",
       "3               Wasserkraftanlage Frinvillier  2006-01-01  2031-12-31   \n",
       "4                             Biogas Val Visp  2006-01-01  2026-12-31   \n",
       "...                                       ...         ...         ...   \n",
       "1965109                                    ND          ND          ND   \n",
       "1965110                                    ND          ND          ND   \n",
       "1965111                                    ND          ND          ND   \n",
       "1965112                                    ND          ND          ND   \n",
       "1965113                                    ND          ND          ND   \n",
       "\n",
       "           Tariff Energy_Source_Level_1 Energy_Source_Level_2  \\\n",
       "0        578452.0      Renewable energy             Bioenergy   \n",
       "1        228421.0      Renewable energy             Bioenergy   \n",
       "2        622598.0      Renewable energy             Bioenergy   \n",
       "3        349497.0      Renewable energy                 Hydro   \n",
       "4        598310.0      Renewable energy             Bioenergy   \n",
       "...           ...                   ...                   ...   \n",
       "1965109       0.0      Renewable energy                  Wind   \n",
       "1965110       0.0      Renewable energy  Other or unspecified   \n",
       "1965111       0.0      Renewable energy  Other or unspecified   \n",
       "1965112       0.0      Renewable energy  Other or unspecified   \n",
       "1965113       0.0      Renewable energy  Other or unspecified   \n",
       "\n",
       "        Energy_Source_Level_3                       Technology  Capacity  ...  \\\n",
       "0          Biomass and biogas  Other or unspecified technology     0.755  ...   \n",
       "1          Biomass and biogas  Other or unspecified technology     0.080  ...   \n",
       "2          Biomass and biogas  Other or unspecified technology     0.260  ...   \n",
       "3                          ND  Other or unspecified technology     0.450  ...   \n",
       "4          Biomass and biogas  Other or unspecified technology     0.480  ...   \n",
       "...                       ...                              ...       ...  ...   \n",
       "1965109                    ND                          Onshore     4.520  ...   \n",
       "1965110                    ND                               ND     0.130  ...   \n",
       "1965111                    ND                               ND     0.060  ...   \n",
       "1965112                    ND                               ND     0.400  ...   \n",
       "1965113                    ND                               ND     0.030  ...   \n",
       "\n",
       "         Municipality_Code  Postcode                         Address      Lat  \\\n",
       "0                   8514.0    8514.0  Holzhof / Hüttlingerstrasse 22  47.5619   \n",
       "1                   7260.0    7260.0                    Duchliweg 13  46.8083   \n",
       "2                   6294.0    6294.0                    Grundacher 2  47.2278   \n",
       "3                   2535.0    2535.0                 Rue du canal 41  47.1691   \n",
       "4                   3930.0    3930.0                     Grosseye 12  46.2942   \n",
       "...                    ...       ...                             ...      ...   \n",
       "1965109                0.0    348 15                              ND  49.9000   \n",
       "1965110                0.0    266 01                              ND  49.9500   \n",
       "1965111                0.0    460 08                              ND  50.7722   \n",
       "1965112                0.0    753 01                              ND  49.5796   \n",
       "1965113                0.0    735 14                              ND  49.8667   \n",
       "\n",
       "             Lon NUTS1 NUTS2  NUTS3 Production      Country  \n",
       "0         9.0353   CH0  CH05  CH057   1127.500  Switzerland  \n",
       "1         9.8393   CH0  CH05  CH056    499.121  Switzerland  \n",
       "2         8.2363   CH0  CH06  CH061   1475.020  Switzerland  \n",
       "3         7.2549   CH0  CH02  CH021   1327.940  Switzerland  \n",
       "4         7.9084   CH0  CH01  CH012   1425.600  Switzerland  \n",
       "...          ...   ...   ...    ...        ...          ...  \n",
       "1965109  12.7667   CZ0  CZ03  CZ032      0.000      Czechia  \n",
       "1965110  14.1000   CZ0  CZ02  CZ020      0.000      Czechia  \n",
       "1965111  14.9556   CZ0  CZ05  CZ051      0.000      Czechia  \n",
       "1965112  17.7333   CZ0  CZ07  CZ071      0.000      Czechia  \n",
       "1965113  18.4167   CZ0  CZ08  CZ080      0.000      Czechia  \n",
       "\n",
       "[1965114 rows x 29 columns]"
      ]
     },
     "execution_count": 242,
     "metadata": {},
     "output_type": "execute_result"
    }
   ],
   "source": [
    "df"
   ]
  },
  {
   "cell_type": "code",
   "execution_count": 243,
   "id": "2b43333a",
   "metadata": {},
   "outputs": [
    {
     "data": {
      "text/plain": [
       "(1965114, 29)"
      ]
     },
     "execution_count": 243,
     "metadata": {},
     "output_type": "execute_result"
    }
   ],
   "source": [
    "df.shape"
   ]
  },
  {
   "cell_type": "code",
   "execution_count": 244,
   "id": "266fbd2b",
   "metadata": {},
   "outputs": [
    {
     "data": {
      "text/plain": [
       "(1952518, 29)"
      ]
     },
     "execution_count": 244,
     "metadata": {},
     "output_type": "execute_result"
    }
   ],
   "source": [
    "#Elimino righe duplicate\n",
    "df.drop_duplicates(subset=None, \n",
    "                          inplace=True, \n",
    "                          ignore_index=True)\n",
    "#df.drop('Unnamed: 0', inplace=True, axis=1)\n",
    "#df.drop('Unnamed: 0.1', inplace=True, axis=1)\n",
    "df.shape"
   ]
  },
  {
   "cell_type": "code",
   "execution_count": 245,
   "id": "060bc1c1",
   "metadata": {},
   "outputs": [
    {
     "name": "stdout",
     "output_type": "stream",
     "text": [
      "Energy Source Level 1 ha sempre lo stesso valore, cancello la colonna\n"
     ]
    },
    {
     "data": {
      "text/plain": [
       "(1952518, 28)"
      ]
     },
     "execution_count": 245,
     "metadata": {},
     "output_type": "execute_result"
    }
   ],
   "source": [
    "#Se la colonna ESL1 ha sempre lo stesso valore la elimino\n",
    "boolean_ESL1 = df['Energy_Source_Level_1'].str.contains('Renewable energy')\n",
    "total_occurence = boolean_ESL1.sum()\n",
    "if total_occurence==df.shape[0]:\n",
    "    print(\"Energy Source Level 1 ha sempre lo stesso valore, cancello la colonna\")\n",
    "    df.drop('Energy_Source_Level_1', inplace=True, axis=1)\n",
    "df.shape"
   ]
  },
  {
   "cell_type": "code",
   "execution_count": 246,
   "id": "719d7de0",
   "metadata": {},
   "outputs": [],
   "source": [
    "#Conversione delle colonne <object> in colonne <string>\n",
    "for y in df.columns:\n",
    "    if df[y].dtype==object:\n",
    "        df[y] = df[y].astype('string')"
   ]
  },
  {
   "cell_type": "code",
   "execution_count": 247,
   "id": "8d1943db",
   "metadata": {},
   "outputs": [
    {
     "data": {
      "text/plain": [
       "Company_Name                    string\n",
       "Project_Name                    string\n",
       "Start_Date                      string\n",
       "End_Date                        string\n",
       "Tariff                         float64\n",
       "Energy_Source_Level_2           string\n",
       "Energy_Source_Level_3           string\n",
       "Technology                      string\n",
       "Capacity                       float64\n",
       "Wind_Turbine_Hub_Height        float64\n",
       "Wind_Turbine_Rotor_Diameter    float64\n",
       "Wind_Turbine_Model              string\n",
       "Wind_Turbine_Capacity          float64\n",
       "Wind_Turbine_Number            float64\n",
       "Solar_Mounting_Tyoe             string\n",
       "CHP                             string\n",
       "Region                          string\n",
       "Municipality                    string\n",
       "Municipality_Code              float64\n",
       "Postcode                        string\n",
       "Address                         string\n",
       "Lat                            float64\n",
       "Lon                            float64\n",
       "NUTS1                           string\n",
       "NUTS2                           string\n",
       "NUTS3                           string\n",
       "Production                     float64\n",
       "Country                         string\n",
       "dtype: object"
      ]
     },
     "execution_count": 247,
     "metadata": {},
     "output_type": "execute_result"
    }
   ],
   "source": [
    "df.dtypes"
   ]
  },
  {
   "cell_type": "code",
   "execution_count": 248,
   "id": "8658fe33",
   "metadata": {},
   "outputs": [],
   "source": [
    "#Rinomina delle colonna\n",
    "df = df.rename(columns={'Company_Name':'Company', 'Project_Name':'Project','Start_Date':'Start', 'End_Date':'End', 'Energy_Source_Level_2':'ESL2', 'Energy_Source_Level_3':'ESL3','Wind_Turbine_Hub_Height':'Hub Height', 'Wind_Turbine_Rotor_Diameter':'Turbine Rotor Diameter', 'Wind_Turbine_Model':'Turbine Model', 'Wind_Turbine_Number':'Turbine Number','Wind_Turbine_Capacity':'Turbine Capacity','Solar_Mounting_Tyoe':'Solar Positioning', 'Municipality_Code':'Municipality Code'})"
   ]
  },
  {
   "cell_type": "code",
   "execution_count": 249,
   "id": "7985913a",
   "metadata": {},
   "outputs": [
    {
     "name": "stdout",
     "output_type": "stream",
     "text": [
      "0\n"
     ]
    }
   ],
   "source": [
    "#Le tariffe negative sono un dato errato, lo imposto a 0\n",
    "boolean_negativeTariff = df['Tariff'] < 0\n",
    "total_occurenceTariff = boolean_negativeTariff.sum()\n",
    "if(total_occurenceTariff>0):\n",
    "    for value in df['Tariff']:\n",
    "        if value < 0:\n",
    "            df = df.replace(to_replace = value, value = 0)\n",
    "    boolean_negativeTariff = df['Tariff'] < 0\n",
    "    total_occurenceTariff = boolean_negativeTariff.sum()\n",
    "    print(total_occurenceTariff)\n",
    "    \n",
    "#Le capacità negative sono un dato errato, lo imposto a 0\n",
    "boolean_negativeCapacity = df['Capacity'] < 0\n",
    "total_occurenceCapacity = boolean_negativeCapacity.sum()\n",
    "if(total_occurenceCapacity>0):\n",
    "    for value in df['Capacity']:\n",
    "        if value < 0:\n",
    "            df = df.replace(to_replace = value, value = 0)\n",
    "    boolean_negativeCapacity = df['Capacity'] < 0\n",
    "    total_occurenceCapacity = boolean_negativeCapacity.sum()\n",
    "    print(total_occurenceCapacity)\n",
    "\n",
    "\n",
    "boolean_negativeTurbineCapacity = df['Turbine Capacity'] < 0\n",
    "total_occurenceTurbineCapacity = boolean_negativeTurbineCapacity.sum()\n",
    "if(total_occurenceTurbineCapacity>0):\n",
    "    for value in df['Turbine Capacity']:\n",
    "        if value < 0:\n",
    "            df = df.replace(to_replace = value, value = 0)\n",
    "    boolean_negativeTurbineCapacity = df['Turbine Capacity'] < 0\n",
    "    total_occurenceTurbineCapacity = boolean_negativeCapacity.sum()\n",
    "    print(total_occurenceTurbineCapacity)\n",
    "    \n",
    "#Valori negativi di diametro sono errati, impostiamo a 0\n",
    "boolean_negativeDiameter = df['Turbine Rotor Diameter'] < 0\n",
    "total_occurenceDiameter = boolean_negativeDiameter.sum()\n",
    "if(total_occurenceDiameter>0):\n",
    "    for value in df['Turbine Rotor Diameter']:\n",
    "        if value < 0:\n",
    "            df = df.replace(to_replace = value, value = 0)\n",
    "    boolean_negativeDiameter = df['Turbine Rotor Diameter'] < 0\n",
    "    total_occurenceDiameter = boolean_negativeDiameter.sum()\n",
    "    print(total_occurenceDiameter)\n",
    "    \n",
    "#Valori negativi di altezza degli hub sono errati, impostiamo a 0\n",
    "boolean_negativeHeight = df['Hub Height'] < 0\n",
    "total_occurenceHeight = boolean_negativeHeight.sum()\n",
    "if(total_occurenceHeight>0):\n",
    "    for value in df['Hub Height']:\n",
    "        if value < 0:\n",
    "            df = df.replace(to_replace = value, value = 0)\n",
    "    boolean_negativeHeight = df['Hub Height'] < 0\n",
    "    total_occurenceHeight = boolean_negativeHeight.sum()\n",
    "    print(total_occurenceHeight)"
   ]
  },
  {
   "cell_type": "code",
   "execution_count": 250,
   "id": "e9d9e236",
   "metadata": {},
   "outputs": [
    {
     "data": {
      "text/html": [
       "<div>\n",
       "<style scoped>\n",
       "    .dataframe tbody tr th:only-of-type {\n",
       "        vertical-align: middle;\n",
       "    }\n",
       "\n",
       "    .dataframe tbody tr th {\n",
       "        vertical-align: top;\n",
       "    }\n",
       "\n",
       "    .dataframe thead th {\n",
       "        text-align: right;\n",
       "    }\n",
       "</style>\n",
       "<table border=\"1\" class=\"dataframe\">\n",
       "  <thead>\n",
       "    <tr style=\"text-align: right;\">\n",
       "      <th></th>\n",
       "      <th>Company</th>\n",
       "      <th>Project</th>\n",
       "      <th>Start</th>\n",
       "      <th>End</th>\n",
       "      <th>Tariff</th>\n",
       "      <th>ESL2</th>\n",
       "      <th>ESL3</th>\n",
       "      <th>Technology</th>\n",
       "      <th>Capacity</th>\n",
       "      <th>Hub Height</th>\n",
       "      <th>...</th>\n",
       "      <th>Municipality Code</th>\n",
       "      <th>Postcode</th>\n",
       "      <th>Address</th>\n",
       "      <th>Lat</th>\n",
       "      <th>Lon</th>\n",
       "      <th>NUTS1</th>\n",
       "      <th>NUTS2</th>\n",
       "      <th>NUTS3</th>\n",
       "      <th>Production</th>\n",
       "      <th>Country</th>\n",
       "    </tr>\n",
       "  </thead>\n",
       "  <tbody>\n",
       "    <tr>\n",
       "      <th>0</th>\n",
       "      <td>Otto Wartmann</td>\n",
       "      <td>BHKW Wartmann Holzhof Bissegg</td>\n",
       "      <td>2004-07-01</td>\n",
       "      <td>2024-12-31</td>\n",
       "      <td>578452.0</td>\n",
       "      <td>Bioenergy</td>\n",
       "      <td>Biomass and biogas</td>\n",
       "      <td>Other or unspecified technology</td>\n",
       "      <td>0.755</td>\n",
       "      <td>0.0</td>\n",
       "      <td>...</td>\n",
       "      <td>8514.0</td>\n",
       "      <td>8514.0</td>\n",
       "      <td>Holzhof / Hüttlingerstrasse 22</td>\n",
       "      <td>47.5619</td>\n",
       "      <td>9.0353</td>\n",
       "      <td>CH0</td>\n",
       "      <td>CH05</td>\n",
       "      <td>CH057</td>\n",
       "      <td>1127.500</td>\n",
       "      <td>Switzerland</td>\n",
       "    </tr>\n",
       "    <tr>\n",
       "      <th>1</th>\n",
       "      <td>Davos Biogas GmbH</td>\n",
       "      <td>Biogasanlage Davos</td>\n",
       "      <td>2004-11-24</td>\n",
       "      <td>2024-12-31</td>\n",
       "      <td>228421.0</td>\n",
       "      <td>Bioenergy</td>\n",
       "      <td>Biomass and biogas</td>\n",
       "      <td>Other or unspecified technology</td>\n",
       "      <td>0.080</td>\n",
       "      <td>0.0</td>\n",
       "      <td>...</td>\n",
       "      <td>7260.0</td>\n",
       "      <td>7260.0</td>\n",
       "      <td>Duchliweg 13</td>\n",
       "      <td>46.8083</td>\n",
       "      <td>9.8393</td>\n",
       "      <td>CH0</td>\n",
       "      <td>CH05</td>\n",
       "      <td>CH056</td>\n",
       "      <td>499.121</td>\n",
       "      <td>Switzerland</td>\n",
       "    </tr>\n",
       "    <tr>\n",
       "      <th>2</th>\n",
       "      <td>Armin Müller-Flühler</td>\n",
       "      <td>B BHKW Armin Müller-Flühler Ermensee</td>\n",
       "      <td>2005-10-04</td>\n",
       "      <td>2025-12-31</td>\n",
       "      <td>622598.0</td>\n",
       "      <td>Bioenergy</td>\n",
       "      <td>Biomass and biogas</td>\n",
       "      <td>Other or unspecified technology</td>\n",
       "      <td>0.260</td>\n",
       "      <td>0.0</td>\n",
       "      <td>...</td>\n",
       "      <td>6294.0</td>\n",
       "      <td>6294.0</td>\n",
       "      <td>Grundacher 2</td>\n",
       "      <td>47.2278</td>\n",
       "      <td>8.2363</td>\n",
       "      <td>CH0</td>\n",
       "      <td>CH06</td>\n",
       "      <td>CH061</td>\n",
       "      <td>1475.020</td>\n",
       "      <td>Switzerland</td>\n",
       "    </tr>\n",
       "    <tr>\n",
       "      <th>3</th>\n",
       "      <td>Hydroelectra AG</td>\n",
       "      <td>Wasserkraftanlage Frinvillier</td>\n",
       "      <td>2006-01-01</td>\n",
       "      <td>2031-12-31</td>\n",
       "      <td>349497.0</td>\n",
       "      <td>Hydro</td>\n",
       "      <td>ND</td>\n",
       "      <td>Other or unspecified technology</td>\n",
       "      <td>0.450</td>\n",
       "      <td>0.0</td>\n",
       "      <td>...</td>\n",
       "      <td>2535.0</td>\n",
       "      <td>2535.0</td>\n",
       "      <td>Rue du canal 41</td>\n",
       "      <td>47.1691</td>\n",
       "      <td>7.2549</td>\n",
       "      <td>CH0</td>\n",
       "      <td>CH02</td>\n",
       "      <td>CH021</td>\n",
       "      <td>1327.940</td>\n",
       "      <td>Switzerland</td>\n",
       "    </tr>\n",
       "    <tr>\n",
       "      <th>4</th>\n",
       "      <td>Val Biogas GmbH</td>\n",
       "      <td>Biogas Val Visp</td>\n",
       "      <td>2006-01-01</td>\n",
       "      <td>2026-12-31</td>\n",
       "      <td>598310.0</td>\n",
       "      <td>Bioenergy</td>\n",
       "      <td>Biomass and biogas</td>\n",
       "      <td>Other or unspecified technology</td>\n",
       "      <td>0.480</td>\n",
       "      <td>0.0</td>\n",
       "      <td>...</td>\n",
       "      <td>3930.0</td>\n",
       "      <td>3930.0</td>\n",
       "      <td>Grosseye 12</td>\n",
       "      <td>46.2942</td>\n",
       "      <td>7.9084</td>\n",
       "      <td>CH0</td>\n",
       "      <td>CH01</td>\n",
       "      <td>CH012</td>\n",
       "      <td>1425.600</td>\n",
       "      <td>Switzerland</td>\n",
       "    </tr>\n",
       "    <tr>\n",
       "      <th>...</th>\n",
       "      <td>...</td>\n",
       "      <td>...</td>\n",
       "      <td>...</td>\n",
       "      <td>...</td>\n",
       "      <td>...</td>\n",
       "      <td>...</td>\n",
       "      <td>...</td>\n",
       "      <td>...</td>\n",
       "      <td>...</td>\n",
       "      <td>...</td>\n",
       "      <td>...</td>\n",
       "      <td>...</td>\n",
       "      <td>...</td>\n",
       "      <td>...</td>\n",
       "      <td>...</td>\n",
       "      <td>...</td>\n",
       "      <td>...</td>\n",
       "      <td>...</td>\n",
       "      <td>...</td>\n",
       "      <td>...</td>\n",
       "      <td>...</td>\n",
       "    </tr>\n",
       "    <tr>\n",
       "      <th>1952513</th>\n",
       "      <td>Větrné elektrárny Bor s.r.o.</td>\n",
       "      <td>ND</td>\n",
       "      <td>ND</td>\n",
       "      <td>ND</td>\n",
       "      <td>0.0</td>\n",
       "      <td>Wind</td>\n",
       "      <td>ND</td>\n",
       "      <td>Onshore</td>\n",
       "      <td>4.520</td>\n",
       "      <td>0.0</td>\n",
       "      <td>...</td>\n",
       "      <td>0.0</td>\n",
       "      <td>348 15</td>\n",
       "      <td>ND</td>\n",
       "      <td>49.9000</td>\n",
       "      <td>12.7667</td>\n",
       "      <td>CZ0</td>\n",
       "      <td>CZ03</td>\n",
       "      <td>CZ032</td>\n",
       "      <td>0.000</td>\n",
       "      <td>Czechia</td>\n",
       "    </tr>\n",
       "    <tr>\n",
       "      <th>1952514</th>\n",
       "      <td>innogy Energo, s.r.o.</td>\n",
       "      <td>ND</td>\n",
       "      <td>ND</td>\n",
       "      <td>ND</td>\n",
       "      <td>0.0</td>\n",
       "      <td>Other or unspecified</td>\n",
       "      <td>ND</td>\n",
       "      <td>ND</td>\n",
       "      <td>0.130</td>\n",
       "      <td>0.0</td>\n",
       "      <td>...</td>\n",
       "      <td>0.0</td>\n",
       "      <td>266 01</td>\n",
       "      <td>ND</td>\n",
       "      <td>49.9500</td>\n",
       "      <td>14.1000</td>\n",
       "      <td>CZ0</td>\n",
       "      <td>CZ02</td>\n",
       "      <td>CZ020</td>\n",
       "      <td>0.000</td>\n",
       "      <td>Czechia</td>\n",
       "    </tr>\n",
       "    <tr>\n",
       "      <th>1952515</th>\n",
       "      <td>ZŠ Liberec Ještědská</td>\n",
       "      <td>ND</td>\n",
       "      <td>ND</td>\n",
       "      <td>ND</td>\n",
       "      <td>0.0</td>\n",
       "      <td>Other or unspecified</td>\n",
       "      <td>ND</td>\n",
       "      <td>ND</td>\n",
       "      <td>0.060</td>\n",
       "      <td>0.0</td>\n",
       "      <td>...</td>\n",
       "      <td>0.0</td>\n",
       "      <td>460 08</td>\n",
       "      <td>ND</td>\n",
       "      <td>50.7722</td>\n",
       "      <td>14.9556</td>\n",
       "      <td>CZ0</td>\n",
       "      <td>CZ05</td>\n",
       "      <td>CZ051</td>\n",
       "      <td>0.000</td>\n",
       "      <td>Czechia</td>\n",
       "    </tr>\n",
       "    <tr>\n",
       "      <th>1952516</th>\n",
       "      <td>Teplo Hranice s.r.o.</td>\n",
       "      <td>ND</td>\n",
       "      <td>ND</td>\n",
       "      <td>ND</td>\n",
       "      <td>0.0</td>\n",
       "      <td>Other or unspecified</td>\n",
       "      <td>ND</td>\n",
       "      <td>ND</td>\n",
       "      <td>0.400</td>\n",
       "      <td>0.0</td>\n",
       "      <td>...</td>\n",
       "      <td>0.0</td>\n",
       "      <td>753 01</td>\n",
       "      <td>ND</td>\n",
       "      <td>49.5796</td>\n",
       "      <td>17.7333</td>\n",
       "      <td>CZ0</td>\n",
       "      <td>CZ07</td>\n",
       "      <td>CZ071</td>\n",
       "      <td>0.000</td>\n",
       "      <td>Czechia</td>\n",
       "    </tr>\n",
       "    <tr>\n",
       "      <th>1952517</th>\n",
       "      <td>SMO, městská akciová společnost Orlová</td>\n",
       "      <td>ND</td>\n",
       "      <td>ND</td>\n",
       "      <td>ND</td>\n",
       "      <td>0.0</td>\n",
       "      <td>Other or unspecified</td>\n",
       "      <td>ND</td>\n",
       "      <td>ND</td>\n",
       "      <td>0.030</td>\n",
       "      <td>0.0</td>\n",
       "      <td>...</td>\n",
       "      <td>0.0</td>\n",
       "      <td>735 14</td>\n",
       "      <td>ND</td>\n",
       "      <td>49.8667</td>\n",
       "      <td>18.4167</td>\n",
       "      <td>CZ0</td>\n",
       "      <td>CZ08</td>\n",
       "      <td>CZ080</td>\n",
       "      <td>0.000</td>\n",
       "      <td>Czechia</td>\n",
       "    </tr>\n",
       "  </tbody>\n",
       "</table>\n",
       "<p>1952518 rows × 28 columns</p>\n",
       "</div>"
      ],
      "text/plain": [
       "                                        Company  \\\n",
       "0                                 Otto Wartmann   \n",
       "1                             Davos Biogas GmbH   \n",
       "2                          Armin Müller-Flühler   \n",
       "3                               Hydroelectra AG   \n",
       "4                               Val Biogas GmbH   \n",
       "...                                         ...   \n",
       "1952513            Větrné elektrárny Bor s.r.o.   \n",
       "1952514                   innogy Energo, s.r.o.   \n",
       "1952515                    ZŠ Liberec Ještědská   \n",
       "1952516                    Teplo Hranice s.r.o.   \n",
       "1952517  SMO, městská akciová společnost Orlová   \n",
       "\n",
       "                                      Project       Start         End  \\\n",
       "0              BHKW Wartmann Holzhof Bissegg   2004-07-01  2024-12-31   \n",
       "1                          Biogasanlage Davos  2004-11-24  2024-12-31   \n",
       "2        B BHKW Armin Müller-Flühler Ermensee  2005-10-04  2025-12-31   \n",
       "3               Wasserkraftanlage Frinvillier  2006-01-01  2031-12-31   \n",
       "4                             Biogas Val Visp  2006-01-01  2026-12-31   \n",
       "...                                       ...         ...         ...   \n",
       "1952513                                    ND          ND          ND   \n",
       "1952514                                    ND          ND          ND   \n",
       "1952515                                    ND          ND          ND   \n",
       "1952516                                    ND          ND          ND   \n",
       "1952517                                    ND          ND          ND   \n",
       "\n",
       "           Tariff                  ESL2                ESL3  \\\n",
       "0        578452.0             Bioenergy  Biomass and biogas   \n",
       "1        228421.0             Bioenergy  Biomass and biogas   \n",
       "2        622598.0             Bioenergy  Biomass and biogas   \n",
       "3        349497.0                 Hydro                  ND   \n",
       "4        598310.0             Bioenergy  Biomass and biogas   \n",
       "...           ...                   ...                 ...   \n",
       "1952513       0.0                  Wind                  ND   \n",
       "1952514       0.0  Other or unspecified                  ND   \n",
       "1952515       0.0  Other or unspecified                  ND   \n",
       "1952516       0.0  Other or unspecified                  ND   \n",
       "1952517       0.0  Other or unspecified                  ND   \n",
       "\n",
       "                              Technology  Capacity  Hub Height  ...  \\\n",
       "0        Other or unspecified technology     0.755         0.0  ...   \n",
       "1        Other or unspecified technology     0.080         0.0  ...   \n",
       "2        Other or unspecified technology     0.260         0.0  ...   \n",
       "3        Other or unspecified technology     0.450         0.0  ...   \n",
       "4        Other or unspecified technology     0.480         0.0  ...   \n",
       "...                                  ...       ...         ...  ...   \n",
       "1952513                          Onshore     4.520         0.0  ...   \n",
       "1952514                               ND     0.130         0.0  ...   \n",
       "1952515                               ND     0.060         0.0  ...   \n",
       "1952516                               ND     0.400         0.0  ...   \n",
       "1952517                               ND     0.030         0.0  ...   \n",
       "\n",
       "         Municipality Code Postcode                         Address      Lat  \\\n",
       "0                   8514.0   8514.0  Holzhof / Hüttlingerstrasse 22  47.5619   \n",
       "1                   7260.0   7260.0                    Duchliweg 13  46.8083   \n",
       "2                   6294.0   6294.0                    Grundacher 2  47.2278   \n",
       "3                   2535.0   2535.0                 Rue du canal 41  47.1691   \n",
       "4                   3930.0   3930.0                     Grosseye 12  46.2942   \n",
       "...                    ...      ...                             ...      ...   \n",
       "1952513                0.0   348 15                              ND  49.9000   \n",
       "1952514                0.0   266 01                              ND  49.9500   \n",
       "1952515                0.0   460 08                              ND  50.7722   \n",
       "1952516                0.0   753 01                              ND  49.5796   \n",
       "1952517                0.0   735 14                              ND  49.8667   \n",
       "\n",
       "             Lon NUTS1 NUTS2  NUTS3  Production      Country  \n",
       "0         9.0353   CH0  CH05  CH057    1127.500  Switzerland  \n",
       "1         9.8393   CH0  CH05  CH056     499.121  Switzerland  \n",
       "2         8.2363   CH0  CH06  CH061    1475.020  Switzerland  \n",
       "3         7.2549   CH0  CH02  CH021    1327.940  Switzerland  \n",
       "4         7.9084   CH0  CH01  CH012    1425.600  Switzerland  \n",
       "...          ...   ...   ...    ...         ...          ...  \n",
       "1952513  12.7667   CZ0  CZ03  CZ032       0.000      Czechia  \n",
       "1952514  14.1000   CZ0  CZ02  CZ020       0.000      Czechia  \n",
       "1952515  14.9556   CZ0  CZ05  CZ051       0.000      Czechia  \n",
       "1952516  17.7333   CZ0  CZ07  CZ071       0.000      Czechia  \n",
       "1952517  18.4167   CZ0  CZ08  CZ080       0.000      Czechia  \n",
       "\n",
       "[1952518 rows x 28 columns]"
      ]
     },
     "execution_count": 250,
     "metadata": {},
     "output_type": "execute_result"
    }
   ],
   "source": [
    "df"
   ]
  },
  {
   "cell_type": "code",
   "execution_count": 251,
   "id": "34f644fe",
   "metadata": {},
   "outputs": [
    {
     "name": "stdout",
     "output_type": "stream",
     "text": [
      "[12718, 1768292, 84314, 54195, 2508, 5528, 2614, 22349]\n",
      "['Switzerland', 'Germany', 'Denmark', 'France', 'Poland', 'Sweden', 'United Kingdom', 'Czechia']\n"
     ]
    },
    {
     "data": {
      "image/png": "[encoded data removed]",
      "text/plain": [
       "<Figure size 720x360 with 1 Axes>"
      ]
     },
     "metadata": {
      "needs_background": "light"
     },
     "output_type": "display_data"
    }
   ],
   "source": [
    "plantsForCountry = []\n",
    "country=[]\n",
    "\n",
    "for value in df['Country'].unique():\n",
    "    boolean = df['Country']==value\n",
    "    total_occurence = boolean.sum()\n",
    "    country.append(value)\n",
    "    plantsForCountry.append(total_occurence)\n",
    "print(plantsForCountry)\n",
    "print(country)\n",
    "plants = pd.DataFrame(list(zip(country,plantsForCountry)), columns = ['Country','Plants'])\n",
    "a = plants.sort_values(by='Plants', ascending=False)[:3800]\n",
    "figure = plt.figure(figsize=(10,5))\n",
    "\n",
    "sns.barplot(y=plants.Plants, x=plants.Country)\n",
    "plt.xticks()\n",
    "plt.xlabel('Country')\n",
    "plt.ylabel('Plants')\n",
    "plt.title('Number of plants per country')\n",
    "plt.show()"
   ]
  },
  {
   "cell_type": "code",
   "execution_count": 332,
   "id": "beecd1a5",
   "metadata": {},
   "outputs": [
    {
     "data": {
      "image/png": "[encoded data removed]",
      "text/plain": [
       "<Figure size 1440x720 with 1 Axes>"
      ]
     },
     "metadata": {
      "needs_background": "light"
     },
     "output_type": "display_data"
    }
   ],
   "source": [
    "tmp = df.loc[df['Country']=='Germany']\n",
    "\n",
    "source=[]\n",
    "installations=[]\n",
    "\n",
    "for s in tmp['ESL2'].unique():\n",
    "    boolean = tmp['ESL2']==s\n",
    "    source.append(s)\n",
    "    installations.append(boolean.sum())\n",
    "tmp1 = pd.DataFrame(list(zip(source, installations)), columns=['ESL2', 'NumberofPlants'])\n",
    "figure = plt.figure(figsize=(20,10))\n",
    "sns.barplot(y=tmp1.NumberofPlants, x=tmp1.ESL2)\n",
    "plt.xticks()\n",
    "plt.xlabel('Source')\n",
    "plt.ylabel('Number of plants')\n",
    "plt.title('Number of plants for renewable source in Germany')\n",
    "plt.show()"
   ]
  },
  {
   "cell_type": "code",
   "execution_count": 339,
   "id": "57699e0b",
   "metadata": {},
   "outputs": [
    {
     "data": {
      "image/png": "[encoded data removed]",
      "text/plain": [
       "<Figure size 2160x720 with 1 Axes>"
      ]
     },
     "metadata": {
      "needs_background": "light"
     },
     "output_type": "display_data"
    }
   ],
   "source": [
    "plantsForRegionDE = []\n",
    "region=[]\n",
    "\n",
    "tmp = df.loc[df['Country']=='Germany']\n",
    "tmp = tmp.loc[tmp['Region']!= 'ND']\n",
    "for value in tmp['Region'].unique():\n",
    "    boolean = df['Region']==value\n",
    "    total_occurence = boolean.sum()\n",
    "    region.append(value)\n",
    "    plantsForRegionDE.append(total_occurence)\n",
    "plants = pd.DataFrame(list(zip(region,plantsForRegionDE)), columns = ['Region','Plants'])\n",
    "a = plants.sort_values(by='Plants', ascending=False)[:3800]\n",
    "figure = plt.figure(figsize=(30,10))\n",
    "\n",
    "sns.barplot(y=plants.Plants, x=plants.Region)\n",
    "plt.xticks()\n",
    "plt.xlabel('Region')\n",
    "plt.ylabel('Plants')\n",
    "plt.title('Number of plants for Region in Germany')\n",
    "plt.show()"
   ]
  },
  {
   "cell_type": "code",
   "execution_count": 252,
   "id": "053f5f17",
   "metadata": {},
   "outputs": [
    {
     "name": "stdout",
     "output_type": "stream",
     "text": [
      "[12718, 1768292, 84314, 54195, 2508, 5528, 2614, 22349]\n",
      "['Switzerland', 'Germany', 'Denmark', 'France', 'Poland', 'Sweden', 'United Kingdom', 'Czechia']\n"
     ]
    },
    {
     "data": {
      "image/png": "[encoded data removed]",
      "text/plain": [
       "<Figure size 1440x360 with 1 Axes>"
      ]
     },
     "metadata": {
      "needs_background": "light"
     },
     "output_type": "display_data"
    }
   ],
   "source": [
    "energySource = []\n",
    "Technology=[]\n",
    "TechForSource=[]\n",
    "\n",
    "dfSource = df.loc[df['ESL2']=='Wind']\n",
    "for value in dfSource['Technology'].unique():\n",
    "    boolean = df['Technology']==value\n",
    "    total_occurence = boolean.sum()\n",
    "    Technology.append(value)\n",
    "    TechForSource.append(total_occurence)\n",
    "print(plantsForCountry)\n",
    "print(country)\n",
    "techForSourceFrame = pd.DataFrame(list(zip(Technology,TechForSource)), columns = ['Technology','Numbers'])\n",
    "\n",
    "a = techForSourceFrame.sort_values(by='Numbers', ascending=False)[:3800]\n",
    "figure = plt.figure(figsize=(20,5))\n",
    "\n",
    "sns.barplot(y=techForSourceFrame.Numbers, x=techForSourceFrame.Technology)\n",
    "plt.xticks()\n",
    "plt.xlabel('Technology')\n",
    "plt.ylabel('Numbers')\n",
    "plt.title('Technology used for wind source')\n",
    "plt.show()"
   ]
  },
  {
   "cell_type": "code",
   "execution_count": 253,
   "id": "1ac84698",
   "metadata": {},
   "outputs": [
    {
     "name": "stdout",
     "output_type": "stream",
     "text": [
      "[12718, 1768292, 84314, 54195, 2508, 5528, 2614, 22349]\n",
      "['Switzerland', 'Germany', 'Denmark', 'France', 'Poland', 'Sweden', 'United Kingdom', 'Czechia']\n"
     ]
    },
    {
     "data": {
      "image/png": "[encoded data removed]",
      "text/plain": [
       "<Figure size 720x360 with 1 Axes>"
      ]
     },
     "metadata": {
      "needs_background": "light"
     },
     "output_type": "display_data"
    }
   ],
   "source": [
    "energySource = []\n",
    "Technology=[]\n",
    "TechForSource=[]\n",
    "\n",
    "dfSource = df.loc[df['ESL2']=='Solar']\n",
    "for value in dfSource['Technology'].unique():\n",
    "    boolean = df['Technology']==value\n",
    "    total_occurence = boolean.sum()\n",
    "    Technology.append(value)\n",
    "    TechForSource.append(total_occurence)\n",
    "print(plantsForCountry)\n",
    "print(country)\n",
    "techForSourceFrame = pd.DataFrame(list(zip(Technology,TechForSource)), columns = ['Technology','Numbers'])\n",
    "\n",
    "a = techForSourceFrame.sort_values(by='Numbers', ascending=False)[:3800]\n",
    "figure = plt.figure(figsize=(10,5))\n",
    "\n",
    "sns.barplot(y=techForSourceFrame.Numbers, x=techForSourceFrame.Technology)\n",
    "plt.xticks()\n",
    "plt.xlabel('Technology')\n",
    "plt.ylabel('Numbers')\n",
    "plt.title('Technology used for Solar source')\n",
    "plt.show()"
   ]
  },
  {
   "cell_type": "code",
   "execution_count": 254,
   "id": "5bfe3b6a",
   "metadata": {},
   "outputs": [
    {
     "name": "stdout",
     "output_type": "stream",
     "text": [
      "[12718, 1768292, 84314, 54195, 2508, 5528, 2614, 22349]\n",
      "['Switzerland', 'Germany', 'Denmark', 'France', 'Poland', 'Sweden', 'United Kingdom', 'Czechia']\n"
     ]
    },
    {
     "data": {
      "image/png": "[encoded data removed]",
      "text/plain": [
       "<Figure size 720x360 with 1 Axes>"
      ]
     },
     "metadata": {
      "needs_background": "light"
     },
     "output_type": "display_data"
    }
   ],
   "source": [
    "Technology=[]\n",
    "TechForSource=[]\n",
    "\n",
    "dfSource = df.loc[df['ESL2']=='Hydro']\n",
    "for value in dfSource['Technology'].unique():\n",
    "    boolean = df['Technology']==value\n",
    "    total_occurence = boolean.sum()\n",
    "    Technology.append(value)\n",
    "    TechForSource.append(total_occurence)\n",
    "print(plantsForCountry)\n",
    "print(country)\n",
    "techForSourceFrame = pd.DataFrame(list(zip(Technology,TechForSource)), columns = ['Technology','Numbers'])\n",
    "\n",
    "a = techForSourceFrame.sort_values(by='Numbers', ascending=False)[:3800]\n",
    "figure = plt.figure(figsize=(10,5))\n",
    "\n",
    "sns.barplot(y=techForSourceFrame.Numbers, x=techForSourceFrame.Technology)\n",
    "plt.xticks()\n",
    "plt.xlabel('Technology')\n",
    "plt.ylabel('Numbers')\n",
    "plt.title('Technology used for Hydro source')\n",
    "plt.show()"
   ]
  },
  {
   "cell_type": "code",
   "execution_count": 255,
   "id": "46bd44d9",
   "metadata": {},
   "outputs": [
    {
     "name": "stdout",
     "output_type": "stream",
     "text": [
      "[12718, 1768292, 84314, 54195, 2508, 5528, 2614, 22349]\n",
      "['Switzerland', 'Germany', 'Denmark', 'France', 'Poland', 'Sweden', 'United Kingdom', 'Czechia']\n"
     ]
    },
    {
     "data": {
      "image/png": "[encoded data removed]",
      "text/plain": [
       "<Figure size 720x360 with 1 Axes>"
      ]
     },
     "metadata": {
      "needs_background": "light"
     },
     "output_type": "display_data"
    }
   ],
   "source": [
    "Technology=[]\n",
    "TechForSource=[]\n",
    "\n",
    "dfSource = df.loc[df['ESL2']=='Bioenergy']\n",
    "for value in dfSource['Technology'].unique():\n",
    "    boolean = df['Technology']==value\n",
    "    total_occurence = boolean.sum()\n",
    "    Technology.append(value)\n",
    "    TechForSource.append(total_occurence)\n",
    "print(plantsForCountry)\n",
    "print(country)\n",
    "techForSourceFrame = pd.DataFrame(list(zip(Technology,TechForSource)), columns = ['Technology','Numbers'])\n",
    "\n",
    "a = techForSourceFrame.sort_values(by='Numbers', ascending=False)[:3800]\n",
    "figure = plt.figure(figsize=(10,5))\n",
    "\n",
    "sns.barplot(y=techForSourceFrame.Numbers, x=techForSourceFrame.Technology)\n",
    "plt.xticks()\n",
    "plt.xlabel('Technology')\n",
    "plt.ylabel('Numbers')\n",
    "plt.title('Technology used for Bioenergy source')\n",
    "plt.show()"
   ]
  },
  {
   "cell_type": "code",
   "execution_count": 256,
   "id": "45c09e8e",
   "metadata": {},
   "outputs": [
    {
     "data": {
      "text/plain": [
       "<StringArray>\n",
       "[           'Bioenergy',                'Hydro',                'Solar',\n",
       "                 'Wind',           'Geothermal',               'Marine',\n",
       " 'Other or unspecified']\n",
       "Length: 7, dtype: string"
      ]
     },
     "execution_count": 256,
     "metadata": {},
     "output_type": "execute_result"
    }
   ],
   "source": [
    "df['ESL2'].unique()"
   ]
  },
  {
   "cell_type": "code",
   "execution_count": 257,
   "id": "9ef7b89b",
   "metadata": {},
   "outputs": [
    {
     "name": "stdout",
     "output_type": "stream",
     "text": [
      "['Bioenergy', 'Hydro', 'Solar', 'Wind']\n",
      "[1281.894803598485, 2557.2724051311184, 49.097896653492114, 2216.173417105263]\n"
     ]
    },
    {
     "data": {
      "image/png": "[encoded data removed]",
      "text/plain": [
       "<Figure size 720x432 with 1 Axes>"
      ]
     },
     "metadata": {
      "needs_background": "light"
     },
     "output_type": "display_data"
    }
   ],
   "source": [
    "Source=[]\n",
    "MeanProduction=[]\n",
    "df1 = df\n",
    "df1 = df.loc[df['Production']!=0]\n",
    "for source in df1['ESL2'].unique():\n",
    "    Source.append(source)\n",
    "    frameSource = df1.loc[df1['ESL2']==source]\n",
    "    MeanProduction.append(frameSource['Production'].mean())\n",
    "print(Source)\n",
    "print(MeanProduction)\n",
    "\n",
    "productionFrame = pd.DataFrame(list(zip(Source,MeanProduction)), columns = ['Source','Production'])\n",
    "\n",
    "a = productionFrame.sort_values(by='Production', ascending=False)[:3800]\n",
    "figure = plt.figure(figsize=(10,6))\n",
    "sns.barplot(y=productionFrame.Production, x=productionFrame.Source)\n",
    "plt.xticks()\n",
    "plt.xlabel('Source')\n",
    "plt.ylabel('Production (MW)')\n",
    "plt.title('Average Production for energy source')\n",
    "plt.show()\n",
    "\n",
    "#ATTENZIONE CHE LA PRODUCTION STA SOLO IN SVIZZERA QUINDI IL GRAFICO, DI FATTO, è RIFERITO SOLO\n",
    "#ALLA SVIZZERA"
   ]
  },
  {
   "cell_type": "code",
   "execution_count": 258,
   "id": "291024a9",
   "metadata": {},
   "outputs": [
    {
     "data": {
      "image/png": "[encoded data removed]",
      "text/plain": [
       "<Figure size 720x576 with 2 Axes>"
      ]
     },
     "metadata": {
      "needs_background": "light"
     },
     "output_type": "display_data"
    }
   ],
   "source": [
    "cor = df1[['Production', 'Tariff', 'Capacity']].corr()\n",
    "sns.heatmap(cor, annot=True, linewidths=0.2, cmap=\"RdBu\", vmin=-1, vmax=1)\n",
    "fig=plt.gcf()\n",
    "fig.set_size_inches(10,8)\n",
    "plt.xticks(fontsize=12)\n",
    "plt.yticks(fontsize=12)\n",
    "plt.show()"
   ]
  },
  {
   "cell_type": "code",
   "execution_count": 259,
   "id": "cac6137e",
   "metadata": {},
   "outputs": [
    {
     "data": {
      "text/plain": [
       "Company                    string\n",
       "Project                    string\n",
       "Start                      string\n",
       "End                        string\n",
       "Tariff                    float64\n",
       "ESL2                       string\n",
       "ESL3                       string\n",
       "Technology                 string\n",
       "Capacity                  float64\n",
       "Hub Height                float64\n",
       "Turbine Rotor Diameter    float64\n",
       "Turbine Model              string\n",
       "Turbine Capacity          float64\n",
       "Turbine Number            float64\n",
       "Solar Positioning          string\n",
       "CHP                        string\n",
       "Region                     string\n",
       "Municipality               string\n",
       "Municipality Code         float64\n",
       "Postcode                   string\n",
       "Address                    string\n",
       "Lat                       float64\n",
       "Lon                       float64\n",
       "NUTS1                      string\n",
       "NUTS2                      string\n",
       "NUTS3                      string\n",
       "Production                float64\n",
       "Country                    string\n",
       "dtype: object"
      ]
     },
     "execution_count": 259,
     "metadata": {},
     "output_type": "execute_result"
    }
   ],
   "source": [
    "df.dtypes"
   ]
  },
  {
   "cell_type": "code",
   "execution_count": 265,
   "id": "2ee77878",
   "metadata": {},
   "outputs": [
    {
     "data": {
      "image/png": "[encoded data removed]",
      "text/plain": [
       "<Figure size 720x720 with 1 Axes>"
      ]
     },
     "metadata": {
      "needs_background": "light"
     },
     "output_type": "display_data"
    }
   ],
   "source": [
    "TurbineModel=[]\n",
    "Number=[]\n",
    "\n",
    "df2 = df.loc[df['Turbine Model']!='ND']\n",
    "df2['Turbine Model']\n",
    "for value in df2['Turbine Model'].unique():\n",
    "    boolean = df['Turbine Model']==value\n",
    "    total_occurence = boolean.sum()\n",
    "    TurbineModel.append(value)\n",
    "    Number.append(total_occurence)\n",
    "\n",
    "techForSourceFrame = pd.DataFrame(list(zip(TurbineModel,Number)), columns = ['Model','Numbers'])\n",
    "\n",
    "a = techForSourceFrame.sort_values(by='Numbers', ascending=False)[:10]\n",
    "figure = plt.figure(figsize=(10,10))\n",
    "\n",
    "sns.barplot(y=a.Model, x=a.Numbers)\n",
    "plt.xticks()\n",
    "plt.xlabel('Turbine Model')\n",
    "plt.ylabel('Numbers')\n",
    "plt.title('Turbine model more used')\n",
    "plt.show()"
   ]
  },
  {
   "cell_type": "code",
   "execution_count": 269,
   "id": "886518c2",
   "metadata": {},
   "outputs": [
    {
     "data": {
      "image/png": "[encoded data removed]",
      "text/plain": [
       "<Figure size 720x720 with 1 Axes>"
      ]
     },
     "metadata": {
      "needs_background": "light"
     },
     "output_type": "display_data"
    }
   ],
   "source": [
    "dfH1 = df.loc[df['Hub Height']!=0]\n",
    "dfH1 = dfH1.loc[df['Hub Height']<=1]\n",
    "dfh50 = df.loc[df['Hub Height']!=0]\n",
    "dfH50 = dfh50.loc[df['Hub Height']<50]\n",
    "dfH50 = dfH50.loc[df['Hub Height']>1]\n",
    "dfh100 = df.loc[df['Hub Height']!=0]\n",
    "dfH100 = dfh100.loc[df['Hub Height']>=50]\n",
    "dfH100 = dfH100.loc[df['Hub Height']<100]\n",
    "dfh150 = df.loc[df['Hub Height']!=0]\n",
    "dfH150 = dfh150.loc[df['Hub Height']>=100]\n",
    "dfH150 = dfH150.loc[df['Hub Height']<150]\n",
    "dfh200 = df.loc[df['Hub Height']!=0]\n",
    "dfH200 = dfh200.loc[df['Hub Height']>=150]\n",
    "dfH200 = dfH200.loc[df['Hub Height']<=200]\n",
    "dfH150.shape[0]\n",
    "height = ['<1', '<50', '<100', '<150', '<=200']\n",
    "number = [dfH1.shape[0], dfH50.shape[0], dfH100.shape[0], dfH150.shape[0], dfH200.shape[0]]\n",
    "\n",
    "techForSourceFrame = pd.DataFrame(list(zip(height,number)), columns = ['Turbine_Height','Numbers'])\n",
    "\n",
    "a = techForSourceFrame.sort_values(by='Numbers', ascending=False)[:10]\n",
    "figure = plt.figure(figsize=(10,10))\n",
    "\n",
    "sns.barplot(x=a.Turbine_Height, y=a.Numbers)\n",
    "plt.xticks()\n",
    "plt.xlabel('Turbine Height (m)')\n",
    "plt.ylabel('Numbers')\n",
    "plt.title('Hub Height more used')\n",
    "plt.show()\n"
   ]
  },
  {
   "cell_type": "code",
   "execution_count": 270,
   "id": "1ce5df1f",
   "metadata": {},
   "outputs": [
    {
     "data": {
      "image/png": "[encoded data removed]",
      "text/plain": [
       "<Figure size 720x360 with 1 Axes>"
      ]
     },
     "metadata": {
      "needs_background": "light"
     },
     "output_type": "display_data"
    }
   ],
   "source": [
    "CHP=[]\n",
    "Number=[]\n",
    "\n",
    "df2 = df.loc[df['CHP']!='ND']\n",
    "df2\n",
    "for value in df2['CHP'].unique():\n",
    "    boolean = df['CHP']==value\n",
    "    total_occurence = boolean.sum()\n",
    "    CHP.append(value)\n",
    "    Number.append(total_occurence)\n",
    "\n",
    "techForSourceFrame = pd.DataFrame(list(zip(CHP,Number)), columns = ['CHP','Numbers'])\n",
    "\n",
    "a = techForSourceFrame.sort_values(by='Numbers', ascending=False)[:10]\n",
    "figure = plt.figure(figsize=(10,5))\n",
    "\n",
    "sns.barplot(y=a.CHP, x=a.Numbers)\n",
    "plt.xticks()\n",
    "plt.xlabel('Numbers')\n",
    "plt.ylabel('CHP')\n",
    "plt.title('Type of solar pannel used (CHP or not)')\n",
    "plt.show()"
   ]
  },
  {
   "cell_type": "code",
   "execution_count": null,
   "id": "bbda41da",
   "metadata": {},
   "outputs": [],
   "source": [
    "df.info(verbose = True)"
   ]
  },
  {
   "cell_type": "code",
   "execution_count": 272,
   "id": "11cd7d65",
   "metadata": {},
   "outputs": [
    {
     "data": {
      "image/png": "[encoded data removed]",
      "text/plain": [
       "<Figure size 720x432 with 1 Axes>"
      ]
     },
     "metadata": {
      "needs_background": "light"
     },
     "output_type": "display_data"
    }
   ],
   "source": [
    "Source=[]\n",
    "MeanCapacity=[]\n",
    "df1 = df\n",
    "df1 = df.loc[df['Capacity']!=0]\n",
    "for source in df1['ESL2'].unique():\n",
    "    Source.append(source)\n",
    "    frameSource = df1.loc[df1['ESL2']==source]\n",
    "    MeanCapacity.append(frameSource['Capacity'].mean())\n",
    "\n",
    "productionFrame = pd.DataFrame(list(zip(Source,MeanCapacity)), columns = ['Source','Capacity'])\n",
    "\n",
    "a = productionFrame.sort_values(by='Capacity', ascending=False)[:3800]\n",
    "figure = plt.figure(figsize=(10,6))\n",
    "sns.barplot(y=a.Capacity, x=a.Source)\n",
    "plt.xticks()\n",
    "plt.xlabel('Source')\n",
    "plt.ylabel('Capacity (MW/h)')\n",
    "plt.title('Average Capacity for energy source plant')\n",
    "plt.show()\n"
   ]
  },
  {
   "cell_type": "code",
   "execution_count": 340,
   "id": "11715dde",
   "metadata": {},
   "outputs": [
    {
     "data": {
      "image/png": "[encoded data removed]",
      "text/plain": [
       "<Figure size 2160x720 with 1 Axes>"
      ]
     },
     "metadata": {
      "needs_background": "light"
     },
     "output_type": "display_data"
    }
   ],
   "source": [
    "Company=[]\n",
    "Occurrence=[]\n",
    "\n",
    "dfSource = df.loc[df['ESL2']=='Wind']\n",
    "dfSource = dfSource.loc[df['Company']!='ND']\n",
    "for value in dfSource['Company'].unique():\n",
    "    boolean = df['Company']==value\n",
    "    total_occurence = boolean.sum()\n",
    "    Company.append(value)\n",
    "    Occurrence.append(total_occurence)\n",
    "techForSourceFrame = pd.DataFrame(list(zip(Company,Occurrence)), columns = ['Company','Numbers'])\n",
    "\n",
    "a = techForSourceFrame.sort_values(by='Numbers', ascending=False)[:10]\n",
    "figure = plt.figure(figsize=(30,10))\n",
    "\n",
    "sns.barplot(y=a.Numbers, x=a.Company)\n",
    "plt.xticks()\n",
    "plt.xlabel('Company')\n",
    "plt.ylabel('Number of contracts')\n",
    "plt.title('Dominant companies in wind energy')\n",
    "plt.show()"
   ]
  },
  {
   "cell_type": "code",
   "execution_count": 341,
   "id": "19ccf6e5",
   "metadata": {},
   "outputs": [
    {
     "ename": "KeyboardInterrupt",
     "evalue": "",
     "output_type": "error",
     "traceback": [
      "\u001b[0;31m---------------------------------------------------------------------------\u001b[0m",
      "\u001b[0;31mKeyboardInterrupt\u001b[0m                         Traceback (most recent call last)",
      "Input \u001b[0;32mIn [341]\u001b[0m, in \u001b[0;36m<module>\u001b[0;34m\u001b[0m\n\u001b[1;32m      5\u001b[0m dfSource \u001b[38;5;241m=\u001b[39m dfSource\u001b[38;5;241m.\u001b[39mloc[df[\u001b[38;5;124m'\u001b[39m\u001b[38;5;124mCompany\u001b[39m\u001b[38;5;124m'\u001b[39m]\u001b[38;5;241m!=\u001b[39m\u001b[38;5;124m'\u001b[39m\u001b[38;5;124mND\u001b[39m\u001b[38;5;124m'\u001b[39m]\n\u001b[1;32m      7\u001b[0m \u001b[38;5;28;01mfor\u001b[39;00m value \u001b[38;5;129;01min\u001b[39;00m dfSource[\u001b[38;5;124m'\u001b[39m\u001b[38;5;124mCompany\u001b[39m\u001b[38;5;124m'\u001b[39m]\u001b[38;5;241m.\u001b[39munique():\n\u001b[0;32m----> 8\u001b[0m     boolean \u001b[38;5;241m=\u001b[39m \u001b[43mdf\u001b[49m\u001b[43m[\u001b[49m\u001b[38;5;124;43m'\u001b[39;49m\u001b[38;5;124;43mCompany\u001b[39;49m\u001b[38;5;124;43m'\u001b[39;49m\u001b[43m]\u001b[49m\u001b[38;5;241;43m==\u001b[39;49m\u001b[43mvalue\u001b[49m\n\u001b[1;32m      9\u001b[0m     total_occurence \u001b[38;5;241m=\u001b[39m boolean\u001b[38;5;241m.\u001b[39msum()\n\u001b[1;32m     10\u001b[0m     Company\u001b[38;5;241m.\u001b[39mappend(value)\n",
      "File \u001b[0;32m/usr/local/lib/python3.9/site-packages/pandas/core/ops/common.py:69\u001b[0m, in \u001b[0;36m_unpack_zerodim_and_defer.<locals>.new_method\u001b[0;34m(self, other)\u001b[0m\n\u001b[1;32m     65\u001b[0m             \u001b[38;5;28;01mreturn\u001b[39;00m \u001b[38;5;28mNotImplemented\u001b[39m\n\u001b[1;32m     67\u001b[0m other \u001b[38;5;241m=\u001b[39m item_from_zerodim(other)\n\u001b[0;32m---> 69\u001b[0m \u001b[38;5;28;01mreturn\u001b[39;00m \u001b[43mmethod\u001b[49m\u001b[43m(\u001b[49m\u001b[38;5;28;43mself\u001b[39;49m\u001b[43m,\u001b[49m\u001b[43m \u001b[49m\u001b[43mother\u001b[49m\u001b[43m)\u001b[49m\n",
      "File \u001b[0;32m/usr/local/lib/python3.9/site-packages/pandas/core/arraylike.py:32\u001b[0m, in \u001b[0;36mOpsMixin.__eq__\u001b[0;34m(self, other)\u001b[0m\n\u001b[1;32m     30\u001b[0m \u001b[38;5;129m@unpack_zerodim_and_defer\u001b[39m(\u001b[38;5;124m\"\u001b[39m\u001b[38;5;124m__eq__\u001b[39m\u001b[38;5;124m\"\u001b[39m)\n\u001b[1;32m     31\u001b[0m \u001b[38;5;28;01mdef\u001b[39;00m \u001b[38;5;21m__eq__\u001b[39m(\u001b[38;5;28mself\u001b[39m, other):\n\u001b[0;32m---> 32\u001b[0m     \u001b[38;5;28;01mreturn\u001b[39;00m \u001b[38;5;28;43mself\u001b[39;49m\u001b[38;5;241;43m.\u001b[39;49m\u001b[43m_cmp_method\u001b[49m\u001b[43m(\u001b[49m\u001b[43mother\u001b[49m\u001b[43m,\u001b[49m\u001b[43m \u001b[49m\u001b[43moperator\u001b[49m\u001b[38;5;241;43m.\u001b[39;49m\u001b[43meq\u001b[49m\u001b[43m)\u001b[49m\n",
      "File \u001b[0;32m/usr/local/lib/python3.9/site-packages/pandas/core/series.py:5502\u001b[0m, in \u001b[0;36mSeries._cmp_method\u001b[0;34m(self, other, op)\u001b[0m\n\u001b[1;32m   5499\u001b[0m rvalues \u001b[38;5;241m=\u001b[39m extract_array(other, extract_numpy\u001b[38;5;241m=\u001b[39m\u001b[38;5;28;01mTrue\u001b[39;00m, extract_range\u001b[38;5;241m=\u001b[39m\u001b[38;5;28;01mTrue\u001b[39;00m)\n\u001b[1;32m   5501\u001b[0m \u001b[38;5;28;01mwith\u001b[39;00m np\u001b[38;5;241m.\u001b[39merrstate(\u001b[38;5;28mall\u001b[39m\u001b[38;5;241m=\u001b[39m\u001b[38;5;124m\"\u001b[39m\u001b[38;5;124mignore\u001b[39m\u001b[38;5;124m\"\u001b[39m):\n\u001b[0;32m-> 5502\u001b[0m     res_values \u001b[38;5;241m=\u001b[39m \u001b[43mops\u001b[49m\u001b[38;5;241;43m.\u001b[39;49m\u001b[43mcomparison_op\u001b[49m\u001b[43m(\u001b[49m\u001b[43mlvalues\u001b[49m\u001b[43m,\u001b[49m\u001b[43m \u001b[49m\u001b[43mrvalues\u001b[49m\u001b[43m,\u001b[49m\u001b[43m \u001b[49m\u001b[43mop\u001b[49m\u001b[43m)\u001b[49m\n\u001b[1;32m   5504\u001b[0m \u001b[38;5;28;01mreturn\u001b[39;00m \u001b[38;5;28mself\u001b[39m\u001b[38;5;241m.\u001b[39m_construct_result(res_values, name\u001b[38;5;241m=\u001b[39mres_name)\n",
      "File \u001b[0;32m/usr/local/lib/python3.9/site-packages/pandas/core/ops/array_ops.py:270\u001b[0m, in \u001b[0;36mcomparison_op\u001b[0;34m(left, right, op)\u001b[0m\n\u001b[1;32m    261\u001b[0m         \u001b[38;5;28;01mraise\u001b[39;00m \u001b[38;5;167;01mValueError\u001b[39;00m(\n\u001b[1;32m    262\u001b[0m             \u001b[38;5;124m\"\u001b[39m\u001b[38;5;124mLengths must match to compare\u001b[39m\u001b[38;5;124m\"\u001b[39m, lvalues\u001b[38;5;241m.\u001b[39mshape, rvalues\u001b[38;5;241m.\u001b[39mshape\n\u001b[1;32m    263\u001b[0m         )\n\u001b[1;32m    265\u001b[0m \u001b[38;5;28;01mif\u001b[39;00m should_extension_dispatch(lvalues, rvalues) \u001b[38;5;129;01mor\u001b[39;00m (\n\u001b[1;32m    266\u001b[0m     (\u001b[38;5;28misinstance\u001b[39m(rvalues, (Timedelta, BaseOffset, Timestamp)) \u001b[38;5;129;01mor\u001b[39;00m right \u001b[38;5;129;01mis\u001b[39;00m NaT)\n\u001b[1;32m    267\u001b[0m     \u001b[38;5;129;01mand\u001b[39;00m \u001b[38;5;129;01mnot\u001b[39;00m is_object_dtype(lvalues\u001b[38;5;241m.\u001b[39mdtype)\n\u001b[1;32m    268\u001b[0m ):\n\u001b[1;32m    269\u001b[0m     \u001b[38;5;66;03m# Call the method on lvalues\u001b[39;00m\n\u001b[0;32m--> 270\u001b[0m     res_values \u001b[38;5;241m=\u001b[39m \u001b[43mop\u001b[49m\u001b[43m(\u001b[49m\u001b[43mlvalues\u001b[49m\u001b[43m,\u001b[49m\u001b[43m \u001b[49m\u001b[43mrvalues\u001b[49m\u001b[43m)\u001b[49m\n\u001b[1;32m    272\u001b[0m \u001b[38;5;28;01melif\u001b[39;00m is_scalar(rvalues) \u001b[38;5;129;01mand\u001b[39;00m isna(rvalues):\n\u001b[1;32m    273\u001b[0m     \u001b[38;5;66;03m# numpy does not like comparisons vs None\u001b[39;00m\n\u001b[1;32m    274\u001b[0m     \u001b[38;5;28;01mif\u001b[39;00m op \u001b[38;5;129;01mis\u001b[39;00m operator\u001b[38;5;241m.\u001b[39mne:\n",
      "File \u001b[0;32m/usr/local/lib/python3.9/site-packages/pandas/core/ops/common.py:69\u001b[0m, in \u001b[0;36m_unpack_zerodim_and_defer.<locals>.new_method\u001b[0;34m(self, other)\u001b[0m\n\u001b[1;32m     65\u001b[0m             \u001b[38;5;28;01mreturn\u001b[39;00m \u001b[38;5;28mNotImplemented\u001b[39m\n\u001b[1;32m     67\u001b[0m other \u001b[38;5;241m=\u001b[39m item_from_zerodim(other)\n\u001b[0;32m---> 69\u001b[0m \u001b[38;5;28;01mreturn\u001b[39;00m \u001b[43mmethod\u001b[49m\u001b[43m(\u001b[49m\u001b[38;5;28;43mself\u001b[39;49m\u001b[43m,\u001b[49m\u001b[43m \u001b[49m\u001b[43mother\u001b[49m\u001b[43m)\u001b[49m\n",
      "File \u001b[0;32m/usr/local/lib/python3.9/site-packages/pandas/core/arraylike.py:32\u001b[0m, in \u001b[0;36mOpsMixin.__eq__\u001b[0;34m(self, other)\u001b[0m\n\u001b[1;32m     30\u001b[0m \u001b[38;5;129m@unpack_zerodim_and_defer\u001b[39m(\u001b[38;5;124m\"\u001b[39m\u001b[38;5;124m__eq__\u001b[39m\u001b[38;5;124m\"\u001b[39m)\n\u001b[1;32m     31\u001b[0m \u001b[38;5;28;01mdef\u001b[39;00m \u001b[38;5;21m__eq__\u001b[39m(\u001b[38;5;28mself\u001b[39m, other):\n\u001b[0;32m---> 32\u001b[0m     \u001b[38;5;28;01mreturn\u001b[39;00m \u001b[38;5;28;43mself\u001b[39;49m\u001b[38;5;241;43m.\u001b[39;49m\u001b[43m_cmp_method\u001b[49m\u001b[43m(\u001b[49m\u001b[43mother\u001b[49m\u001b[43m,\u001b[49m\u001b[43m \u001b[49m\u001b[43moperator\u001b[49m\u001b[38;5;241;43m.\u001b[39;49m\u001b[43meq\u001b[49m\u001b[43m)\u001b[49m\n",
      "File \u001b[0;32m/usr/local/lib/python3.9/site-packages/pandas/core/arrays/string_.py:508\u001b[0m, in \u001b[0;36mStringArray._cmp_method\u001b[0;34m(self, other, op)\u001b[0m\n\u001b[1;32m    505\u001b[0m \u001b[38;5;28;01melse\u001b[39;00m:\n\u001b[1;32m    506\u001b[0m     \u001b[38;5;66;03m# logical\u001b[39;00m\n\u001b[1;32m    507\u001b[0m     result \u001b[38;5;241m=\u001b[39m np\u001b[38;5;241m.\u001b[39mzeros(\u001b[38;5;28mlen\u001b[39m(\u001b[38;5;28mself\u001b[39m\u001b[38;5;241m.\u001b[39m_ndarray), dtype\u001b[38;5;241m=\u001b[39m\u001b[38;5;124m\"\u001b[39m\u001b[38;5;124mbool\u001b[39m\u001b[38;5;124m\"\u001b[39m)\n\u001b[0;32m--> 508\u001b[0m     result[valid] \u001b[38;5;241m=\u001b[39m \u001b[43mop\u001b[49m\u001b[43m(\u001b[49m\u001b[38;5;28;43mself\u001b[39;49m\u001b[38;5;241;43m.\u001b[39;49m\u001b[43m_ndarray\u001b[49m\u001b[43m[\u001b[49m\u001b[43mvalid\u001b[49m\u001b[43m]\u001b[49m\u001b[43m,\u001b[49m\u001b[43m \u001b[49m\u001b[43mother\u001b[49m\u001b[43m)\u001b[49m\n\u001b[1;32m    509\u001b[0m     \u001b[38;5;28;01mreturn\u001b[39;00m BooleanArray(result, mask)\n",
      "\u001b[0;31mKeyboardInterrupt\u001b[0m: "
     ]
    }
   ],
   "source": [
    "Company=[]\n",
    "Occurrence=[]\n",
    "\n",
    "dfSource = df.loc[df['ESL2']=='Solar']\n",
    "dfSource = dfSource.loc[df['Company']!='ND']\n",
    "\n",
    "for value in dfSource['Company'].unique():\n",
    "    boolean = df['Company']==value\n",
    "    total_occurence = boolean.sum()\n",
    "    Company.append(value)\n",
    "    Occurrence.append(total_occurence)\n",
    "techForSourceFrame = pd.DataFrame(list(zip(Company,Occurrence)), columns = ['Company','Numbers'])\n",
    "\n",
    "a = techForSourceFrame.sort_values(by='Numbers', ascending=False)[:10]\n",
    "figure = plt.figure(figsize=(30,10))\n",
    "\n",
    "sns.barplot(y=a.Numbers, x=a.Company)\n",
    "plt.xticks()\n",
    "plt.xlabel('Company')\n",
    "plt.ylabel('Number of contracts')\n",
    "plt.title('Dominant companies in solar energy')\n",
    "plt.show()"
   ]
  },
  {
   "cell_type": "code",
   "execution_count": 330,
   "id": "5cb61886",
   "metadata": {},
   "outputs": [
    {
     "data": {
      "image/png": "[encoded data removed]",
      "text/plain": [
       "<Figure size 2160x720 with 1 Axes>"
      ]
     },
     "metadata": {
      "needs_background": "light"
     },
     "output_type": "display_data"
    }
   ],
   "source": [
    "Company=[]\n",
    "Occurrence=[]\n",
    "\n",
    "dfSource = df.loc[df['ESL2']=='Bioenergy']\n",
    "dfSource = dfSource.loc[df['Company']!='ND']\n",
    "for value in dfSource['Company'].unique():\n",
    "    boolean = df['Company']==value\n",
    "    total_occurence = boolean.sum()\n",
    "    Company.append(value)\n",
    "    Occurrence.append(total_occurence)\n",
    "techForSourceFrame = pd.DataFrame(list(zip(Company,Occurrence)), columns = ['Company','Numbers'])\n",
    "\n",
    "a = techForSourceFrame.sort_values(by='Numbers', ascending=False)[:10]\n",
    "figure = plt.figure(figsize=(30,10))\n",
    "\n",
    "sns.barplot(y=a.Numbers, x=a.Company)\n",
    "plt.xticks()\n",
    "plt.xlabel('Company')\n",
    "plt.ylabel('Number of contracts')\n",
    "plt.title('Dominant companies in Bioenergy energy')\n",
    "plt.show()"
   ]
  },
  {
   "cell_type": "code",
   "execution_count": 329,
   "id": "eb60ee04",
   "metadata": {},
   "outputs": [
    {
     "data": {
      "image/png": "[encoded data removed]",
      "text/plain": [
       "<Figure size 2160x720 with 1 Axes>"
      ]
     },
     "metadata": {
      "needs_background": "light"
     },
     "output_type": "display_data"
    }
   ],
   "source": [
    "Company=[]\n",
    "Occurrence=[]\n",
    "\n",
    "dfSource = df.loc[df['ESL2']=='Hydro']\n",
    "dfSource = dfSource.loc[df['Company']!='ND']\n",
    "for value in dfSource['Company'].unique():\n",
    "    boolean = df['Company']==value\n",
    "    total_occurence = boolean.sum()\n",
    "    Company.append(value)\n",
    "    Occurrence.append(total_occurence)\n",
    "techForSourceFrame = pd.DataFrame(list(zip(Company,Occurrence)), columns = ['Company','Numbers'])\n",
    "\n",
    "a = techForSourceFrame.sort_values(by='Numbers', ascending=False)[:10]\n",
    "figure = plt.figure(figsize=(30,10))\n",
    "\n",
    "sns.barplot(y=a.Numbers, x=a.Company)\n",
    "plt.xticks()\n",
    "plt.xlabel('Company')\n",
    "plt.ylabel('Number of contracts')\n",
    "plt.title('Dominant companies in Hydro energy')\n",
    "plt.show()"
   ]
  },
  {
   "cell_type": "code",
   "execution_count": 328,
   "id": "4507d206",
   "metadata": {},
   "outputs": [
    {
     "data": {
      "image/png": "[encoded data removed]",
      "text/plain": [
       "<Figure size 2160x720 with 1 Axes>"
      ]
     },
     "metadata": {
      "needs_background": "light"
     },
     "output_type": "display_data"
    }
   ],
   "source": [
    "Company=[]\n",
    "Occurrence=[]\n",
    "\n",
    "dfSource = df.loc[df['ESL2']=='Geothermal']\n",
    "dfSource = dfSource.loc[df['Company']!='ND']\n",
    "\n",
    "for value in dfSource['Company'].unique():\n",
    "    boolean = df['Company']==value\n",
    "    total_occurence = boolean.sum()\n",
    "    Company.append(value)\n",
    "    Occurrence.append(total_occurence)\n",
    "techForSourceFrame = pd.DataFrame(list(zip(Company,Occurrence)), columns = ['Company','Numbers'])\n",
    "\n",
    "a = techForSourceFrame.sort_values(by='Numbers', ascending=False)[:10]\n",
    "figure = plt.figure(figsize=(30,10))\n",
    "\n",
    "sns.barplot(y=a.Numbers, x=a.Company)\n",
    "plt.xticks()\n",
    "plt.xlabel('Company')\n",
    "plt.ylabel('Number of contracts')\n",
    "plt.title('Dominant companies in Geothermal energy')\n",
    "plt.show()"
   ]
  },
  {
   "cell_type": "code",
   "execution_count": 286,
   "id": "154ac4d1",
   "metadata": {},
   "outputs": [
    {
     "data": {
      "text/html": [
       "<div>\n",
       "<style scoped>\n",
       "    .dataframe tbody tr th:only-of-type {\n",
       "        vertical-align: middle;\n",
       "    }\n",
       "\n",
       "    .dataframe tbody tr th {\n",
       "        vertical-align: top;\n",
       "    }\n",
       "\n",
       "    .dataframe thead th {\n",
       "        text-align: right;\n",
       "    }\n",
       "</style>\n",
       "<table border=\"1\" class=\"dataframe\">\n",
       "  <thead>\n",
       "    <tr style=\"text-align: right;\">\n",
       "      <th></th>\n",
       "      <th>Date</th>\n",
       "      <th>ESL2</th>\n",
       "      <th>Tariff</th>\n",
       "      <th>Period</th>\n",
       "      <th>Rate</th>\n",
       "    </tr>\n",
       "  </thead>\n",
       "  <tbody>\n",
       "    <tr>\n",
       "      <th>0</th>\n",
       "      <td>2004-07-01</td>\n",
       "      <td>Bioenergy</td>\n",
       "      <td>578452.0</td>\n",
       "      <td>7488</td>\n",
       "      <td>28196.444979</td>\n",
       "    </tr>\n",
       "    <tr>\n",
       "      <th>2</th>\n",
       "      <td>2005-10-04</td>\n",
       "      <td>Bioenergy</td>\n",
       "      <td>622598.0</td>\n",
       "      <td>7393</td>\n",
       "      <td>30738.302448</td>\n",
       "    </tr>\n",
       "    <tr>\n",
       "      <th>4</th>\n",
       "      <td>2006-01-01</td>\n",
       "      <td>Bioenergy</td>\n",
       "      <td>598310.0</td>\n",
       "      <td>7669</td>\n",
       "      <td>28476.092059</td>\n",
       "    </tr>\n",
       "    <tr>\n",
       "      <th>32</th>\n",
       "      <td>2006-04-01</td>\n",
       "      <td>Bioenergy</td>\n",
       "      <td>473031.0</td>\n",
       "      <td>7579</td>\n",
       "      <td>22780.883362</td>\n",
       "    </tr>\n",
       "    <tr>\n",
       "      <th>35</th>\n",
       "      <td>2006-04-01</td>\n",
       "      <td>Bioenergy</td>\n",
       "      <td>630327.0</td>\n",
       "      <td>7579</td>\n",
       "      <td>30356.162422</td>\n",
       "    </tr>\n",
       "    <tr>\n",
       "      <th>...</th>\n",
       "      <td>...</td>\n",
       "      <td>...</td>\n",
       "      <td>...</td>\n",
       "      <td>...</td>\n",
       "      <td>...</td>\n",
       "    </tr>\n",
       "    <tr>\n",
       "      <th>12689</th>\n",
       "      <td>2018-01-02</td>\n",
       "      <td>Hydro</td>\n",
       "      <td>5216570.0</td>\n",
       "      <td>9160</td>\n",
       "      <td>207865.507642</td>\n",
       "    </tr>\n",
       "    <tr>\n",
       "      <th>12699</th>\n",
       "      <td>2018-05-09</td>\n",
       "      <td>Hydro</td>\n",
       "      <td>533021.0</td>\n",
       "      <td>7327</td>\n",
       "      <td>26552.840863</td>\n",
       "    </tr>\n",
       "    <tr>\n",
       "      <th>12704</th>\n",
       "      <td>2018-06-20</td>\n",
       "      <td>Hydro</td>\n",
       "      <td>886941.0</td>\n",
       "      <td>9325</td>\n",
       "      <td>34716.725469</td>\n",
       "    </tr>\n",
       "    <tr>\n",
       "      <th>12705</th>\n",
       "      <td>2018-06-20</td>\n",
       "      <td>Hydro</td>\n",
       "      <td>753709.0</td>\n",
       "      <td>9325</td>\n",
       "      <td>29501.746381</td>\n",
       "    </tr>\n",
       "    <tr>\n",
       "      <th>12710</th>\n",
       "      <td>2018-09-17</td>\n",
       "      <td>Hydro</td>\n",
       "      <td>553994.0</td>\n",
       "      <td>7318</td>\n",
       "      <td>27631.567368</td>\n",
       "    </tr>\n",
       "  </tbody>\n",
       "</table>\n",
       "<p>205 rows × 5 columns</p>\n",
       "</div>"
      ],
      "text/plain": [
       "            Date       ESL2     Tariff  Period           Rate\n",
       "0     2004-07-01  Bioenergy   578452.0    7488   28196.444979\n",
       "2     2005-10-04  Bioenergy   622598.0    7393   30738.302448\n",
       "4     2006-01-01  Bioenergy   598310.0    7669   28476.092059\n",
       "32    2006-04-01  Bioenergy   473031.0    7579   22780.883362\n",
       "35    2006-04-01  Bioenergy   630327.0    7579   30356.162422\n",
       "...          ...        ...        ...     ...            ...\n",
       "12689 2018-01-02      Hydro  5216570.0    9160  207865.507642\n",
       "12699 2018-05-09      Hydro   533021.0    7327   26552.840863\n",
       "12704 2018-06-20      Hydro   886941.0    9325   34716.725469\n",
       "12705 2018-06-20      Hydro   753709.0    9325   29501.746381\n",
       "12710 2018-09-17      Hydro   553994.0    7318   27631.567368\n",
       "\n",
       "[205 rows x 5 columns]"
      ]
     },
     "execution_count": 286,
     "metadata": {},
     "output_type": "execute_result"
    }
   ],
   "source": [
    "dFrame1"
   ]
  },
  {
   "cell_type": "code",
   "execution_count": 327,
   "id": "dff5afc6",
   "metadata": {},
   "outputs": [
    {
     "name": "stdout",
     "output_type": "stream",
     "text": [
      "[1, 1, 1, 1, 1, 1]\n"
     ]
    },
    {
     "data": {
      "image/png": "[encoded data removed]",
      "text/plain": [
       "<Figure size 2160x720 with 1 Axes>"
      ]
     },
     "metadata": {
      "needs_background": "light"
     },
     "output_type": "display_data"
    }
   ],
   "source": [
    "Company=[]\n",
    "Occurrence=[]\n",
    "\n",
    "dfSource = df.loc[df['ESL2']=='Marine']\n",
    "dfSource = dfSource.loc[df['Company']!='ND']\n",
    "for value in dfSource['Company'].unique():\n",
    "    boolean = df['Company']==value\n",
    "    total_occurence = boolean.sum()\n",
    "    Company.append(value)\n",
    "    Occurrence.append(total_occurence)\n",
    "techForSourceFrame = pd.DataFrame(list(zip(Company,Occurrence)), columns = ['Company','Numbers'])\n",
    "print(Occurrence)\n",
    "a = techForSourceFrame.sort_values(by='Numbers', ascending=False)[:20]\n",
    "figure = plt.figure(figsize=(30,10))\n",
    "\n",
    "sns.barplot(y=a.Numbers, x=a.Company)\n",
    "plt.xticks()\n",
    "plt.xlabel('Company')\n",
    "plt.ylabel('Number of contracts')\n",
    "plt.title('Dominant companies in Marine energy')\n",
    "plt.show()"
   ]
  },
  {
   "cell_type": "code",
   "execution_count": 342,
   "id": "3f055dd9",
   "metadata": {},
   "outputs": [
    {
     "data": {
      "image/png": "[encoded data removed]",
      "text/plain": [
       "<Figure size 1800x720 with 1 Axes>"
      ]
     },
     "metadata": {
      "needs_background": "light"
     },
     "output_type": "display_data"
    }
   ],
   "source": [
    "Region=[]\n",
    "Production=[]\n",
    "tmp = df.loc[df['Production']!=0]\n",
    "tmp\n",
    "tmp1 = tmp.sort_values(by='Production', ascending=False)[:20]\n",
    "figure = plt.figure(figsize=(25,10))\n",
    "sns.barplot(y=tmp1.Production, x=tmp1.Region)\n",
    "plt.xticks()\n",
    "plt.xlabel('Region')\n",
    "plt.ylabel('Production (MW)')\n",
    "plt.title('Region with highest production of renewable energy')\n",
    "plt.show()"
   ]
  },
  {
   "cell_type": "code",
   "execution_count": 289,
   "id": "4fa25586",
   "metadata": {},
   "outputs": [
    {
     "name": "stderr",
     "output_type": "stream",
     "text": [
      "/var/folders/3b/frlndxt95vb5hp0n0wy3v7d40000gn/T/ipykernel_736/3461838386.py:3: SettingWithCopyWarning:\n",
      "\n",
      "\n",
      "A value is trying to be set on a copy of a slice from a DataFrame.\n",
      "Try using .loc[row_indexer,col_indexer] = value instead\n",
      "\n",
      "See the caveats in the documentation: https://pandas.pydata.org/pandas-docs/stable/user_guide/indexing.html#returning-a-view-versus-a-copy\n",
      "\n",
      "/var/folders/3b/frlndxt95vb5hp0n0wy3v7d40000gn/T/ipykernel_736/3461838386.py:5: SettingWithCopyWarning:\n",
      "\n",
      "\n",
      "A value is trying to be set on a copy of a slice from a DataFrame.\n",
      "Try using .loc[row_indexer,col_indexer] = value instead\n",
      "\n",
      "See the caveats in the documentation: https://pandas.pydata.org/pandas-docs/stable/user_guide/indexing.html#returning-a-view-versus-a-copy\n",
      "\n"
     ]
    }
   ],
   "source": [
    "df1 = df\n",
    "df1 = df1.loc[df['Start']!='ND']\n",
    "df1[\"Start\"] = df1[\"Start\"].map(lambda x: dt.strptime(x, '%Y-%m-%d'))\n",
    "df2 = df1.loc[df['End']!='ND']\n",
    "df2[\"End\"] = df2[\"End\"].map(lambda x: dt.strptime(x, '%Y-%m-%d'))"
   ]
  },
  {
   "cell_type": "code",
   "execution_count": 326,
   "id": "24b608b9",
   "metadata": {},
   "outputs": [
    {
     "name": "stderr",
     "output_type": "stream",
     "text": [
      "/var/folders/3b/frlndxt95vb5hp0n0wy3v7d40000gn/T/ipykernel_736/141591434.py:9: SettingWithCopyWarning:\n",
      "\n",
      "\n",
      "A value is trying to be set on a copy of a slice from a DataFrame.\n",
      "Try using .loc[row_indexer,col_indexer] = value instead\n",
      "\n",
      "See the caveats in the documentation: https://pandas.pydata.org/pandas-docs/stable/user_guide/indexing.html#returning-a-view-versus-a-copy\n",
      "\n"
     ]
    },
    {
     "data": {
      "application/vnd.plotly.v1+json": {
       "config": {
        "plotlyServerURL": "https://plot.ly"
       },
       "data": [
        {
         "hovertemplate": "ESL2=Bioenergy<br>Year=%{x}<br>numberOfPlants=%{y}<extra></extra>",
         "legendgroup": "Bioenergy",
         "line": {
          "color": "#1F77B4",
          "dash": "solid"
         },
         "marker": {
          "symbol": "circle"
         },
         "mode": "lines",
         "name": "Bioenergy",
         "orientation": "v",
         "showlegend": true,
         "type": "scatter",
         "x": [
          2004,
          2005,
          2006,
          2007,
          2008,
          2009,
          2010,
          2011,
          2012,
          2013,
          2014,
          2015,
          2016,
          2017,
          2018
         ],
         "xaxis": "x",
         "y": [
          2,
          1,
          20,
          20,
          25,
          40,
          29,
          38,
          27,
          23,
          10,
          10,
          10,
          2,
          10
         ],
         "yaxis": "y"
        },
        {
         "hovertemplate": "ESL2=Hydro<br>Year=%{x}<br>numberOfPlants=%{y}<extra></extra>",
         "legendgroup": "Hydro",
         "line": {
          "color": "#FF7F0E",
          "dash": "solid"
         },
         "marker": {
          "symbol": "circle"
         },
         "mode": "lines",
         "name": "Hydro",
         "orientation": "v",
         "showlegend": true,
         "type": "scatter",
         "x": [
          2006,
          2007,
          2008,
          2009,
          2010,
          2011,
          2012,
          2013,
          2014,
          2015,
          2016,
          2017,
          2018
         ],
         "xaxis": "x",
         "y": [
          30,
          29,
          46,
          51,
          61,
          43,
          65,
          63,
          55,
          35,
          51,
          31,
          16
         ],
         "yaxis": "y"
        },
        {
         "hovertemplate": "ESL2=Solar<br>Year=%{x}<br>numberOfPlants=%{y}<extra></extra>",
         "legendgroup": "Solar",
         "line": {
          "color": "#2CA02C",
          "dash": "solid"
         },
         "marker": {
          "symbol": "circle"
         },
         "mode": "lines",
         "name": "Solar",
         "orientation": "v",
         "showlegend": true,
         "type": "scatter",
         "x": [
          2006,
          2007,
          2008,
          2009,
          2010,
          2011,
          2012,
          2013,
          2014,
          2015,
          2016,
          2017,
          2018
         ],
         "xaxis": "x",
         "y": [
          144,
          372,
          1095,
          1633,
          1550,
          3338,
          1547,
          822,
          323,
          647,
          279,
          92,
          4
         ],
         "yaxis": "y"
        },
        {
         "hovertemplate": "ESL2=Wind<br>Year=%{x}<br>numberOfPlants=%{y}<extra></extra>",
         "legendgroup": "Wind",
         "line": {
          "color": "#D62728",
          "dash": "solid"
         },
         "marker": {
          "symbol": "circle"
         },
         "mode": "lines",
         "name": "Wind",
         "orientation": "v",
         "showlegend": true,
         "type": "scatter",
         "x": [
          2006,
          2007,
          2008,
          2009,
          2010,
          2012,
          2013,
          2014,
          2015,
          2016
         ],
         "xaxis": "x",
         "y": [
          1,
          1,
          1,
          1,
          13,
          5,
          6,
          1,
          2,
          8
         ],
         "yaxis": "y"
        }
       ],
       "layout": {
        "legend": {
         "title": {
          "text": "ESL2"
         },
         "tracegroupgap": 0
        },
        "template": {
         "data": {
          "bar": [
           {
            "error_x": {
             "color": "rgb(36,36,36)"
            },
            "error_y": {
             "color": "rgb(36,36,36)"
            },
            "marker": {
             "line": {
              "color": "white",
              "width": 0.5
             },
             "pattern": {
              "fillmode": "overlay",
              "size": 10,
              "solidity": 0.2
             }
            },
            "type": "bar"
           }
          ],
          "barpolar": [
           {
            "marker": {
             "line": {
              "color": "white",
              "width": 0.5
             },
             "pattern": {
              "fillmode": "overlay",
              "size": 10,
              "solidity": 0.2
             }
            },
            "type": "barpolar"
           }
          ],
          "carpet": [
           {
            "aaxis": {
             "endlinecolor": "rgb(36,36,36)",
             "gridcolor": "white",
             "linecolor": "white",
             "minorgridcolor": "white",
             "startlinecolor": "rgb(36,36,36)"
            },
            "baxis": {
             "endlinecolor": "rgb(36,36,36)",
             "gridcolor": "white",
             "linecolor": "white",
             "minorgridcolor": "white",
             "startlinecolor": "rgb(36,36,36)"
            },
            "type": "carpet"
           }
          ],
          "choropleth": [
           {
            "colorbar": {
             "outlinewidth": 1,
             "tickcolor": "rgb(36,36,36)",
             "ticks": "outside"
            },
            "type": "choropleth"
           }
          ],
          "contour": [
           {
            "colorbar": {
             "outlinewidth": 1,
             "tickcolor": "rgb(36,36,36)",
             "ticks": "outside"
            },
            "colorscale": [
             [
              0,
              "#440154"
             ],
             [
              0.1111111111111111,
              "#482878"
             ],
             [
              0.2222222222222222,
              "#3e4989"
             ],
             [
              0.3333333333333333,
              "#31688e"
             ],
             [
              0.4444444444444444,
              "#26828e"
             ],
             [
              0.5555555555555556,
              "#1f9e89"
             ],
             [
              0.6666666666666666,
              "#35b779"
             ],
             [
              0.7777777777777778,
              "#6ece58"
             ],
             [
              0.8888888888888888,
              "#b5de2b"
             ],
             [
              1,
              "#fde725"
             ]
            ],
            "type": "contour"
           }
          ],
          "contourcarpet": [
           {
            "colorbar": {
             "outlinewidth": 1,
             "tickcolor": "rgb(36,36,36)",
             "ticks": "outside"
            },
            "type": "contourcarpet"
           }
          ],
          "heatmap": [
           {
            "colorbar": {
             "outlinewidth": 1,
             "tickcolor": "rgb(36,36,36)",
             "ticks": "outside"
            },
            "colorscale": [
             [
              0,
              "#440154"
             ],
             [
              0.1111111111111111,
              "#482878"
             ],
             [
              0.2222222222222222,
              "#3e4989"
             ],
             [
              0.3333333333333333,
              "#31688e"
             ],
             [
              0.4444444444444444,
              "#26828e"
             ],
             [
              0.5555555555555556,
              "#1f9e89"
             ],
             [
              0.6666666666666666,
              "#35b779"
             ],
             [
              0.7777777777777778,
              "#6ece58"
             ],
             [
              0.8888888888888888,
              "#b5de2b"
             ],
             [
              1,
              "#fde725"
             ]
            ],
            "type": "heatmap"
           }
          ],
          "heatmapgl": [
           {
            "colorbar": {
             "outlinewidth": 1,
             "tickcolor": "rgb(36,36,36)",
             "ticks": "outside"
            },
            "colorscale": [
             [
              0,
              "#440154"
             ],
             [
              0.1111111111111111,
              "#482878"
             ],
             [
              0.2222222222222222,
              "#3e4989"
             ],
             [
              0.3333333333333333,
              "#31688e"
             ],
             [
              0.4444444444444444,
              "#26828e"
             ],
             [
              0.5555555555555556,
              "#1f9e89"
             ],
             [
              0.6666666666666666,
              "#35b779"
             ],
             [
              0.7777777777777778,
              "#6ece58"
             ],
             [
              0.8888888888888888,
              "#b5de2b"
             ],
             [
              1,
              "#fde725"
             ]
            ],
            "type": "heatmapgl"
           }
          ],
          "histogram": [
           {
            "marker": {
             "line": {
              "color": "white",
              "width": 0.6
             }
            },
            "type": "histogram"
           }
          ],
          "histogram2d": [
           {
            "colorbar": {
             "outlinewidth": 1,
             "tickcolor": "rgb(36,36,36)",
             "ticks": "outside"
            },
            "colorscale": [
             [
              0,
              "#440154"
             ],
             [
              0.1111111111111111,
              "#482878"
             ],
             [
              0.2222222222222222,
              "#3e4989"
             ],
             [
              0.3333333333333333,
              "#31688e"
             ],
             [
              0.4444444444444444,
              "#26828e"
             ],
             [
              0.5555555555555556,
              "#1f9e89"
             ],
             [
              0.6666666666666666,
              "#35b779"
             ],
             [
              0.7777777777777778,
              "#6ece58"
             ],
             [
              0.8888888888888888,
              "#b5de2b"
             ],
             [
              1,
              "#fde725"
             ]
            ],
            "type": "histogram2d"
           }
          ],
          "histogram2dcontour": [
           {
            "colorbar": {
             "outlinewidth": 1,
             "tickcolor": "rgb(36,36,36)",
             "ticks": "outside"
            },
            "colorscale": [
             [
              0,
              "#440154"
             ],
             [
              0.1111111111111111,
              "#482878"
             ],
             [
              0.2222222222222222,
              "#3e4989"
             ],
             [
              0.3333333333333333,
              "#31688e"
             ],
             [
              0.4444444444444444,
              "#26828e"
             ],
             [
              0.5555555555555556,
              "#1f9e89"
             ],
             [
              0.6666666666666666,
              "#35b779"
             ],
             [
              0.7777777777777778,
              "#6ece58"
             ],
             [
              0.8888888888888888,
              "#b5de2b"
             ],
             [
              1,
              "#fde725"
             ]
            ],
            "type": "histogram2dcontour"
           }
          ],
          "mesh3d": [
           {
            "colorbar": {
             "outlinewidth": 1,
             "tickcolor": "rgb(36,36,36)",
             "ticks": "outside"
            },
            "type": "mesh3d"
           }
          ],
          "parcoords": [
           {
            "line": {
             "colorbar": {
              "outlinewidth": 1,
              "tickcolor": "rgb(36,36,36)",
              "ticks": "outside"
             }
            },
            "type": "parcoords"
           }
          ],
          "pie": [
           {
            "automargin": true,
            "type": "pie"
           }
          ],
          "scatter": [
           {
            "marker": {
             "colorbar": {
              "outlinewidth": 1,
              "tickcolor": "rgb(36,36,36)",
              "ticks": "outside"
             }
            },
            "type": "scatter"
           }
          ],
          "scatter3d": [
           {
            "line": {
             "colorbar": {
              "outlinewidth": 1,
              "tickcolor": "rgb(36,36,36)",
              "ticks": "outside"
             }
            },
            "marker": {
             "colorbar": {
              "outlinewidth": 1,
              "tickcolor": "rgb(36,36,36)",
              "ticks": "outside"
             }
            },
            "type": "scatter3d"
           }
          ],
          "scattercarpet": [
           {
            "marker": {
             "colorbar": {
              "outlinewidth": 1,
              "tickcolor": "rgb(36,36,36)",
              "ticks": "outside"
             }
            },
            "type": "scattercarpet"
           }
          ],
          "scattergeo": [
           {
            "marker": {
             "colorbar": {
              "outlinewidth": 1,
              "tickcolor": "rgb(36,36,36)",
              "ticks": "outside"
             }
            },
            "type": "scattergeo"
           }
          ],
          "scattergl": [
           {
            "marker": {
             "colorbar": {
              "outlinewidth": 1,
              "tickcolor": "rgb(36,36,36)",
              "ticks": "outside"
             }
            },
            "type": "scattergl"
           }
          ],
          "scattermapbox": [
           {
            "marker": {
             "colorbar": {
              "outlinewidth": 1,
              "tickcolor": "rgb(36,36,36)",
              "ticks": "outside"
             }
            },
            "type": "scattermapbox"
           }
          ],
          "scatterpolar": [
           {
            "marker": {
             "colorbar": {
              "outlinewidth": 1,
              "tickcolor": "rgb(36,36,36)",
              "ticks": "outside"
             }
            },
            "type": "scatterpolar"
           }
          ],
          "scatterpolargl": [
           {
            "marker": {
             "colorbar": {
              "outlinewidth": 1,
              "tickcolor": "rgb(36,36,36)",
              "ticks": "outside"
             }
            },
            "type": "scatterpolargl"
           }
          ],
          "scatterternary": [
           {
            "marker": {
             "colorbar": {
              "outlinewidth": 1,
              "tickcolor": "rgb(36,36,36)",
              "ticks": "outside"
             }
            },
            "type": "scatterternary"
           }
          ],
          "surface": [
           {
            "colorbar": {
             "outlinewidth": 1,
             "tickcolor": "rgb(36,36,36)",
             "ticks": "outside"
            },
            "colorscale": [
             [
              0,
              "#440154"
             ],
             [
              0.1111111111111111,
              "#482878"
             ],
             [
              0.2222222222222222,
              "#3e4989"
             ],
             [
              0.3333333333333333,
              "#31688e"
             ],
             [
              0.4444444444444444,
              "#26828e"
             ],
             [
              0.5555555555555556,
              "#1f9e89"
             ],
             [
              0.6666666666666666,
              "#35b779"
             ],
             [
              0.7777777777777778,
              "#6ece58"
             ],
             [
              0.8888888888888888,
              "#b5de2b"
             ],
             [
              1,
              "#fde725"
             ]
            ],
            "type": "surface"
           }
          ],
          "table": [
           {
            "cells": {
             "fill": {
              "color": "rgb(237,237,237)"
             },
             "line": {
              "color": "white"
             }
            },
            "header": {
             "fill": {
              "color": "rgb(217,217,217)"
             },
             "line": {
              "color": "white"
             }
            },
            "type": "table"
           }
          ]
         },
         "layout": {
          "annotationdefaults": {
           "arrowhead": 0,
           "arrowwidth": 1
          },
          "autotypenumbers": "strict",
          "coloraxis": {
           "colorbar": {
            "outlinewidth": 1,
            "tickcolor": "rgb(36,36,36)",
            "ticks": "outside"
           }
          },
          "colorscale": {
           "diverging": [
            [
             0,
             "rgb(103,0,31)"
            ],
            [
             0.1,
             "rgb(178,24,43)"
            ],
            [
             0.2,
             "rgb(214,96,77)"
            ],
            [
             0.3,
             "rgb(244,165,130)"
            ],
            [
             0.4,
             "rgb(253,219,199)"
            ],
            [
             0.5,
             "rgb(247,247,247)"
            ],
            [
             0.6,
             "rgb(209,229,240)"
            ],
            [
             0.7,
             "rgb(146,197,222)"
            ],
            [
             0.8,
             "rgb(67,147,195)"
            ],
            [
             0.9,
             "rgb(33,102,172)"
            ],
            [
             1,
             "rgb(5,48,97)"
            ]
           ],
           "sequential": [
            [
             0,
             "#440154"
            ],
            [
             0.1111111111111111,
             "#482878"
            ],
            [
             0.2222222222222222,
             "#3e4989"
            ],
            [
             0.3333333333333333,
             "#31688e"
            ],
            [
             0.4444444444444444,
             "#26828e"
            ],
            [
             0.5555555555555556,
             "#1f9e89"
            ],
            [
             0.6666666666666666,
             "#35b779"
            ],
            [
             0.7777777777777778,
             "#6ece58"
            ],
            [
             0.8888888888888888,
             "#b5de2b"
            ],
            [
             1,
             "#fde725"
            ]
           ],
           "sequentialminus": [
            [
             0,
             "#440154"
            ],
            [
             0.1111111111111111,
             "#482878"
            ],
            [
             0.2222222222222222,
             "#3e4989"
            ],
            [
             0.3333333333333333,
             "#31688e"
            ],
            [
             0.4444444444444444,
             "#26828e"
            ],
            [
             0.5555555555555556,
             "#1f9e89"
            ],
            [
             0.6666666666666666,
             "#35b779"
            ],
            [
             0.7777777777777778,
             "#6ece58"
            ],
            [
             0.8888888888888888,
             "#b5de2b"
            ],
            [
             1,
             "#fde725"
            ]
           ]
          },
          "colorway": [
           "#1F77B4",
           "#FF7F0E",
           "#2CA02C",
           "#D62728",
           "#9467BD",
           "#8C564B",
           "#E377C2",
           "#7F7F7F",
           "#BCBD22",
           "#17BECF"
          ],
          "font": {
           "color": "rgb(36,36,36)"
          },
          "geo": {
           "bgcolor": "white",
           "lakecolor": "white",
           "landcolor": "white",
           "showlakes": true,
           "showland": true,
           "subunitcolor": "white"
          },
          "hoverlabel": {
           "align": "left"
          },
          "hovermode": "closest",
          "mapbox": {
           "style": "light"
          },
          "paper_bgcolor": "white",
          "plot_bgcolor": "white",
          "polar": {
           "angularaxis": {
            "gridcolor": "rgb(232,232,232)",
            "linecolor": "rgb(36,36,36)",
            "showgrid": false,
            "showline": true,
            "ticks": "outside"
           },
           "bgcolor": "white",
           "radialaxis": {
            "gridcolor": "rgb(232,232,232)",
            "linecolor": "rgb(36,36,36)",
            "showgrid": false,
            "showline": true,
            "ticks": "outside"
           }
          },
          "scene": {
           "xaxis": {
            "backgroundcolor": "white",
            "gridcolor": "rgb(232,232,232)",
            "gridwidth": 2,
            "linecolor": "rgb(36,36,36)",
            "showbackground": true,
            "showgrid": false,
            "showline": true,
            "ticks": "outside",
            "zeroline": false,
            "zerolinecolor": "rgb(36,36,36)"
           },
           "yaxis": {
            "backgroundcolor": "white",
            "gridcolor": "rgb(232,232,232)",
            "gridwidth": 2,
            "linecolor": "rgb(36,36,36)",
            "showbackground": true,
            "showgrid": false,
            "showline": true,
            "ticks": "outside",
            "zeroline": false,
            "zerolinecolor": "rgb(36,36,36)"
           },
           "zaxis": {
            "backgroundcolor": "white",
            "gridcolor": "rgb(232,232,232)",
            "gridwidth": 2,
            "linecolor": "rgb(36,36,36)",
            "showbackground": true,
            "showgrid": false,
            "showline": true,
            "ticks": "outside",
            "zeroline": false,
            "zerolinecolor": "rgb(36,36,36)"
           }
          },
          "shapedefaults": {
           "fillcolor": "black",
           "line": {
            "width": 0
           },
           "opacity": 0.3
          },
          "ternary": {
           "aaxis": {
            "gridcolor": "rgb(232,232,232)",
            "linecolor": "rgb(36,36,36)",
            "showgrid": false,
            "showline": true,
            "ticks": "outside"
           },
           "baxis": {
            "gridcolor": "rgb(232,232,232)",
            "linecolor": "rgb(36,36,36)",
            "showgrid": false,
            "showline": true,
            "ticks": "outside"
           },
           "bgcolor": "white",
           "caxis": {
            "gridcolor": "rgb(232,232,232)",
            "linecolor": "rgb(36,36,36)",
            "showgrid": false,
            "showline": true,
            "ticks": "outside"
           }
          },
          "title": {
           "x": 0.05
          },
          "xaxis": {
           "automargin": true,
           "gridcolor": "rgb(232,232,232)",
           "linecolor": "rgb(36,36,36)",
           "showgrid": false,
           "showline": true,
           "ticks": "outside",
           "title": {
            "standoff": 15
           },
           "zeroline": false,
           "zerolinecolor": "rgb(36,36,36)"
          },
          "yaxis": {
           "automargin": true,
           "gridcolor": "rgb(232,232,232)",
           "linecolor": "rgb(36,36,36)",
           "showgrid": false,
           "showline": true,
           "ticks": "outside",
           "title": {
            "standoff": 15
           },
           "zeroline": false,
           "zerolinecolor": "rgb(36,36,36)"
          }
         }
        },
        "title": {
         "text": "Number of installation for year"
        },
        "xaxis": {
         "anchor": "y",
         "domain": [
          0,
          1
         ],
         "title": {
          "text": "Year"
         }
        },
        "yaxis": {
         "anchor": "x",
         "domain": [
          0,
          1
         ],
         "title": {
          "text": "numberOfPlants"
         }
        }
       }
      },
      "text/html": [
       "<div>                            <div id=\"b90466cf-ab3a-4d19-adde-d58a8a769158\" class=\"plotly-graph-div\" style=\"height:525px; width:100%;\"></div>            <script type=\"text/javascript\">                require([\"plotly\"], function(Plotly) {                    window.PLOTLYENV=window.PLOTLYENV || {};                                    if (document.getElementById(\"b90466cf-ab3a-4d19-adde-d58a8a769158\")) {                    Plotly.newPlot(                        \"b90466cf-ab3a-4d19-adde-d58a8a769158\",                        [{\"hovertemplate\":\"ESL2=Bioenergy<br>Year=%{x}<br>numberOfPlants=%{y}<extra></extra>\",\"legendgroup\":\"Bioenergy\",\"line\":{\"color\":\"#1F77B4\",\"dash\":\"solid\"},\"marker\":{\"symbol\":\"circle\"},\"mode\":\"lines\",\"name\":\"Bioenergy\",\"orientation\":\"v\",\"showlegend\":true,\"x\":[2004,2005,2006,2007,2008,2009,2010,2011,2012,2013,2014,2015,2016,2017,2018],\"xaxis\":\"x\",\"y\":[2,1,20,20,25,40,29,38,27,23,10,10,10,2,10],\"yaxis\":\"y\",\"type\":\"scatter\"},{\"hovertemplate\":\"ESL2=Hydro<br>Year=%{x}<br>numberOfPlants=%{y}<extra></extra>\",\"legendgroup\":\"Hydro\",\"line\":{\"color\":\"#FF7F0E\",\"dash\":\"solid\"},\"marker\":{\"symbol\":\"circle\"},\"mode\":\"lines\",\"name\":\"Hydro\",\"orientation\":\"v\",\"showlegend\":true,\"x\":[2006,2007,2008,2009,2010,2011,2012,2013,2014,2015,2016,2017,2018],\"xaxis\":\"x\",\"y\":[30,29,46,51,61,43,65,63,55,35,51,31,16],\"yaxis\":\"y\",\"type\":\"scatter\"},{\"hovertemplate\":\"ESL2=Solar<br>Year=%{x}<br>numberOfPlants=%{y}<extra></extra>\",\"legendgroup\":\"Solar\",\"line\":{\"color\":\"#2CA02C\",\"dash\":\"solid\"},\"marker\":{\"symbol\":\"circle\"},\"mode\":\"lines\",\"name\":\"Solar\",\"orientation\":\"v\",\"showlegend\":true,\"x\":[2006,2007,2008,2009,2010,2011,2012,2013,2014,2015,2016,2017,2018],\"xaxis\":\"x\",\"y\":[144,372,1095,1633,1550,3338,1547,822,323,647,279,92,4],\"yaxis\":\"y\",\"type\":\"scatter\"},{\"hovertemplate\":\"ESL2=Wind<br>Year=%{x}<br>numberOfPlants=%{y}<extra></extra>\",\"legendgroup\":\"Wind\",\"line\":{\"color\":\"#D62728\",\"dash\":\"solid\"},\"marker\":{\"symbol\":\"circle\"},\"mode\":\"lines\",\"name\":\"Wind\",\"orientation\":\"v\",\"showlegend\":true,\"x\":[2006,2007,2008,2009,2010,2012,2013,2014,2015,2016],\"xaxis\":\"x\",\"y\":[1,1,1,1,13,5,6,1,2,8],\"yaxis\":\"y\",\"type\":\"scatter\"}],                        {\"template\":{\"data\":{\"barpolar\":[{\"marker\":{\"line\":{\"color\":\"white\",\"width\":0.5},\"pattern\":{\"fillmode\":\"overlay\",\"size\":10,\"solidity\":0.2}},\"type\":\"barpolar\"}],\"bar\":[{\"error_x\":{\"color\":\"rgb(36,36,36)\"},\"error_y\":{\"color\":\"rgb(36,36,36)\"},\"marker\":{\"line\":{\"color\":\"white\",\"width\":0.5},\"pattern\":{\"fillmode\":\"overlay\",\"size\":10,\"solidity\":0.2}},\"type\":\"bar\"}],\"carpet\":[{\"aaxis\":{\"endlinecolor\":\"rgb(36,36,36)\",\"gridcolor\":\"white\",\"linecolor\":\"white\",\"minorgridcolor\":\"white\",\"startlinecolor\":\"rgb(36,36,36)\"},\"baxis\":{\"endlinecolor\":\"rgb(36,36,36)\",\"gridcolor\":\"white\",\"linecolor\":\"white\",\"minorgridcolor\":\"white\",\"startlinecolor\":\"rgb(36,36,36)\"},\"type\":\"carpet\"}],\"choropleth\":[{\"colorbar\":{\"outlinewidth\":1,\"tickcolor\":\"rgb(36,36,36)\",\"ticks\":\"outside\"},\"type\":\"choropleth\"}],\"contourcarpet\":[{\"colorbar\":{\"outlinewidth\":1,\"tickcolor\":\"rgb(36,36,36)\",\"ticks\":\"outside\"},\"type\":\"contourcarpet\"}],\"contour\":[{\"colorbar\":{\"outlinewidth\":1,\"tickcolor\":\"rgb(36,36,36)\",\"ticks\":\"outside\"},\"colorscale\":[[0.0,\"#440154\"],[0.1111111111111111,\"#482878\"],[0.2222222222222222,\"#3e4989\"],[0.3333333333333333,\"#31688e\"],[0.4444444444444444,\"#26828e\"],[0.5555555555555556,\"#1f9e89\"],[0.6666666666666666,\"#35b779\"],[0.7777777777777778,\"#6ece58\"],[0.8888888888888888,\"#b5de2b\"],[1.0,\"#fde725\"]],\"type\":\"contour\"}],\"heatmapgl\":[{\"colorbar\":{\"outlinewidth\":1,\"tickcolor\":\"rgb(36,36,36)\",\"ticks\":\"outside\"},\"colorscale\":[[0.0,\"#440154\"],[0.1111111111111111,\"#482878\"],[0.2222222222222222,\"#3e4989\"],[0.3333333333333333,\"#31688e\"],[0.4444444444444444,\"#26828e\"],[0.5555555555555556,\"#1f9e89\"],[0.6666666666666666,\"#35b779\"],[0.7777777777777778,\"#6ece58\"],[0.8888888888888888,\"#b5de2b\"],[1.0,\"#fde725\"]],\"type\":\"heatmapgl\"}],\"heatmap\":[{\"colorbar\":{\"outlinewidth\":1,\"tickcolor\":\"rgb(36,36,36)\",\"ticks\":\"outside\"},\"colorscale\":[[0.0,\"#440154\"],[0.1111111111111111,\"#482878\"],[0.2222222222222222,\"#3e4989\"],[0.3333333333333333,\"#31688e\"],[0.4444444444444444,\"#26828e\"],[0.5555555555555556,\"#1f9e89\"],[0.6666666666666666,\"#35b779\"],[0.7777777777777778,\"#6ece58\"],[0.8888888888888888,\"#b5de2b\"],[1.0,\"#fde725\"]],\"type\":\"heatmap\"}],\"histogram2dcontour\":[{\"colorbar\":{\"outlinewidth\":1,\"tickcolor\":\"rgb(36,36,36)\",\"ticks\":\"outside\"},\"colorscale\":[[0.0,\"#440154\"],[0.1111111111111111,\"#482878\"],[0.2222222222222222,\"#3e4989\"],[0.3333333333333333,\"#31688e\"],[0.4444444444444444,\"#26828e\"],[0.5555555555555556,\"#1f9e89\"],[0.6666666666666666,\"#35b779\"],[0.7777777777777778,\"#6ece58\"],[0.8888888888888888,\"#b5de2b\"],[1.0,\"#fde725\"]],\"type\":\"histogram2dcontour\"}],\"histogram2d\":[{\"colorbar\":{\"outlinewidth\":1,\"tickcolor\":\"rgb(36,36,36)\",\"ticks\":\"outside\"},\"colorscale\":[[0.0,\"#440154\"],[0.1111111111111111,\"#482878\"],[0.2222222222222222,\"#3e4989\"],[0.3333333333333333,\"#31688e\"],[0.4444444444444444,\"#26828e\"],[0.5555555555555556,\"#1f9e89\"],[0.6666666666666666,\"#35b779\"],[0.7777777777777778,\"#6ece58\"],[0.8888888888888888,\"#b5de2b\"],[1.0,\"#fde725\"]],\"type\":\"histogram2d\"}],\"histogram\":[{\"marker\":{\"line\":{\"color\":\"white\",\"width\":0.6}},\"type\":\"histogram\"}],\"mesh3d\":[{\"colorbar\":{\"outlinewidth\":1,\"tickcolor\":\"rgb(36,36,36)\",\"ticks\":\"outside\"},\"type\":\"mesh3d\"}],\"parcoords\":[{\"line\":{\"colorbar\":{\"outlinewidth\":1,\"tickcolor\":\"rgb(36,36,36)\",\"ticks\":\"outside\"}},\"type\":\"parcoords\"}],\"pie\":[{\"automargin\":true,\"type\":\"pie\"}],\"scatter3d\":[{\"line\":{\"colorbar\":{\"outlinewidth\":1,\"tickcolor\":\"rgb(36,36,36)\",\"ticks\":\"outside\"}},\"marker\":{\"colorbar\":{\"outlinewidth\":1,\"tickcolor\":\"rgb(36,36,36)\",\"ticks\":\"outside\"}},\"type\":\"scatter3d\"}],\"scattercarpet\":[{\"marker\":{\"colorbar\":{\"outlinewidth\":1,\"tickcolor\":\"rgb(36,36,36)\",\"ticks\":\"outside\"}},\"type\":\"scattercarpet\"}],\"scattergeo\":[{\"marker\":{\"colorbar\":{\"outlinewidth\":1,\"tickcolor\":\"rgb(36,36,36)\",\"ticks\":\"outside\"}},\"type\":\"scattergeo\"}],\"scattergl\":[{\"marker\":{\"colorbar\":{\"outlinewidth\":1,\"tickcolor\":\"rgb(36,36,36)\",\"ticks\":\"outside\"}},\"type\":\"scattergl\"}],\"scattermapbox\":[{\"marker\":{\"colorbar\":{\"outlinewidth\":1,\"tickcolor\":\"rgb(36,36,36)\",\"ticks\":\"outside\"}},\"type\":\"scattermapbox\"}],\"scatterpolargl\":[{\"marker\":{\"colorbar\":{\"outlinewidth\":1,\"tickcolor\":\"rgb(36,36,36)\",\"ticks\":\"outside\"}},\"type\":\"scatterpolargl\"}],\"scatterpolar\":[{\"marker\":{\"colorbar\":{\"outlinewidth\":1,\"tickcolor\":\"rgb(36,36,36)\",\"ticks\":\"outside\"}},\"type\":\"scatterpolar\"}],\"scatter\":[{\"marker\":{\"colorbar\":{\"outlinewidth\":1,\"tickcolor\":\"rgb(36,36,36)\",\"ticks\":\"outside\"}},\"type\":\"scatter\"}],\"scatterternary\":[{\"marker\":{\"colorbar\":{\"outlinewidth\":1,\"tickcolor\":\"rgb(36,36,36)\",\"ticks\":\"outside\"}},\"type\":\"scatterternary\"}],\"surface\":[{\"colorbar\":{\"outlinewidth\":1,\"tickcolor\":\"rgb(36,36,36)\",\"ticks\":\"outside\"},\"colorscale\":[[0.0,\"#440154\"],[0.1111111111111111,\"#482878\"],[0.2222222222222222,\"#3e4989\"],[0.3333333333333333,\"#31688e\"],[0.4444444444444444,\"#26828e\"],[0.5555555555555556,\"#1f9e89\"],[0.6666666666666666,\"#35b779\"],[0.7777777777777778,\"#6ece58\"],[0.8888888888888888,\"#b5de2b\"],[1.0,\"#fde725\"]],\"type\":\"surface\"}],\"table\":[{\"cells\":{\"fill\":{\"color\":\"rgb(237,237,237)\"},\"line\":{\"color\":\"white\"}},\"header\":{\"fill\":{\"color\":\"rgb(217,217,217)\"},\"line\":{\"color\":\"white\"}},\"type\":\"table\"}]},\"layout\":{\"annotationdefaults\":{\"arrowhead\":0,\"arrowwidth\":1},\"autotypenumbers\":\"strict\",\"coloraxis\":{\"colorbar\":{\"outlinewidth\":1,\"tickcolor\":\"rgb(36,36,36)\",\"ticks\":\"outside\"}},\"colorscale\":{\"diverging\":[[0.0,\"rgb(103,0,31)\"],[0.1,\"rgb(178,24,43)\"],[0.2,\"rgb(214,96,77)\"],[0.3,\"rgb(244,165,130)\"],[0.4,\"rgb(253,219,199)\"],[0.5,\"rgb(247,247,247)\"],[0.6,\"rgb(209,229,240)\"],[0.7,\"rgb(146,197,222)\"],[0.8,\"rgb(67,147,195)\"],[0.9,\"rgb(33,102,172)\"],[1.0,\"rgb(5,48,97)\"]],\"sequential\":[[0.0,\"#440154\"],[0.1111111111111111,\"#482878\"],[0.2222222222222222,\"#3e4989\"],[0.3333333333333333,\"#31688e\"],[0.4444444444444444,\"#26828e\"],[0.5555555555555556,\"#1f9e89\"],[0.6666666666666666,\"#35b779\"],[0.7777777777777778,\"#6ece58\"],[0.8888888888888888,\"#b5de2b\"],[1.0,\"#fde725\"]],\"sequentialminus\":[[0.0,\"#440154\"],[0.1111111111111111,\"#482878\"],[0.2222222222222222,\"#3e4989\"],[0.3333333333333333,\"#31688e\"],[0.4444444444444444,\"#26828e\"],[0.5555555555555556,\"#1f9e89\"],[0.6666666666666666,\"#35b779\"],[0.7777777777777778,\"#6ece58\"],[0.8888888888888888,\"#b5de2b\"],[1.0,\"#fde725\"]]},\"colorway\":[\"#1F77B4\",\"#FF7F0E\",\"#2CA02C\",\"#D62728\",\"#9467BD\",\"#8C564B\",\"#E377C2\",\"#7F7F7F\",\"#BCBD22\",\"#17BECF\"],\"font\":{\"color\":\"rgb(36,36,36)\"},\"geo\":{\"bgcolor\":\"white\",\"lakecolor\":\"white\",\"landcolor\":\"white\",\"showlakes\":true,\"showland\":true,\"subunitcolor\":\"white\"},\"hoverlabel\":{\"align\":\"left\"},\"hovermode\":\"closest\",\"mapbox\":{\"style\":\"light\"},\"paper_bgcolor\":\"white\",\"plot_bgcolor\":\"white\",\"polar\":{\"angularaxis\":{\"gridcolor\":\"rgb(232,232,232)\",\"linecolor\":\"rgb(36,36,36)\",\"showgrid\":false,\"showline\":true,\"ticks\":\"outside\"},\"bgcolor\":\"white\",\"radialaxis\":{\"gridcolor\":\"rgb(232,232,232)\",\"linecolor\":\"rgb(36,36,36)\",\"showgrid\":false,\"showline\":true,\"ticks\":\"outside\"}},\"scene\":{\"xaxis\":{\"backgroundcolor\":\"white\",\"gridcolor\":\"rgb(232,232,232)\",\"gridwidth\":2,\"linecolor\":\"rgb(36,36,36)\",\"showbackground\":true,\"showgrid\":false,\"showline\":true,\"ticks\":\"outside\",\"zeroline\":false,\"zerolinecolor\":\"rgb(36,36,36)\"},\"yaxis\":{\"backgroundcolor\":\"white\",\"gridcolor\":\"rgb(232,232,232)\",\"gridwidth\":2,\"linecolor\":\"rgb(36,36,36)\",\"showbackground\":true,\"showgrid\":false,\"showline\":true,\"ticks\":\"outside\",\"zeroline\":false,\"zerolinecolor\":\"rgb(36,36,36)\"},\"zaxis\":{\"backgroundcolor\":\"white\",\"gridcolor\":\"rgb(232,232,232)\",\"gridwidth\":2,\"linecolor\":\"rgb(36,36,36)\",\"showbackground\":true,\"showgrid\":false,\"showline\":true,\"ticks\":\"outside\",\"zeroline\":false,\"zerolinecolor\":\"rgb(36,36,36)\"}},\"shapedefaults\":{\"fillcolor\":\"black\",\"line\":{\"width\":0},\"opacity\":0.3},\"ternary\":{\"aaxis\":{\"gridcolor\":\"rgb(232,232,232)\",\"linecolor\":\"rgb(36,36,36)\",\"showgrid\":false,\"showline\":true,\"ticks\":\"outside\"},\"baxis\":{\"gridcolor\":\"rgb(232,232,232)\",\"linecolor\":\"rgb(36,36,36)\",\"showgrid\":false,\"showline\":true,\"ticks\":\"outside\"},\"bgcolor\":\"white\",\"caxis\":{\"gridcolor\":\"rgb(232,232,232)\",\"linecolor\":\"rgb(36,36,36)\",\"showgrid\":false,\"showline\":true,\"ticks\":\"outside\"}},\"title\":{\"x\":0.05},\"xaxis\":{\"automargin\":true,\"gridcolor\":\"rgb(232,232,232)\",\"linecolor\":\"rgb(36,36,36)\",\"showgrid\":false,\"showline\":true,\"ticks\":\"outside\",\"title\":{\"standoff\":15},\"zeroline\":false,\"zerolinecolor\":\"rgb(36,36,36)\"},\"yaxis\":{\"automargin\":true,\"gridcolor\":\"rgb(232,232,232)\",\"linecolor\":\"rgb(36,36,36)\",\"showgrid\":false,\"showline\":true,\"ticks\":\"outside\",\"title\":{\"standoff\":15},\"zeroline\":false,\"zerolinecolor\":\"rgb(36,36,36)\"}}},\"xaxis\":{\"anchor\":\"y\",\"domain\":[0.0,1.0],\"title\":{\"text\":\"Year\"}},\"yaxis\":{\"anchor\":\"x\",\"domain\":[0.0,1.0],\"title\":{\"text\":\"numberOfPlants\"}},\"legend\":{\"title\":{\"text\":\"ESL2\"},\"tracegroupgap\":0},\"title\":{\"text\":\"Number of installation for year\"}},                        {\"responsive\": true}                    ).then(function(){\n",
       "                            \n",
       "var gd = document.getElementById('b90466cf-ab3a-4d19-adde-d58a8a769158');\n",
       "var x = new MutationObserver(function (mutations, observer) {{\n",
       "        var display = window.getComputedStyle(gd).display;\n",
       "        if (!display || display === 'none') {{\n",
       "            console.log([gd, 'removed!']);\n",
       "            Plotly.purge(gd);\n",
       "            observer.disconnect();\n",
       "        }}\n",
       "}});\n",
       "\n",
       "// Listen for the removal of the full notebook cells\n",
       "var notebookContainer = gd.closest('#notebook-container');\n",
       "if (notebookContainer) {{\n",
       "    x.observe(notebookContainer, {childList: true});\n",
       "}}\n",
       "\n",
       "// Listen for the clearing of the current output cell\n",
       "var outputEl = gd.closest('.output');\n",
       "if (outputEl) {{\n",
       "    x.observe(outputEl, {childList: true});\n",
       "}}\n",
       "\n",
       "                        })                };                });            </script>        </div>"
      ]
     },
     "metadata": {},
     "output_type": "display_data"
    }
   ],
   "source": [
    "year=[]\n",
    "plantsYear=[]\n",
    "source=[]\n",
    "ye=[]\n",
    "tmp = df2\n",
    "\n",
    "for i in df2.index:\n",
    "    ye.append(df2['Start'][i].year)\n",
    "tmp['Year']=ye\n",
    "\n",
    "for yr in tmp['Year'].unique():\n",
    "    tmp1 = tmp.loc[tmp['Year']==yr]\n",
    "    for s in tmp1['ESL2'].unique():\n",
    "        tmp2 = tmp1.loc[tmp1['ESL2']==s]\n",
    "        boolean = tmp1['ESL2']==s\n",
    "        total_occurence = boolean.sum()\n",
    "        plantsYear.append(total_occurence)\n",
    "        year.append(yr)\n",
    "        source.append(s)\n",
    "tmp3 = pd.DataFrame(list(zip(year,plantsYear,source)), columns = ['Year', 'numberOfPlants','ESL2'])        \n",
    "fig = px.line(tmp3, x=\"Year\", y=\"numberOfPlants\", color=\"ESL2\", \n",
    "              title='Number of installation for year', template =\"simple_white\")\n",
    "fig.show()"
   ]
  },
  {
   "cell_type": "code",
   "execution_count": 344,
   "id": "3606a28d",
   "metadata": {},
   "outputs": [],
   "source": [
    "period=[]\n",
    "tariff=[]\n",
    "source=[]\n",
    "rate=[]\n",
    "startDate=[]\n",
    "tmp = df2.loc[df2['Tariff']!=0]\n",
    "for i in tmp.index:\n",
    "    p = abs((tmp['End'][i] - tmp['Start'][i]).days)\n",
    "    period.append(p)\n",
    "    tariff.append(tmp['Tariff'][i])\n",
    "    source.append(tmp['ESL2'][i])\n",
    "    r = (p/365)/tmp['Tariff'][i]\n",
    "    rate.append(r)\n",
    "    startDate.append(tmp['Start'][i])\n",
    "    \n",
    "dataFrame = pd.DataFrame(list(zip(startDate, source,tariff,period, rate)), columns = ['Date', 'ESL2','Tariff', 'Period', 'ConvRate'])\n"
   ]
  },
  {
   "cell_type": "code",
   "execution_count": 348,
   "id": "d0c9bf13",
   "metadata": {},
   "outputs": [],
   "source": [
    "dFrame1 = dataFrame"
   ]
  },
  {
   "cell_type": "code",
   "execution_count": 350,
   "id": "75ffcd6d",
   "metadata": {},
   "outputs": [
    {
     "data": {
      "image/png": "[encoded data removed]",
      "text/plain": [
       "<Figure size 720x720 with 1 Axes>"
      ]
     },
     "metadata": {
      "needs_background": "light"
     },
     "output_type": "display_data"
    }
   ],
   "source": [
    "convRate=[]\n",
    "source=[]\n",
    "\n",
    "for s in dFrame1['ESL2'].unique():\n",
    "    tmp = dFrame1.loc[df1['ESL2']==s]\n",
    "    mean = tmp['ConvRate'].mean()\n",
    "    convRate.append(mean)\n",
    "    source.append(s)\n",
    "\n",
    "dataFrame = pd.DataFrame(list(zip(source, convRate)), columns = ['Source', 'convRate'])\n",
    "\n",
    "    \n",
    "a = dataFrame.sort_values(by='convRate', ascending=False)[:4]\n",
    "figure = plt.figure(figsize=(10,10))\n",
    "sns.barplot(y=a.convRate, x=a.Source)\n",
    "plt.xticks()\n",
    "plt.xlabel('Source')\n",
    "plt.ylabel('Convenience Rate')\n",
    "plt.title('Convenience Rate for differente source')\n",
    "plt.show()"
   ]
  },
  {
   "cell_type": "code",
   "execution_count": 352,
   "id": "4f3be39e",
   "metadata": {},
   "outputs": [
    {
     "data": {
      "text/html": [
       "<div>\n",
       "<style scoped>\n",
       "    .dataframe tbody tr th:only-of-type {\n",
       "        vertical-align: middle;\n",
       "    }\n",
       "\n",
       "    .dataframe tbody tr th {\n",
       "        vertical-align: top;\n",
       "    }\n",
       "\n",
       "    .dataframe thead th {\n",
       "        text-align: right;\n",
       "    }\n",
       "</style>\n",
       "<table border=\"1\" class=\"dataframe\">\n",
       "  <thead>\n",
       "    <tr style=\"text-align: right;\">\n",
       "      <th></th>\n",
       "      <th>Date</th>\n",
       "      <th>ESL2</th>\n",
       "      <th>Tariff</th>\n",
       "      <th>Period</th>\n",
       "      <th>ConvRate</th>\n",
       "      <th>Year</th>\n",
       "    </tr>\n",
       "  </thead>\n",
       "  <tbody>\n",
       "    <tr>\n",
       "      <th>0</th>\n",
       "      <td>2004-07-01</td>\n",
       "      <td>Bioenergy</td>\n",
       "      <td>578452.00</td>\n",
       "      <td>7488</td>\n",
       "      <td>0.000035</td>\n",
       "      <td>2004</td>\n",
       "    </tr>\n",
       "    <tr>\n",
       "      <th>1</th>\n",
       "      <td>2004-11-24</td>\n",
       "      <td>Bioenergy</td>\n",
       "      <td>228421.00</td>\n",
       "      <td>7342</td>\n",
       "      <td>0.000088</td>\n",
       "      <td>2004</td>\n",
       "    </tr>\n",
       "    <tr>\n",
       "      <th>2</th>\n",
       "      <td>2005-10-04</td>\n",
       "      <td>Bioenergy</td>\n",
       "      <td>622598.00</td>\n",
       "      <td>7393</td>\n",
       "      <td>0.000033</td>\n",
       "      <td>2005</td>\n",
       "    </tr>\n",
       "    <tr>\n",
       "      <th>3</th>\n",
       "      <td>2006-01-01</td>\n",
       "      <td>Hydro</td>\n",
       "      <td>349497.00</td>\n",
       "      <td>9495</td>\n",
       "      <td>0.000074</td>\n",
       "      <td>2006</td>\n",
       "    </tr>\n",
       "    <tr>\n",
       "      <th>4</th>\n",
       "      <td>2006-01-01</td>\n",
       "      <td>Bioenergy</td>\n",
       "      <td>598310.00</td>\n",
       "      <td>7669</td>\n",
       "      <td>0.000035</td>\n",
       "      <td>2006</td>\n",
       "    </tr>\n",
       "    <tr>\n",
       "      <th>...</th>\n",
       "      <td>...</td>\n",
       "      <td>...</td>\n",
       "      <td>...</td>\n",
       "      <td>...</td>\n",
       "      <td>...</td>\n",
       "      <td>...</td>\n",
       "    </tr>\n",
       "    <tr>\n",
       "      <th>12704</th>\n",
       "      <td>2018-11-07</td>\n",
       "      <td>Hydro</td>\n",
       "      <td>52190.60</td>\n",
       "      <td>9154</td>\n",
       "      <td>0.000481</td>\n",
       "      <td>2018</td>\n",
       "    </tr>\n",
       "    <tr>\n",
       "      <th>12705</th>\n",
       "      <td>2018-11-21</td>\n",
       "      <td>Hydro</td>\n",
       "      <td>6884.42</td>\n",
       "      <td>7314</td>\n",
       "      <td>0.002911</td>\n",
       "      <td>2018</td>\n",
       "    </tr>\n",
       "    <tr>\n",
       "      <th>12706</th>\n",
       "      <td>2018-12-03</td>\n",
       "      <td>Bioenergy</td>\n",
       "      <td>35703.00</td>\n",
       "      <td>7333</td>\n",
       "      <td>0.000563</td>\n",
       "      <td>2018</td>\n",
       "    </tr>\n",
       "    <tr>\n",
       "      <th>12707</th>\n",
       "      <td>2018-12-10</td>\n",
       "      <td>Hydro</td>\n",
       "      <td>3141.77</td>\n",
       "      <td>9152</td>\n",
       "      <td>0.007981</td>\n",
       "      <td>2018</td>\n",
       "    </tr>\n",
       "    <tr>\n",
       "      <th>12708</th>\n",
       "      <td>2018-12-12</td>\n",
       "      <td>Hydro</td>\n",
       "      <td>5030.49</td>\n",
       "      <td>7324</td>\n",
       "      <td>0.003989</td>\n",
       "      <td>2018</td>\n",
       "    </tr>\n",
       "  </tbody>\n",
       "</table>\n",
       "<p>12709 rows × 6 columns</p>\n",
       "</div>"
      ],
      "text/plain": [
       "            Date       ESL2     Tariff  Period  ConvRate  Year\n",
       "0     2004-07-01  Bioenergy  578452.00    7488  0.000035  2004\n",
       "1     2004-11-24  Bioenergy  228421.00    7342  0.000088  2004\n",
       "2     2005-10-04  Bioenergy  622598.00    7393  0.000033  2005\n",
       "3     2006-01-01      Hydro  349497.00    9495  0.000074  2006\n",
       "4     2006-01-01  Bioenergy  598310.00    7669  0.000035  2006\n",
       "...          ...        ...        ...     ...       ...   ...\n",
       "12704 2018-11-07      Hydro   52190.60    9154  0.000481  2018\n",
       "12705 2018-11-21      Hydro    6884.42    7314  0.002911  2018\n",
       "12706 2018-12-03  Bioenergy   35703.00    7333  0.000563  2018\n",
       "12707 2018-12-10      Hydro    3141.77    9152  0.007981  2018\n",
       "12708 2018-12-12      Hydro    5030.49    7324  0.003989  2018\n",
       "\n",
       "[12709 rows x 6 columns]"
      ]
     },
     "execution_count": 352,
     "metadata": {},
     "output_type": "execute_result"
    }
   ],
   "source": [
    "dFrame1"
   ]
  },
  {
   "cell_type": "code",
   "execution_count": 353,
   "id": "91a596f0",
   "metadata": {},
   "outputs": [
    {
     "data": {
      "application/vnd.plotly.v1+json": {
       "config": {
        "plotlyServerURL": "https://plot.ly"
       },
       "data": [
        {
         "hovertemplate": "Source=Bioenergy<br>Year=%{x}<br>ConvRate=%{y}<extra></extra>",
         "legendgroup": "Bioenergy",
         "line": {
          "color": "#1F77B4",
          "dash": "solid"
         },
         "marker": {
          "symbol": "circle"
         },
         "mode": "lines",
         "name": "Bioenergy",
         "orientation": "v",
         "showlegend": true,
         "type": "scatter",
         "x": [
          2004,
          2005,
          2006,
          2007,
          2008,
          2009,
          2010,
          2011,
          2012,
          2013,
          2014,
          2015,
          2016,
          2017,
          2018
         ],
         "xaxis": "x",
         "y": [
          6.17634219500768e-05,
          3.253270090901022e-05,
          0.0002149545669874135,
          0.00014695583960933731,
          0.00025648787855113463,
          0.00038755683081224447,
          0.00044739560268760887,
          0.0003679359637864942,
          0.00022874775009353002,
          0.0011883858589320738,
          0.0006978876607483984,
          0.00012626623744680136,
          0.001570986269207494,
          5.6930787838178415e-05,
          0.00024379104665991588
         ],
         "yaxis": "y"
        },
        {
         "hovertemplate": "Source=Hydro<br>Year=%{x}<br>ConvRate=%{y}<extra></extra>",
         "legendgroup": "Hydro",
         "line": {
          "color": "#FF7F0E",
          "dash": "solid"
         },
         "marker": {
          "symbol": "circle"
         },
         "mode": "lines",
         "name": "Hydro",
         "orientation": "v",
         "showlegend": true,
         "type": "scatter",
         "x": [
          2006,
          2007,
          2008,
          2009,
          2010,
          2011,
          2012,
          2013,
          2014,
          2015,
          2016,
          2017,
          2018
         ],
         "xaxis": "x",
         "y": [
          0.0014820458934097864,
          0.0010750998385784982,
          0.007641576139122221,
          0.07419165549788082,
          0.005637988864563186,
          0.0009583874195254125,
          0.0022894940259945984,
          0.0010600772471845647,
          0.0011821882567348537,
          0.0038137475356578078,
          0.0004251785812495734,
          0.006750728720746475,
          0.0012645640580904883
         ],
         "yaxis": "y"
        },
        {
         "hovertemplate": "Source=Solar<br>Year=%{x}<br>ConvRate=%{y}<extra></extra>",
         "legendgroup": "Solar",
         "line": {
          "color": "#2CA02C",
          "dash": "solid"
         },
         "marker": {
          "symbol": "circle"
         },
         "mode": "lines",
         "name": "Solar",
         "orientation": "v",
         "showlegend": true,
         "type": "scatter",
         "x": [
          2006,
          2007,
          2008,
          2009,
          2010,
          2011,
          2012,
          2013,
          2014,
          2015,
          2016,
          2017,
          2018
         ],
         "xaxis": "x",
         "y": [
          0.012190141263657852,
          0.00894399033661711,
          0.008198793801414108,
          0.007889558232185817,
          0.009425335605761065,
          0.007328636164619657,
          0.005904734944523122,
          0.0046327914780753135,
          0.0037307531769527665,
          0.002873156052029486,
          0.0035444832240665307,
          0.0046566029164912415,
          0.02586466080508902
         ],
         "yaxis": "y"
        },
        {
         "hovertemplate": "Source=Wind<br>Year=%{x}<br>ConvRate=%{y}<extra></extra>",
         "legendgroup": "Wind",
         "line": {
          "color": "#D62728",
          "dash": "solid"
         },
         "marker": {
          "symbol": "circle"
         },
         "mode": "lines",
         "name": "Wind",
         "orientation": "v",
         "showlegend": true,
         "type": "scatter",
         "x": [
          2006,
          2007,
          2008,
          2009,
          2010,
          2012,
          2013,
          2014,
          2015,
          2016
         ],
         "xaxis": "x",
         "y": [
          0.02091810208418102,
          0.01948088857655162,
          2.4833570012705945e-05,
          0.015231054369997618,
          0.0005585144415917067,
          0.9004413541730409,
          2.9928185317673207e-05,
          0.012776598614437296,
          0.25137528494997274,
          0.0034614365010486423
         ],
         "yaxis": "y"
        }
       ],
       "layout": {
        "legend": {
         "title": {
          "text": "Source"
         },
         "tracegroupgap": 0
        },
        "template": {
         "data": {
          "bar": [
           {
            "error_x": {
             "color": "rgb(36,36,36)"
            },
            "error_y": {
             "color": "rgb(36,36,36)"
            },
            "marker": {
             "line": {
              "color": "white",
              "width": 0.5
             },
             "pattern": {
              "fillmode": "overlay",
              "size": 10,
              "solidity": 0.2
             }
            },
            "type": "bar"
           }
          ],
          "barpolar": [
           {
            "marker": {
             "line": {
              "color": "white",
              "width": 0.5
             },
             "pattern": {
              "fillmode": "overlay",
              "size": 10,
              "solidity": 0.2
             }
            },
            "type": "barpolar"
           }
          ],
          "carpet": [
           {
            "aaxis": {
             "endlinecolor": "rgb(36,36,36)",
             "gridcolor": "white",
             "linecolor": "white",
             "minorgridcolor": "white",
             "startlinecolor": "rgb(36,36,36)"
            },
            "baxis": {
             "endlinecolor": "rgb(36,36,36)",
             "gridcolor": "white",
             "linecolor": "white",
             "minorgridcolor": "white",
             "startlinecolor": "rgb(36,36,36)"
            },
            "type": "carpet"
           }
          ],
          "choropleth": [
           {
            "colorbar": {
             "outlinewidth": 1,
             "tickcolor": "rgb(36,36,36)",
             "ticks": "outside"
            },
            "type": "choropleth"
           }
          ],
          "contour": [
           {
            "colorbar": {
             "outlinewidth": 1,
             "tickcolor": "rgb(36,36,36)",
             "ticks": "outside"
            },
            "colorscale": [
             [
              0,
              "#440154"
             ],
             [
              0.1111111111111111,
              "#482878"
             ],
             [
              0.2222222222222222,
              "#3e4989"
             ],
             [
              0.3333333333333333,
              "#31688e"
             ],
             [
              0.4444444444444444,
              "#26828e"
             ],
             [
              0.5555555555555556,
              "#1f9e89"
             ],
             [
              0.6666666666666666,
              "#35b779"
             ],
             [
              0.7777777777777778,
              "#6ece58"
             ],
             [
              0.8888888888888888,
              "#b5de2b"
             ],
             [
              1,
              "#fde725"
             ]
            ],
            "type": "contour"
           }
          ],
          "contourcarpet": [
           {
            "colorbar": {
             "outlinewidth": 1,
             "tickcolor": "rgb(36,36,36)",
             "ticks": "outside"
            },
            "type": "contourcarpet"
           }
          ],
          "heatmap": [
           {
            "colorbar": {
             "outlinewidth": 1,
             "tickcolor": "rgb(36,36,36)",
             "ticks": "outside"
            },
            "colorscale": [
             [
              0,
              "#440154"
             ],
             [
              0.1111111111111111,
              "#482878"
             ],
             [
              0.2222222222222222,
              "#3e4989"
             ],
             [
              0.3333333333333333,
              "#31688e"
             ],
             [
              0.4444444444444444,
              "#26828e"
             ],
             [
              0.5555555555555556,
              "#1f9e89"
             ],
             [
              0.6666666666666666,
              "#35b779"
             ],
             [
              0.7777777777777778,
              "#6ece58"
             ],
             [
              0.8888888888888888,
              "#b5de2b"
             ],
             [
              1,
              "#fde725"
             ]
            ],
            "type": "heatmap"
           }
          ],
          "heatmapgl": [
           {
            "colorbar": {
             "outlinewidth": 1,
             "tickcolor": "rgb(36,36,36)",
             "ticks": "outside"
            },
            "colorscale": [
             [
              0,
              "#440154"
             ],
             [
              0.1111111111111111,
              "#482878"
             ],
             [
              0.2222222222222222,
              "#3e4989"
             ],
             [
              0.3333333333333333,
              "#31688e"
             ],
             [
              0.4444444444444444,
              "#26828e"
             ],
             [
              0.5555555555555556,
              "#1f9e89"
             ],
             [
              0.6666666666666666,
              "#35b779"
             ],
             [
              0.7777777777777778,
              "#6ece58"
             ],
             [
              0.8888888888888888,
              "#b5de2b"
             ],
             [
              1,
              "#fde725"
             ]
            ],
            "type": "heatmapgl"
           }
          ],
          "histogram": [
           {
            "marker": {
             "line": {
              "color": "white",
              "width": 0.6
             }
            },
            "type": "histogram"
           }
          ],
          "histogram2d": [
           {
            "colorbar": {
             "outlinewidth": 1,
             "tickcolor": "rgb(36,36,36)",
             "ticks": "outside"
            },
            "colorscale": [
             [
              0,
              "#440154"
             ],
             [
              0.1111111111111111,
              "#482878"
             ],
             [
              0.2222222222222222,
              "#3e4989"
             ],
             [
              0.3333333333333333,
              "#31688e"
             ],
             [
              0.4444444444444444,
              "#26828e"
             ],
             [
              0.5555555555555556,
              "#1f9e89"
             ],
             [
              0.6666666666666666,
              "#35b779"
             ],
             [
              0.7777777777777778,
              "#6ece58"
             ],
             [
              0.8888888888888888,
              "#b5de2b"
             ],
             [
              1,
              "#fde725"
             ]
            ],
            "type": "histogram2d"
           }
          ],
          "histogram2dcontour": [
           {
            "colorbar": {
             "outlinewidth": 1,
             "tickcolor": "rgb(36,36,36)",
             "ticks": "outside"
            },
            "colorscale": [
             [
              0,
              "#440154"
             ],
             [
              0.1111111111111111,
              "#482878"
             ],
             [
              0.2222222222222222,
              "#3e4989"
             ],
             [
              0.3333333333333333,
              "#31688e"
             ],
             [
              0.4444444444444444,
              "#26828e"
             ],
             [
              0.5555555555555556,
              "#1f9e89"
             ],
             [
              0.6666666666666666,
              "#35b779"
             ],
             [
              0.7777777777777778,
              "#6ece58"
             ],
             [
              0.8888888888888888,
              "#b5de2b"
             ],
             [
              1,
              "#fde725"
             ]
            ],
            "type": "histogram2dcontour"
           }
          ],
          "mesh3d": [
           {
            "colorbar": {
             "outlinewidth": 1,
             "tickcolor": "rgb(36,36,36)",
             "ticks": "outside"
            },
            "type": "mesh3d"
           }
          ],
          "parcoords": [
           {
            "line": {
             "colorbar": {
              "outlinewidth": 1,
              "tickcolor": "rgb(36,36,36)",
              "ticks": "outside"
             }
            },
            "type": "parcoords"
           }
          ],
          "pie": [
           {
            "automargin": true,
            "type": "pie"
           }
          ],
          "scatter": [
           {
            "marker": {
             "colorbar": {
              "outlinewidth": 1,
              "tickcolor": "rgb(36,36,36)",
              "ticks": "outside"
             }
            },
            "type": "scatter"
           }
          ],
          "scatter3d": [
           {
            "line": {
             "colorbar": {
              "outlinewidth": 1,
              "tickcolor": "rgb(36,36,36)",
              "ticks": "outside"
             }
            },
            "marker": {
             "colorbar": {
              "outlinewidth": 1,
              "tickcolor": "rgb(36,36,36)",
              "ticks": "outside"
             }
            },
            "type": "scatter3d"
           }
          ],
          "scattercarpet": [
           {
            "marker": {
             "colorbar": {
              "outlinewidth": 1,
              "tickcolor": "rgb(36,36,36)",
              "ticks": "outside"
             }
            },
            "type": "scattercarpet"
           }
          ],
          "scattergeo": [
           {
            "marker": {
             "colorbar": {
              "outlinewidth": 1,
              "tickcolor": "rgb(36,36,36)",
              "ticks": "outside"
             }
            },
            "type": "scattergeo"
           }
          ],
          "scattergl": [
           {
            "marker": {
             "colorbar": {
              "outlinewidth": 1,
              "tickcolor": "rgb(36,36,36)",
              "ticks": "outside"
             }
            },
            "type": "scattergl"
           }
          ],
          "scattermapbox": [
           {
            "marker": {
             "colorbar": {
              "outlinewidth": 1,
              "tickcolor": "rgb(36,36,36)",
              "ticks": "outside"
             }
            },
            "type": "scattermapbox"
           }
          ],
          "scatterpolar": [
           {
            "marker": {
             "colorbar": {
              "outlinewidth": 1,
              "tickcolor": "rgb(36,36,36)",
              "ticks": "outside"
             }
            },
            "type": "scatterpolar"
           }
          ],
          "scatterpolargl": [
           {
            "marker": {
             "colorbar": {
              "outlinewidth": 1,
              "tickcolor": "rgb(36,36,36)",
              "ticks": "outside"
             }
            },
            "type": "scatterpolargl"
           }
          ],
          "scatterternary": [
           {
            "marker": {
             "colorbar": {
              "outlinewidth": 1,
              "tickcolor": "rgb(36,36,36)",
              "ticks": "outside"
             }
            },
            "type": "scatterternary"
           }
          ],
          "surface": [
           {
            "colorbar": {
             "outlinewidth": 1,
             "tickcolor": "rgb(36,36,36)",
             "ticks": "outside"
            },
            "colorscale": [
             [
              0,
              "#440154"
             ],
             [
              0.1111111111111111,
              "#482878"
             ],
             [
              0.2222222222222222,
              "#3e4989"
             ],
             [
              0.3333333333333333,
              "#31688e"
             ],
             [
              0.4444444444444444,
              "#26828e"
             ],
             [
              0.5555555555555556,
              "#1f9e89"
             ],
             [
              0.6666666666666666,
              "#35b779"
             ],
             [
              0.7777777777777778,
              "#6ece58"
             ],
             [
              0.8888888888888888,
              "#b5de2b"
             ],
             [
              1,
              "#fde725"
             ]
            ],
            "type": "surface"
           }
          ],
          "table": [
           {
            "cells": {
             "fill": {
              "color": "rgb(237,237,237)"
             },
             "line": {
              "color": "white"
             }
            },
            "header": {
             "fill": {
              "color": "rgb(217,217,217)"
             },
             "line": {
              "color": "white"
             }
            },
            "type": "table"
           }
          ]
         },
         "layout": {
          "annotationdefaults": {
           "arrowhead": 0,
           "arrowwidth": 1
          },
          "autotypenumbers": "strict",
          "coloraxis": {
           "colorbar": {
            "outlinewidth": 1,
            "tickcolor": "rgb(36,36,36)",
            "ticks": "outside"
           }
          },
          "colorscale": {
           "diverging": [
            [
             0,
             "rgb(103,0,31)"
            ],
            [
             0.1,
             "rgb(178,24,43)"
            ],
            [
             0.2,
             "rgb(214,96,77)"
            ],
            [
             0.3,
             "rgb(244,165,130)"
            ],
            [
             0.4,
             "rgb(253,219,199)"
            ],
            [
             0.5,
             "rgb(247,247,247)"
            ],
            [
             0.6,
             "rgb(209,229,240)"
            ],
            [
             0.7,
             "rgb(146,197,222)"
            ],
            [
             0.8,
             "rgb(67,147,195)"
            ],
            [
             0.9,
             "rgb(33,102,172)"
            ],
            [
             1,
             "rgb(5,48,97)"
            ]
           ],
           "sequential": [
            [
             0,
             "#440154"
            ],
            [
             0.1111111111111111,
             "#482878"
            ],
            [
             0.2222222222222222,
             "#3e4989"
            ],
            [
             0.3333333333333333,
             "#31688e"
            ],
            [
             0.4444444444444444,
             "#26828e"
            ],
            [
             0.5555555555555556,
             "#1f9e89"
            ],
            [
             0.6666666666666666,
             "#35b779"
            ],
            [
             0.7777777777777778,
             "#6ece58"
            ],
            [
             0.8888888888888888,
             "#b5de2b"
            ],
            [
             1,
             "#fde725"
            ]
           ],
           "sequentialminus": [
            [
             0,
             "#440154"
            ],
            [
             0.1111111111111111,
             "#482878"
            ],
            [
             0.2222222222222222,
             "#3e4989"
            ],
            [
             0.3333333333333333,
             "#31688e"
            ],
            [
             0.4444444444444444,
             "#26828e"
            ],
            [
             0.5555555555555556,
             "#1f9e89"
            ],
            [
             0.6666666666666666,
             "#35b779"
            ],
            [
             0.7777777777777778,
             "#6ece58"
            ],
            [
             0.8888888888888888,
             "#b5de2b"
            ],
            [
             1,
             "#fde725"
            ]
           ]
          },
          "colorway": [
           "#1F77B4",
           "#FF7F0E",
           "#2CA02C",
           "#D62728",
           "#9467BD",
           "#8C564B",
           "#E377C2",
           "#7F7F7F",
           "#BCBD22",
           "#17BECF"
          ],
          "font": {
           "color": "rgb(36,36,36)"
          },
          "geo": {
           "bgcolor": "white",
           "lakecolor": "white",
           "landcolor": "white",
           "showlakes": true,
           "showland": true,
           "subunitcolor": "white"
          },
          "hoverlabel": {
           "align": "left"
          },
          "hovermode": "closest",
          "mapbox": {
           "style": "light"
          },
          "paper_bgcolor": "white",
          "plot_bgcolor": "white",
          "polar": {
           "angularaxis": {
            "gridcolor": "rgb(232,232,232)",
            "linecolor": "rgb(36,36,36)",
            "showgrid": false,
            "showline": true,
            "ticks": "outside"
           },
           "bgcolor": "white",
           "radialaxis": {
            "gridcolor": "rgb(232,232,232)",
            "linecolor": "rgb(36,36,36)",
            "showgrid": false,
            "showline": true,
            "ticks": "outside"
           }
          },
          "scene": {
           "xaxis": {
            "backgroundcolor": "white",
            "gridcolor": "rgb(232,232,232)",
            "gridwidth": 2,
            "linecolor": "rgb(36,36,36)",
            "showbackground": true,
            "showgrid": false,
            "showline": true,
            "ticks": "outside",
            "zeroline": false,
            "zerolinecolor": "rgb(36,36,36)"
           },
           "yaxis": {
            "backgroundcolor": "white",
            "gridcolor": "rgb(232,232,232)",
            "gridwidth": 2,
            "linecolor": "rgb(36,36,36)",
            "showbackground": true,
            "showgrid": false,
            "showline": true,
            "ticks": "outside",
            "zeroline": false,
            "zerolinecolor": "rgb(36,36,36)"
           },
           "zaxis": {
            "backgroundcolor": "white",
            "gridcolor": "rgb(232,232,232)",
            "gridwidth": 2,
            "linecolor": "rgb(36,36,36)",
            "showbackground": true,
            "showgrid": false,
            "showline": true,
            "ticks": "outside",
            "zeroline": false,
            "zerolinecolor": "rgb(36,36,36)"
           }
          },
          "shapedefaults": {
           "fillcolor": "black",
           "line": {
            "width": 0
           },
           "opacity": 0.3
          },
          "ternary": {
           "aaxis": {
            "gridcolor": "rgb(232,232,232)",
            "linecolor": "rgb(36,36,36)",
            "showgrid": false,
            "showline": true,
            "ticks": "outside"
           },
           "baxis": {
            "gridcolor": "rgb(232,232,232)",
            "linecolor": "rgb(36,36,36)",
            "showgrid": false,
            "showline": true,
            "ticks": "outside"
           },
           "bgcolor": "white",
           "caxis": {
            "gridcolor": "rgb(232,232,232)",
            "linecolor": "rgb(36,36,36)",
            "showgrid": false,
            "showline": true,
            "ticks": "outside"
           }
          },
          "title": {
           "x": 0.05
          },
          "xaxis": {
           "automargin": true,
           "gridcolor": "rgb(232,232,232)",
           "linecolor": "rgb(36,36,36)",
           "showgrid": false,
           "showline": true,
           "ticks": "outside",
           "title": {
            "standoff": 15
           },
           "zeroline": false,
           "zerolinecolor": "rgb(36,36,36)"
          },
          "yaxis": {
           "automargin": true,
           "gridcolor": "rgb(232,232,232)",
           "linecolor": "rgb(36,36,36)",
           "showgrid": false,
           "showline": true,
           "ticks": "outside",
           "title": {
            "standoff": 15
           },
           "zeroline": false,
           "zerolinecolor": "rgb(36,36,36)"
          }
         }
        },
        "title": {
         "text": "Convenience rate for renewable sources in time"
        },
        "xaxis": {
         "anchor": "y",
         "domain": [
          0,
          1
         ],
         "title": {
          "text": "Year"
         }
        },
        "yaxis": {
         "anchor": "x",
         "domain": [
          0,
          1
         ],
         "title": {
          "text": "ConvRate"
         }
        }
       }
      },
      "text/html": [
       "<div>                            <div id=\"80ef263e-c379-4b92-9d4f-71d82b78a07e\" class=\"plotly-graph-div\" style=\"height:525px; width:100%;\"></div>            <script type=\"text/javascript\">                require([\"plotly\"], function(Plotly) {                    window.PLOTLYENV=window.PLOTLYENV || {};                                    if (document.getElementById(\"80ef263e-c379-4b92-9d4f-71d82b78a07e\")) {                    Plotly.newPlot(                        \"80ef263e-c379-4b92-9d4f-71d82b78a07e\",                        [{\"hovertemplate\":\"Source=Bioenergy<br>Year=%{x}<br>ConvRate=%{y}<extra></extra>\",\"legendgroup\":\"Bioenergy\",\"line\":{\"color\":\"#1F77B4\",\"dash\":\"solid\"},\"marker\":{\"symbol\":\"circle\"},\"mode\":\"lines\",\"name\":\"Bioenergy\",\"orientation\":\"v\",\"showlegend\":true,\"x\":[2004,2005,2006,2007,2008,2009,2010,2011,2012,2013,2014,2015,2016,2017,2018],\"xaxis\":\"x\",\"y\":[6.17634219500768e-05,3.253270090901022e-05,0.0002149545669874135,0.00014695583960933731,0.00025648787855113463,0.00038755683081224447,0.00044739560268760887,0.0003679359637864942,0.00022874775009353002,0.0011883858589320738,0.0006978876607483984,0.00012626623744680136,0.001570986269207494,5.6930787838178415e-05,0.00024379104665991588],\"yaxis\":\"y\",\"type\":\"scatter\"},{\"hovertemplate\":\"Source=Hydro<br>Year=%{x}<br>ConvRate=%{y}<extra></extra>\",\"legendgroup\":\"Hydro\",\"line\":{\"color\":\"#FF7F0E\",\"dash\":\"solid\"},\"marker\":{\"symbol\":\"circle\"},\"mode\":\"lines\",\"name\":\"Hydro\",\"orientation\":\"v\",\"showlegend\":true,\"x\":[2006,2007,2008,2009,2010,2011,2012,2013,2014,2015,2016,2017,2018],\"xaxis\":\"x\",\"y\":[0.0014820458934097864,0.0010750998385784982,0.007641576139122221,0.07419165549788082,0.005637988864563186,0.0009583874195254125,0.0022894940259945984,0.0010600772471845647,0.0011821882567348537,0.0038137475356578078,0.0004251785812495734,0.006750728720746475,0.0012645640580904883],\"yaxis\":\"y\",\"type\":\"scatter\"},{\"hovertemplate\":\"Source=Solar<br>Year=%{x}<br>ConvRate=%{y}<extra></extra>\",\"legendgroup\":\"Solar\",\"line\":{\"color\":\"#2CA02C\",\"dash\":\"solid\"},\"marker\":{\"symbol\":\"circle\"},\"mode\":\"lines\",\"name\":\"Solar\",\"orientation\":\"v\",\"showlegend\":true,\"x\":[2006,2007,2008,2009,2010,2011,2012,2013,2014,2015,2016,2017,2018],\"xaxis\":\"x\",\"y\":[0.012190141263657852,0.00894399033661711,0.008198793801414108,0.007889558232185817,0.009425335605761065,0.007328636164619657,0.005904734944523122,0.0046327914780753135,0.0037307531769527665,0.002873156052029486,0.0035444832240665307,0.0046566029164912415,0.02586466080508902],\"yaxis\":\"y\",\"type\":\"scatter\"},{\"hovertemplate\":\"Source=Wind<br>Year=%{x}<br>ConvRate=%{y}<extra></extra>\",\"legendgroup\":\"Wind\",\"line\":{\"color\":\"#D62728\",\"dash\":\"solid\"},\"marker\":{\"symbol\":\"circle\"},\"mode\":\"lines\",\"name\":\"Wind\",\"orientation\":\"v\",\"showlegend\":true,\"x\":[2006,2007,2008,2009,2010,2012,2013,2014,2015,2016],\"xaxis\":\"x\",\"y\":[0.02091810208418102,0.01948088857655162,2.4833570012705945e-05,0.015231054369997618,0.0005585144415917067,0.9004413541730409,2.9928185317673207e-05,0.012776598614437296,0.25137528494997274,0.0034614365010486423],\"yaxis\":\"y\",\"type\":\"scatter\"}],                        {\"template\":{\"data\":{\"barpolar\":[{\"marker\":{\"line\":{\"color\":\"white\",\"width\":0.5},\"pattern\":{\"fillmode\":\"overlay\",\"size\":10,\"solidity\":0.2}},\"type\":\"barpolar\"}],\"bar\":[{\"error_x\":{\"color\":\"rgb(36,36,36)\"},\"error_y\":{\"color\":\"rgb(36,36,36)\"},\"marker\":{\"line\":{\"color\":\"white\",\"width\":0.5},\"pattern\":{\"fillmode\":\"overlay\",\"size\":10,\"solidity\":0.2}},\"type\":\"bar\"}],\"carpet\":[{\"aaxis\":{\"endlinecolor\":\"rgb(36,36,36)\",\"gridcolor\":\"white\",\"linecolor\":\"white\",\"minorgridcolor\":\"white\",\"startlinecolor\":\"rgb(36,36,36)\"},\"baxis\":{\"endlinecolor\":\"rgb(36,36,36)\",\"gridcolor\":\"white\",\"linecolor\":\"white\",\"minorgridcolor\":\"white\",\"startlinecolor\":\"rgb(36,36,36)\"},\"type\":\"carpet\"}],\"choropleth\":[{\"colorbar\":{\"outlinewidth\":1,\"tickcolor\":\"rgb(36,36,36)\",\"ticks\":\"outside\"},\"type\":\"choropleth\"}],\"contourcarpet\":[{\"colorbar\":{\"outlinewidth\":1,\"tickcolor\":\"rgb(36,36,36)\",\"ticks\":\"outside\"},\"type\":\"contourcarpet\"}],\"contour\":[{\"colorbar\":{\"outlinewidth\":1,\"tickcolor\":\"rgb(36,36,36)\",\"ticks\":\"outside\"},\"colorscale\":[[0.0,\"#440154\"],[0.1111111111111111,\"#482878\"],[0.2222222222222222,\"#3e4989\"],[0.3333333333333333,\"#31688e\"],[0.4444444444444444,\"#26828e\"],[0.5555555555555556,\"#1f9e89\"],[0.6666666666666666,\"#35b779\"],[0.7777777777777778,\"#6ece58\"],[0.8888888888888888,\"#b5de2b\"],[1.0,\"#fde725\"]],\"type\":\"contour\"}],\"heatmapgl\":[{\"colorbar\":{\"outlinewidth\":1,\"tickcolor\":\"rgb(36,36,36)\",\"ticks\":\"outside\"},\"colorscale\":[[0.0,\"#440154\"],[0.1111111111111111,\"#482878\"],[0.2222222222222222,\"#3e4989\"],[0.3333333333333333,\"#31688e\"],[0.4444444444444444,\"#26828e\"],[0.5555555555555556,\"#1f9e89\"],[0.6666666666666666,\"#35b779\"],[0.7777777777777778,\"#6ece58\"],[0.8888888888888888,\"#b5de2b\"],[1.0,\"#fde725\"]],\"type\":\"heatmapgl\"}],\"heatmap\":[{\"colorbar\":{\"outlinewidth\":1,\"tickcolor\":\"rgb(36,36,36)\",\"ticks\":\"outside\"},\"colorscale\":[[0.0,\"#440154\"],[0.1111111111111111,\"#482878\"],[0.2222222222222222,\"#3e4989\"],[0.3333333333333333,\"#31688e\"],[0.4444444444444444,\"#26828e\"],[0.5555555555555556,\"#1f9e89\"],[0.6666666666666666,\"#35b779\"],[0.7777777777777778,\"#6ece58\"],[0.8888888888888888,\"#b5de2b\"],[1.0,\"#fde725\"]],\"type\":\"heatmap\"}],\"histogram2dcontour\":[{\"colorbar\":{\"outlinewidth\":1,\"tickcolor\":\"rgb(36,36,36)\",\"ticks\":\"outside\"},\"colorscale\":[[0.0,\"#440154\"],[0.1111111111111111,\"#482878\"],[0.2222222222222222,\"#3e4989\"],[0.3333333333333333,\"#31688e\"],[0.4444444444444444,\"#26828e\"],[0.5555555555555556,\"#1f9e89\"],[0.6666666666666666,\"#35b779\"],[0.7777777777777778,\"#6ece58\"],[0.8888888888888888,\"#b5de2b\"],[1.0,\"#fde725\"]],\"type\":\"histogram2dcontour\"}],\"histogram2d\":[{\"colorbar\":{\"outlinewidth\":1,\"tickcolor\":\"rgb(36,36,36)\",\"ticks\":\"outside\"},\"colorscale\":[[0.0,\"#440154\"],[0.1111111111111111,\"#482878\"],[0.2222222222222222,\"#3e4989\"],[0.3333333333333333,\"#31688e\"],[0.4444444444444444,\"#26828e\"],[0.5555555555555556,\"#1f9e89\"],[0.6666666666666666,\"#35b779\"],[0.7777777777777778,\"#6ece58\"],[0.8888888888888888,\"#b5de2b\"],[1.0,\"#fde725\"]],\"type\":\"histogram2d\"}],\"histogram\":[{\"marker\":{\"line\":{\"color\":\"white\",\"width\":0.6}},\"type\":\"histogram\"}],\"mesh3d\":[{\"colorbar\":{\"outlinewidth\":1,\"tickcolor\":\"rgb(36,36,36)\",\"ticks\":\"outside\"},\"type\":\"mesh3d\"}],\"parcoords\":[{\"line\":{\"colorbar\":{\"outlinewidth\":1,\"tickcolor\":\"rgb(36,36,36)\",\"ticks\":\"outside\"}},\"type\":\"parcoords\"}],\"pie\":[{\"automargin\":true,\"type\":\"pie\"}],\"scatter3d\":[{\"line\":{\"colorbar\":{\"outlinewidth\":1,\"tickcolor\":\"rgb(36,36,36)\",\"ticks\":\"outside\"}},\"marker\":{\"colorbar\":{\"outlinewidth\":1,\"tickcolor\":\"rgb(36,36,36)\",\"ticks\":\"outside\"}},\"type\":\"scatter3d\"}],\"scattercarpet\":[{\"marker\":{\"colorbar\":{\"outlinewidth\":1,\"tickcolor\":\"rgb(36,36,36)\",\"ticks\":\"outside\"}},\"type\":\"scattercarpet\"}],\"scattergeo\":[{\"marker\":{\"colorbar\":{\"outlinewidth\":1,\"tickcolor\":\"rgb(36,36,36)\",\"ticks\":\"outside\"}},\"type\":\"scattergeo\"}],\"scattergl\":[{\"marker\":{\"colorbar\":{\"outlinewidth\":1,\"tickcolor\":\"rgb(36,36,36)\",\"ticks\":\"outside\"}},\"type\":\"scattergl\"}],\"scattermapbox\":[{\"marker\":{\"colorbar\":{\"outlinewidth\":1,\"tickcolor\":\"rgb(36,36,36)\",\"ticks\":\"outside\"}},\"type\":\"scattermapbox\"}],\"scatterpolargl\":[{\"marker\":{\"colorbar\":{\"outlinewidth\":1,\"tickcolor\":\"rgb(36,36,36)\",\"ticks\":\"outside\"}},\"type\":\"scatterpolargl\"}],\"scatterpolar\":[{\"marker\":{\"colorbar\":{\"outlinewidth\":1,\"tickcolor\":\"rgb(36,36,36)\",\"ticks\":\"outside\"}},\"type\":\"scatterpolar\"}],\"scatter\":[{\"marker\":{\"colorbar\":{\"outlinewidth\":1,\"tickcolor\":\"rgb(36,36,36)\",\"ticks\":\"outside\"}},\"type\":\"scatter\"}],\"scatterternary\":[{\"marker\":{\"colorbar\":{\"outlinewidth\":1,\"tickcolor\":\"rgb(36,36,36)\",\"ticks\":\"outside\"}},\"type\":\"scatterternary\"}],\"surface\":[{\"colorbar\":{\"outlinewidth\":1,\"tickcolor\":\"rgb(36,36,36)\",\"ticks\":\"outside\"},\"colorscale\":[[0.0,\"#440154\"],[0.1111111111111111,\"#482878\"],[0.2222222222222222,\"#3e4989\"],[0.3333333333333333,\"#31688e\"],[0.4444444444444444,\"#26828e\"],[0.5555555555555556,\"#1f9e89\"],[0.6666666666666666,\"#35b779\"],[0.7777777777777778,\"#6ece58\"],[0.8888888888888888,\"#b5de2b\"],[1.0,\"#fde725\"]],\"type\":\"surface\"}],\"table\":[{\"cells\":{\"fill\":{\"color\":\"rgb(237,237,237)\"},\"line\":{\"color\":\"white\"}},\"header\":{\"fill\":{\"color\":\"rgb(217,217,217)\"},\"line\":{\"color\":\"white\"}},\"type\":\"table\"}]},\"layout\":{\"annotationdefaults\":{\"arrowhead\":0,\"arrowwidth\":1},\"autotypenumbers\":\"strict\",\"coloraxis\":{\"colorbar\":{\"outlinewidth\":1,\"tickcolor\":\"rgb(36,36,36)\",\"ticks\":\"outside\"}},\"colorscale\":{\"diverging\":[[0.0,\"rgb(103,0,31)\"],[0.1,\"rgb(178,24,43)\"],[0.2,\"rgb(214,96,77)\"],[0.3,\"rgb(244,165,130)\"],[0.4,\"rgb(253,219,199)\"],[0.5,\"rgb(247,247,247)\"],[0.6,\"rgb(209,229,240)\"],[0.7,\"rgb(146,197,222)\"],[0.8,\"rgb(67,147,195)\"],[0.9,\"rgb(33,102,172)\"],[1.0,\"rgb(5,48,97)\"]],\"sequential\":[[0.0,\"#440154\"],[0.1111111111111111,\"#482878\"],[0.2222222222222222,\"#3e4989\"],[0.3333333333333333,\"#31688e\"],[0.4444444444444444,\"#26828e\"],[0.5555555555555556,\"#1f9e89\"],[0.6666666666666666,\"#35b779\"],[0.7777777777777778,\"#6ece58\"],[0.8888888888888888,\"#b5de2b\"],[1.0,\"#fde725\"]],\"sequentialminus\":[[0.0,\"#440154\"],[0.1111111111111111,\"#482878\"],[0.2222222222222222,\"#3e4989\"],[0.3333333333333333,\"#31688e\"],[0.4444444444444444,\"#26828e\"],[0.5555555555555556,\"#1f9e89\"],[0.6666666666666666,\"#35b779\"],[0.7777777777777778,\"#6ece58\"],[0.8888888888888888,\"#b5de2b\"],[1.0,\"#fde725\"]]},\"colorway\":[\"#1F77B4\",\"#FF7F0E\",\"#2CA02C\",\"#D62728\",\"#9467BD\",\"#8C564B\",\"#E377C2\",\"#7F7F7F\",\"#BCBD22\",\"#17BECF\"],\"font\":{\"color\":\"rgb(36,36,36)\"},\"geo\":{\"bgcolor\":\"white\",\"lakecolor\":\"white\",\"landcolor\":\"white\",\"showlakes\":true,\"showland\":true,\"subunitcolor\":\"white\"},\"hoverlabel\":{\"align\":\"left\"},\"hovermode\":\"closest\",\"mapbox\":{\"style\":\"light\"},\"paper_bgcolor\":\"white\",\"plot_bgcolor\":\"white\",\"polar\":{\"angularaxis\":{\"gridcolor\":\"rgb(232,232,232)\",\"linecolor\":\"rgb(36,36,36)\",\"showgrid\":false,\"showline\":true,\"ticks\":\"outside\"},\"bgcolor\":\"white\",\"radialaxis\":{\"gridcolor\":\"rgb(232,232,232)\",\"linecolor\":\"rgb(36,36,36)\",\"showgrid\":false,\"showline\":true,\"ticks\":\"outside\"}},\"scene\":{\"xaxis\":{\"backgroundcolor\":\"white\",\"gridcolor\":\"rgb(232,232,232)\",\"gridwidth\":2,\"linecolor\":\"rgb(36,36,36)\",\"showbackground\":true,\"showgrid\":false,\"showline\":true,\"ticks\":\"outside\",\"zeroline\":false,\"zerolinecolor\":\"rgb(36,36,36)\"},\"yaxis\":{\"backgroundcolor\":\"white\",\"gridcolor\":\"rgb(232,232,232)\",\"gridwidth\":2,\"linecolor\":\"rgb(36,36,36)\",\"showbackground\":true,\"showgrid\":false,\"showline\":true,\"ticks\":\"outside\",\"zeroline\":false,\"zerolinecolor\":\"rgb(36,36,36)\"},\"zaxis\":{\"backgroundcolor\":\"white\",\"gridcolor\":\"rgb(232,232,232)\",\"gridwidth\":2,\"linecolor\":\"rgb(36,36,36)\",\"showbackground\":true,\"showgrid\":false,\"showline\":true,\"ticks\":\"outside\",\"zeroline\":false,\"zerolinecolor\":\"rgb(36,36,36)\"}},\"shapedefaults\":{\"fillcolor\":\"black\",\"line\":{\"width\":0},\"opacity\":0.3},\"ternary\":{\"aaxis\":{\"gridcolor\":\"rgb(232,232,232)\",\"linecolor\":\"rgb(36,36,36)\",\"showgrid\":false,\"showline\":true,\"ticks\":\"outside\"},\"baxis\":{\"gridcolor\":\"rgb(232,232,232)\",\"linecolor\":\"rgb(36,36,36)\",\"showgrid\":false,\"showline\":true,\"ticks\":\"outside\"},\"bgcolor\":\"white\",\"caxis\":{\"gridcolor\":\"rgb(232,232,232)\",\"linecolor\":\"rgb(36,36,36)\",\"showgrid\":false,\"showline\":true,\"ticks\":\"outside\"}},\"title\":{\"x\":0.05},\"xaxis\":{\"automargin\":true,\"gridcolor\":\"rgb(232,232,232)\",\"linecolor\":\"rgb(36,36,36)\",\"showgrid\":false,\"showline\":true,\"ticks\":\"outside\",\"title\":{\"standoff\":15},\"zeroline\":false,\"zerolinecolor\":\"rgb(36,36,36)\"},\"yaxis\":{\"automargin\":true,\"gridcolor\":\"rgb(232,232,232)\",\"linecolor\":\"rgb(36,36,36)\",\"showgrid\":false,\"showline\":true,\"ticks\":\"outside\",\"title\":{\"standoff\":15},\"zeroline\":false,\"zerolinecolor\":\"rgb(36,36,36)\"}}},\"xaxis\":{\"anchor\":\"y\",\"domain\":[0.0,1.0],\"title\":{\"text\":\"Year\"}},\"yaxis\":{\"anchor\":\"x\",\"domain\":[0.0,1.0],\"title\":{\"text\":\"ConvRate\"}},\"legend\":{\"title\":{\"text\":\"Source\"},\"tracegroupgap\":0},\"title\":{\"text\":\"Convenience rate for renewable sources in time\"}},                        {\"responsive\": true}                    ).then(function(){\n",
       "                            \n",
       "var gd = document.getElementById('80ef263e-c379-4b92-9d4f-71d82b78a07e');\n",
       "var x = new MutationObserver(function (mutations, observer) {{\n",
       "        var display = window.getComputedStyle(gd).display;\n",
       "        if (!display || display === 'none') {{\n",
       "            console.log([gd, 'removed!']);\n",
       "            Plotly.purge(gd);\n",
       "            observer.disconnect();\n",
       "        }}\n",
       "}});\n",
       "\n",
       "// Listen for the removal of the full notebook cells\n",
       "var notebookContainer = gd.closest('#notebook-container');\n",
       "if (notebookContainer) {{\n",
       "    x.observe(notebookContainer, {childList: true});\n",
       "}}\n",
       "\n",
       "// Listen for the clearing of the current output cell\n",
       "var outputEl = gd.closest('.output');\n",
       "if (outputEl) {{\n",
       "    x.observe(outputEl, {childList: true});\n",
       "}}\n",
       "\n",
       "                        })                };                });            </script>        </div>"
      ]
     },
     "metadata": {},
     "output_type": "display_data"
    }
   ],
   "source": [
    "convRate=[]\n",
    "source=[]\n",
    "year=[]\n",
    "tmp = dFrame1\n",
    "ye=[]\n",
    "for i in dFrame1.index:\n",
    "    ye.append(dFrame1['Date'][i].year)\n",
    "tmp['Year']=ye\n",
    "for yr in tmp['Year'].unique():\n",
    "    tmp1 = tmp.loc[tmp['Year']==yr]\n",
    "    for s in tmp1['ESL2'].unique():\n",
    "        tmp2 = tmp1.loc[tmp1['ESL2']==s]\n",
    "        convRate.append(tmp2['ConvRate'].mean())\n",
    "        source.append(s)\n",
    "        year.append(yr);\n",
    "\n",
    "tmp3 = pd.DataFrame(list(zip(year, source, convRate)), columns = ['Year', 'Source', 'ConvRate'])\n",
    "fig = px.line(tmp3, x=\"Year\", y=\"ConvRate\", color=\"Source\", \n",
    "              title='Convenience rate for renewable sources in time',\n",
    "              template=\"simple_white\")\n",
    "fig.show()\n",
    "    "
   ]
  },
  {
   "cell_type": "code",
   "execution_count": 317,
   "id": "7d297c2c",
   "metadata": {},
   "outputs": [
    {
     "data": {
      "text/html": [
       "<div>\n",
       "<style scoped>\n",
       "    .dataframe tbody tr th:only-of-type {\n",
       "        vertical-align: middle;\n",
       "    }\n",
       "\n",
       "    .dataframe tbody tr th {\n",
       "        vertical-align: top;\n",
       "    }\n",
       "\n",
       "    .dataframe thead th {\n",
       "        text-align: right;\n",
       "    }\n",
       "</style>\n",
       "<table border=\"1\" class=\"dataframe\">\n",
       "  <thead>\n",
       "    <tr style=\"text-align: right;\">\n",
       "      <th></th>\n",
       "      <th>Company</th>\n",
       "      <th>Project</th>\n",
       "      <th>Start</th>\n",
       "      <th>End</th>\n",
       "      <th>Tariff</th>\n",
       "      <th>ESL2</th>\n",
       "      <th>ESL3</th>\n",
       "      <th>Technology</th>\n",
       "      <th>Capacity</th>\n",
       "      <th>Hub Height</th>\n",
       "      <th>...</th>\n",
       "      <th>Municipality Code</th>\n",
       "      <th>Postcode</th>\n",
       "      <th>Address</th>\n",
       "      <th>Lat</th>\n",
       "      <th>Lon</th>\n",
       "      <th>NUTS1</th>\n",
       "      <th>NUTS2</th>\n",
       "      <th>NUTS3</th>\n",
       "      <th>Production</th>\n",
       "      <th>Country</th>\n",
       "    </tr>\n",
       "  </thead>\n",
       "  <tbody>\n",
       "    <tr>\n",
       "      <th>0</th>\n",
       "      <td>Otto Wartmann</td>\n",
       "      <td>BHKW Wartmann Holzhof Bissegg</td>\n",
       "      <td>2004-07-01</td>\n",
       "      <td>2024-12-31</td>\n",
       "      <td>578452.0</td>\n",
       "      <td>Bioenergy</td>\n",
       "      <td>Biomass and biogas</td>\n",
       "      <td>Other or unspecified technology</td>\n",
       "      <td>0.755</td>\n",
       "      <td>0.0</td>\n",
       "      <td>...</td>\n",
       "      <td>8514.0</td>\n",
       "      <td>8514.0</td>\n",
       "      <td>Holzhof / Hüttlingerstrasse 22</td>\n",
       "      <td>47.561900</td>\n",
       "      <td>9.035300</td>\n",
       "      <td>CH0</td>\n",
       "      <td>CH05</td>\n",
       "      <td>CH057</td>\n",
       "      <td>1127.500</td>\n",
       "      <td>Switzerland</td>\n",
       "    </tr>\n",
       "    <tr>\n",
       "      <th>1</th>\n",
       "      <td>Davos Biogas GmbH</td>\n",
       "      <td>Biogasanlage Davos</td>\n",
       "      <td>2004-11-24</td>\n",
       "      <td>2024-12-31</td>\n",
       "      <td>228421.0</td>\n",
       "      <td>Bioenergy</td>\n",
       "      <td>Biomass and biogas</td>\n",
       "      <td>Other or unspecified technology</td>\n",
       "      <td>0.080</td>\n",
       "      <td>0.0</td>\n",
       "      <td>...</td>\n",
       "      <td>7260.0</td>\n",
       "      <td>7260.0</td>\n",
       "      <td>Duchliweg 13</td>\n",
       "      <td>46.808300</td>\n",
       "      <td>9.839300</td>\n",
       "      <td>CH0</td>\n",
       "      <td>CH05</td>\n",
       "      <td>CH056</td>\n",
       "      <td>499.121</td>\n",
       "      <td>Switzerland</td>\n",
       "    </tr>\n",
       "    <tr>\n",
       "      <th>2</th>\n",
       "      <td>Armin Müller-Flühler</td>\n",
       "      <td>B BHKW Armin Müller-Flühler Ermensee</td>\n",
       "      <td>2005-10-04</td>\n",
       "      <td>2025-12-31</td>\n",
       "      <td>622598.0</td>\n",
       "      <td>Bioenergy</td>\n",
       "      <td>Biomass and biogas</td>\n",
       "      <td>Other or unspecified technology</td>\n",
       "      <td>0.260</td>\n",
       "      <td>0.0</td>\n",
       "      <td>...</td>\n",
       "      <td>6294.0</td>\n",
       "      <td>6294.0</td>\n",
       "      <td>Grundacher 2</td>\n",
       "      <td>47.227800</td>\n",
       "      <td>8.236300</td>\n",
       "      <td>CH0</td>\n",
       "      <td>CH06</td>\n",
       "      <td>CH061</td>\n",
       "      <td>1475.020</td>\n",
       "      <td>Switzerland</td>\n",
       "    </tr>\n",
       "    <tr>\n",
       "      <th>3</th>\n",
       "      <td>Hydroelectra AG</td>\n",
       "      <td>Wasserkraftanlage Frinvillier</td>\n",
       "      <td>2006-01-01</td>\n",
       "      <td>2031-12-31</td>\n",
       "      <td>349497.0</td>\n",
       "      <td>Hydro</td>\n",
       "      <td>ND</td>\n",
       "      <td>Other or unspecified technology</td>\n",
       "      <td>0.450</td>\n",
       "      <td>0.0</td>\n",
       "      <td>...</td>\n",
       "      <td>2535.0</td>\n",
       "      <td>2535.0</td>\n",
       "      <td>Rue du canal 41</td>\n",
       "      <td>47.169100</td>\n",
       "      <td>7.254900</td>\n",
       "      <td>CH0</td>\n",
       "      <td>CH02</td>\n",
       "      <td>CH021</td>\n",
       "      <td>1327.940</td>\n",
       "      <td>Switzerland</td>\n",
       "    </tr>\n",
       "    <tr>\n",
       "      <th>4</th>\n",
       "      <td>Val Biogas GmbH</td>\n",
       "      <td>Biogas Val Visp</td>\n",
       "      <td>2006-01-01</td>\n",
       "      <td>2026-12-31</td>\n",
       "      <td>598310.0</td>\n",
       "      <td>Bioenergy</td>\n",
       "      <td>Biomass and biogas</td>\n",
       "      <td>Other or unspecified technology</td>\n",
       "      <td>0.480</td>\n",
       "      <td>0.0</td>\n",
       "      <td>...</td>\n",
       "      <td>3930.0</td>\n",
       "      <td>3930.0</td>\n",
       "      <td>Grosseye 12</td>\n",
       "      <td>46.294200</td>\n",
       "      <td>7.908400</td>\n",
       "      <td>CH0</td>\n",
       "      <td>CH01</td>\n",
       "      <td>CH012</td>\n",
       "      <td>1425.600</td>\n",
       "      <td>Switzerland</td>\n",
       "    </tr>\n",
       "    <tr>\n",
       "      <th>...</th>\n",
       "      <td>...</td>\n",
       "      <td>...</td>\n",
       "      <td>...</td>\n",
       "      <td>...</td>\n",
       "      <td>...</td>\n",
       "      <td>...</td>\n",
       "      <td>...</td>\n",
       "      <td>...</td>\n",
       "      <td>...</td>\n",
       "      <td>...</td>\n",
       "      <td>...</td>\n",
       "      <td>...</td>\n",
       "      <td>...</td>\n",
       "      <td>...</td>\n",
       "      <td>...</td>\n",
       "      <td>...</td>\n",
       "      <td>...</td>\n",
       "      <td>...</td>\n",
       "      <td>...</td>\n",
       "      <td>...</td>\n",
       "      <td>...</td>\n",
       "    </tr>\n",
       "    <tr>\n",
       "      <th>1887268</th>\n",
       "      <td>ND</td>\n",
       "      <td>ND</td>\n",
       "      <td>2011-10-01</td>\n",
       "      <td>2018-01-31</td>\n",
       "      <td>0.0</td>\n",
       "      <td>Bioenergy</td>\n",
       "      <td>Other or unspecified</td>\n",
       "      <td>ND</td>\n",
       "      <td>0.253</td>\n",
       "      <td>0.0</td>\n",
       "      <td>...</td>\n",
       "      <td>43205.0</td>\n",
       "      <td>ND</td>\n",
       "      <td>ND</td>\n",
       "      <td>45.346565</td>\n",
       "      <td>4.322328</td>\n",
       "      <td>FRK</td>\n",
       "      <td>FRK1</td>\n",
       "      <td>FRK13</td>\n",
       "      <td>0.000</td>\n",
       "      <td>France</td>\n",
       "    </tr>\n",
       "    <tr>\n",
       "      <th>1888543</th>\n",
       "      <td>ND</td>\n",
       "      <td>ND</td>\n",
       "      <td>2012-01-10</td>\n",
       "      <td>2018-01-14</td>\n",
       "      <td>0.0</td>\n",
       "      <td>Hydro</td>\n",
       "      <td>ND</td>\n",
       "      <td>Other or unspecified technology</td>\n",
       "      <td>0.270</td>\n",
       "      <td>0.0</td>\n",
       "      <td>...</td>\n",
       "      <td>38337.0</td>\n",
       "      <td>ND</td>\n",
       "      <td>ND</td>\n",
       "      <td>45.360472</td>\n",
       "      <td>5.487182</td>\n",
       "      <td>FRK</td>\n",
       "      <td>FRK2</td>\n",
       "      <td>FRK24</td>\n",
       "      <td>0.000</td>\n",
       "      <td>France</td>\n",
       "    </tr>\n",
       "    <tr>\n",
       "      <th>1891673</th>\n",
       "      <td>ND</td>\n",
       "      <td>ND</td>\n",
       "      <td>2013-02-14</td>\n",
       "      <td>2018-01-01</td>\n",
       "      <td>0.0</td>\n",
       "      <td>Bioenergy</td>\n",
       "      <td>Other or unspecified</td>\n",
       "      <td>ND</td>\n",
       "      <td>0.800</td>\n",
       "      <td>0.0</td>\n",
       "      <td>...</td>\n",
       "      <td>44208.0</td>\n",
       "      <td>ND</td>\n",
       "      <td>ND</td>\n",
       "      <td>47.612712</td>\n",
       "      <td>-1.528115</td>\n",
       "      <td>FRG</td>\n",
       "      <td>FRG0</td>\n",
       "      <td>FRG01</td>\n",
       "      <td>0.000</td>\n",
       "      <td>France</td>\n",
       "    </tr>\n",
       "    <tr>\n",
       "      <th>1894961</th>\n",
       "      <td>ND</td>\n",
       "      <td>ND</td>\n",
       "      <td>2014-09-10</td>\n",
       "      <td>2034-09-10</td>\n",
       "      <td>0.0</td>\n",
       "      <td>Solar</td>\n",
       "      <td>ND</td>\n",
       "      <td>Other or unspecified technology</td>\n",
       "      <td>0.070</td>\n",
       "      <td>0.0</td>\n",
       "      <td>...</td>\n",
       "      <td>73074.0</td>\n",
       "      <td>ND</td>\n",
       "      <td>ND</td>\n",
       "      <td>45.421601</td>\n",
       "      <td>6.294102</td>\n",
       "      <td>FRK</td>\n",
       "      <td>FRK2</td>\n",
       "      <td>FRK27</td>\n",
       "      <td>0.000</td>\n",
       "      <td>France</td>\n",
       "    </tr>\n",
       "    <tr>\n",
       "      <th>1900248</th>\n",
       "      <td>ND</td>\n",
       "      <td>ND</td>\n",
       "      <td>2017-11-23</td>\n",
       "      <td>2037-11-23</td>\n",
       "      <td>0.0</td>\n",
       "      <td>Solar</td>\n",
       "      <td>ND</td>\n",
       "      <td>Other or unspecified technology</td>\n",
       "      <td>0.099</td>\n",
       "      <td>0.0</td>\n",
       "      <td>...</td>\n",
       "      <td>60035.0</td>\n",
       "      <td>ND</td>\n",
       "      <td>ND</td>\n",
       "      <td>49.649451</td>\n",
       "      <td>2.864103</td>\n",
       "      <td>FRE</td>\n",
       "      <td>FRE2</td>\n",
       "      <td>FRE22</td>\n",
       "      <td>0.000</td>\n",
       "      <td>France</td>\n",
       "    </tr>\n",
       "  </tbody>\n",
       "</table>\n",
       "<p>12728 rows × 28 columns</p>\n",
       "</div>"
      ],
      "text/plain": [
       "                      Company                               Project  \\\n",
       "0               Otto Wartmann        BHKW Wartmann Holzhof Bissegg    \n",
       "1           Davos Biogas GmbH                    Biogasanlage Davos   \n",
       "2        Armin Müller-Flühler  B BHKW Armin Müller-Flühler Ermensee   \n",
       "3             Hydroelectra AG         Wasserkraftanlage Frinvillier   \n",
       "4             Val Biogas GmbH                       Biogas Val Visp   \n",
       "...                       ...                                   ...   \n",
       "1887268                    ND                                    ND   \n",
       "1888543                    ND                                    ND   \n",
       "1891673                    ND                                    ND   \n",
       "1894961                    ND                                    ND   \n",
       "1900248                    ND                                    ND   \n",
       "\n",
       "             Start        End    Tariff       ESL2                  ESL3  \\\n",
       "0       2004-07-01 2024-12-31  578452.0  Bioenergy    Biomass and biogas   \n",
       "1       2004-11-24 2024-12-31  228421.0  Bioenergy    Biomass and biogas   \n",
       "2       2005-10-04 2025-12-31  622598.0  Bioenergy    Biomass and biogas   \n",
       "3       2006-01-01 2031-12-31  349497.0      Hydro                    ND   \n",
       "4       2006-01-01 2026-12-31  598310.0  Bioenergy    Biomass and biogas   \n",
       "...            ...        ...       ...        ...                   ...   \n",
       "1887268 2011-10-01 2018-01-31       0.0  Bioenergy  Other or unspecified   \n",
       "1888543 2012-01-10 2018-01-14       0.0      Hydro                    ND   \n",
       "1891673 2013-02-14 2018-01-01       0.0  Bioenergy  Other or unspecified   \n",
       "1894961 2014-09-10 2034-09-10       0.0      Solar                    ND   \n",
       "1900248 2017-11-23 2037-11-23       0.0      Solar                    ND   \n",
       "\n",
       "                              Technology  Capacity  Hub Height  ...  \\\n",
       "0        Other or unspecified technology     0.755         0.0  ...   \n",
       "1        Other or unspecified technology     0.080         0.0  ...   \n",
       "2        Other or unspecified technology     0.260         0.0  ...   \n",
       "3        Other or unspecified technology     0.450         0.0  ...   \n",
       "4        Other or unspecified technology     0.480         0.0  ...   \n",
       "...                                  ...       ...         ...  ...   \n",
       "1887268                               ND     0.253         0.0  ...   \n",
       "1888543  Other or unspecified technology     0.270         0.0  ...   \n",
       "1891673                               ND     0.800         0.0  ...   \n",
       "1894961  Other or unspecified technology     0.070         0.0  ...   \n",
       "1900248  Other or unspecified technology     0.099         0.0  ...   \n",
       "\n",
       "         Municipality Code Postcode                         Address  \\\n",
       "0                   8514.0   8514.0  Holzhof / Hüttlingerstrasse 22   \n",
       "1                   7260.0   7260.0                    Duchliweg 13   \n",
       "2                   6294.0   6294.0                    Grundacher 2   \n",
       "3                   2535.0   2535.0                 Rue du canal 41   \n",
       "4                   3930.0   3930.0                     Grosseye 12   \n",
       "...                    ...      ...                             ...   \n",
       "1887268            43205.0       ND                              ND   \n",
       "1888543            38337.0       ND                              ND   \n",
       "1891673            44208.0       ND                              ND   \n",
       "1894961            73074.0       ND                              ND   \n",
       "1900248            60035.0       ND                              ND   \n",
       "\n",
       "               Lat       Lon NUTS1 NUTS2  NUTS3  Production      Country  \n",
       "0        47.561900  9.035300   CH0  CH05  CH057    1127.500  Switzerland  \n",
       "1        46.808300  9.839300   CH0  CH05  CH056     499.121  Switzerland  \n",
       "2        47.227800  8.236300   CH0  CH06  CH061    1475.020  Switzerland  \n",
       "3        47.169100  7.254900   CH0  CH02  CH021    1327.940  Switzerland  \n",
       "4        46.294200  7.908400   CH0  CH01  CH012    1425.600  Switzerland  \n",
       "...            ...       ...   ...   ...    ...         ...          ...  \n",
       "1887268  45.346565  4.322328   FRK  FRK1  FRK13       0.000       France  \n",
       "1888543  45.360472  5.487182   FRK  FRK2  FRK24       0.000       France  \n",
       "1891673  47.612712 -1.528115   FRG  FRG0  FRG01       0.000       France  \n",
       "1894961  45.421601  6.294102   FRK  FRK2  FRK27       0.000       France  \n",
       "1900248  49.649451  2.864103   FRE  FRE2  FRE22       0.000       France  \n",
       "\n",
       "[12728 rows x 28 columns]"
      ]
     },
     "execution_count": 317,
     "metadata": {},
     "output_type": "execute_result"
    }
   ],
   "source": [
    "df2"
   ]
  },
  {
   "cell_type": "code",
   "execution_count": 355,
   "id": "05d39921",
   "metadata": {},
   "outputs": [],
   "source": [
    "period=[]\n",
    "tariff=[]\n",
    "source=[]\n",
    "rate=[]\n",
    "startDate=[]\n",
    "company=[]\n",
    "tmp = df2.loc[df2['Tariff']!=0]\n",
    "for i in tmp.index:\n",
    "    p = abs((tmp['End'][i] - tmp['Start'][i]).days)\n",
    "    period.append(p)\n",
    "    tariff.append(tmp['Tariff'][i])\n",
    "    source.append(tmp['ESL2'][i])\n",
    "    r = (p/365)/tmp['Tariff'][i]\n",
    "    rate.append(r)\n",
    "    startDate.append(tmp['Start'][i])\n",
    "    company.append(tmp['Company'][i])\n",
    "    \n",
    "dataFrame = pd.DataFrame(list(zip(startDate, source,tariff,period, rate, company)), columns = ['Date', 'ESL2','Tariff', 'Period', 'ConvRate', 'Company'])\n",
    "\n",
    "AVGConvRate=[]\n",
    "Company=[]\n",
    "Source=[]\n",
    "for c in dataFrame['Company'].unique():\n",
    "    df10 = dataFrame.loc[dataFrame['Company']==c]\n",
    "    for s in df10['ESL2'].unique():\n",
    "        df11 = df10.loc[df10['ESL2']==s]\n",
    "        AVGConvRate.append(df11['ConvRate'].mean())\n",
    "        Company.append(c)\n",
    "        Source.append(s)\n",
    "dataFrame1 = pd.DataFrame(list(zip(Source, Company,AVGTariff)), columns = ['Source', 'Company','AVGConvRate'])"
   ]
  },
  {
   "cell_type": "code",
   "execution_count": 356,
   "id": "c0cd7399",
   "metadata": {},
   "outputs": [],
   "source": [
    "bioFrame = dataFrame1.loc[dataFrame1['Source']=='Bioenergy']\n",
    "bioFrame = bioFrame.loc[bioFrame['AVGConvRate']!=0]\n",
    "windFrame = dataFrame1.loc[dataFrame1['Source']=='Wind']\n",
    "windFrame = windFrame.loc[windFrame['AVGConvRate']!=0]\n",
    "solarFrame = dataFrame1.loc[dataFrame1['Source']=='Solar']\n",
    "solarFrame = solarFrame.loc[solarFrame['AVGConvRate']!=0]\n",
    "hydroFrame = dataFrame1.loc[dataFrame1['Source']=='Hydro']\n",
    "hydroFrame = hydroFrame.loc[hydroFrame['AVGConvRate']!=0]"
   ]
  },
  {
   "cell_type": "code",
   "execution_count": 359,
   "id": "bcd577ad",
   "metadata": {},
   "outputs": [
    {
     "data": {
      "image/png": "[encoded data removed]",
      "text/plain": [
       "<Figure size 2160x720 with 1 Axes>"
      ]
     },
     "metadata": {
      "needs_background": "light"
     },
     "output_type": "display_data"
    }
   ],
   "source": [
    "gdp = bioFrame.sort_values(by='AVGConvRate', ascending=False)[:10]\n",
    "figure = plt.figure(figsize=(30,10))\n",
    "sns.barplot(y=gdp.AVGConvRate, x=gdp.Company)\n",
    "plt.xticks()\n",
    "plt.xlabel('Company')\n",
    "plt.ylabel('AVGConvRate')\n",
    "plt.title('Company for Bioenergy source with highest Convenience rate')\n",
    "plt.show()"
   ]
  },
  {
   "cell_type": "code",
   "execution_count": 365,
   "id": "6a014516",
   "metadata": {},
   "outputs": [
    {
     "data": {
      "image/png": "[encoded data removed]",
      "text/plain": [
       "<Figure size 2160x1440 with 1 Axes>"
      ]
     },
     "metadata": {
      "needs_background": "light"
     },
     "output_type": "display_data"
    }
   ],
   "source": [
    "gdp = windFrame.sort_values(by='AVGConvRate', ascending=False)[:10]\n",
    "figure = plt.figure(figsize=(30,20))\n",
    "sns.barplot(y=gdp.AVGConvRate, x=gdp.Company)\n",
    "plt.xticks()\n",
    "plt.xlabel('Company')\n",
    "plt.ylabel('AVGConvRate')\n",
    "plt.title('Company for Wind source with highest Convenience rate')\n",
    "plt.show()"
   ]
  },
  {
   "cell_type": "code",
   "execution_count": 366,
   "id": "9215fafe",
   "metadata": {},
   "outputs": [
    {
     "data": {
      "image/png": "[encoded data removed]",
      "text/plain": [
       "<Figure size 2160x720 with 1 Axes>"
      ]
     },
     "metadata": {
      "needs_background": "light"
     },
     "output_type": "display_data"
    }
   ],
   "source": [
    "gdp = solarFrame.sort_values(by='AVGConvRate', ascending=False)[:10]\n",
    "figure = plt.figure(figsize=(30,10))\n",
    "sns.barplot(y=gdp.AVGConvRate, x=gdp.Company)\n",
    "plt.xticks()\n",
    "plt.xlabel('Company')\n",
    "plt.ylabel('AVGConvRate')\n",
    "plt.title('Company for Solar source with highest Convenience rate')\n",
    "plt.show()"
   ]
  },
  {
   "cell_type": "code",
   "execution_count": 367,
   "id": "6199946d",
   "metadata": {},
   "outputs": [
    {
     "data": {
      "image/png": "[encoded data removed]",
      "text/plain": [
       "<Figure size 2160x720 with 1 Axes>"
      ]
     },
     "metadata": {
      "needs_background": "light"
     },
     "output_type": "display_data"
    }
   ],
   "source": [
    "gdp = hydroFrame.sort_values(by='AVGConvRate', ascending=False)[:10]\n",
    "figure = plt.figure(figsize=(30,10))\n",
    "sns.barplot(y=gdp.AVGConvRate, x=gdp.Company)\n",
    "plt.xticks()\n",
    "plt.xlabel('Company')\n",
    "plt.ylabel('AVGConvRate')\n",
    "plt.title('Company for Hydro source with highest Convenience rate')\n",
    "plt.show()"
   ]
  },
  {
   "cell_type": "code",
   "execution_count": null,
   "id": "b499227c",
   "metadata": {},
   "outputs": [],
   "source": []
  },
  {
   "cell_type": "code",
   "execution_count": null,
   "id": "5c3363a0",
   "metadata": {},
   "outputs": [],
   "source": []
  },
  {
   "cell_type": "code",
   "execution_count": null,
   "id": "d0519ad9",
   "metadata": {},
   "outputs": [],
   "source": []
  },
  {
   "cell_type": "code",
   "execution_count": null,
   "id": "3503654b",
   "metadata": {},
   "outputs": [],
   "source": []
  },
  {
   "cell_type": "code",
   "execution_count": null,
   "id": "71421643",
   "metadata": {},
   "outputs": [],
   "source": []
  },
  {
   "cell_type": "code",
   "execution_count": null,
   "id": "8b5d242b",
   "metadata": {},
   "outputs": [],
   "source": []
  },
  {
   "cell_type": "code",
   "execution_count": null,
   "id": "380cf18a",
   "metadata": {},
   "outputs": [],
   "source": []
  },
  {
   "cell_type": "code",
   "execution_count": null,
   "id": "8869c9c5",
   "metadata": {},
   "outputs": [],
   "source": []
  },
  {
   "cell_type": "code",
   "execution_count": null,
   "id": "b33d6a2f",
   "metadata": {},
   "outputs": [],
   "source": []
  },
  {
   "cell_type": "code",
   "execution_count": null,
   "id": "79de53a4",
   "metadata": {},
   "outputs": [],
   "source": []
  },
  {
   "cell_type": "code",
   "execution_count": null,
   "id": "f145f2f9",
   "metadata": {},
   "outputs": [],
   "source": []
  }
 ],
 "metadata": {
  "kernelspec": {
   "display_name": "Python 3 (ipykernel)",
   "language": "python",
   "name": "python3"
  },
  "language_info": {
   "codemirror_mode": {
    "name": "ipython",
    "version": 3
   },
   "file_extension": ".py",
   "mimetype": "text/x-python",
   "name": "python",
   "nbconvert_exporter": "python",
   "pygments_lexer": "ipython3",
   "version": "3.9.7"
  }
 },
 "nbformat": 4,
 "nbformat_minor": 5
}
